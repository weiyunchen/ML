{
 "cells": [
  {
   "cell_type": "markdown",
   "metadata": {},
   "source": [
    "## 时间序列数据处理"
   ]
  },
  {
   "cell_type": "markdown",
   "metadata": {},
   "source": [
    "#### 介绍"
   ]
  },
  {
   "cell_type": "markdown",
   "metadata": {},
   "source": [
    "时间序列是数据分析中经常会遇到的数据类型。了解并掌握相关特征及处理方法，能够帮助我们应对时间序列分析任务。本次实验中，我们重点学习使用 Pandas 对时间序列的一系列预处理技巧。"
   ]
  },
  {
   "cell_type": "markdown",
   "metadata": {},
   "source": [
    "#### 知识点"
   ]
  },
  {
   "cell_type": "markdown",
   "metadata": {},
   "source": [
    "- 时间生成\n",
    "- 时间转换\n",
    "- 时间计算\n",
    "- 时区\n",
    "- 时间戳\n",
    "- 时间戳索引\n",
    "- 时序检索\n",
    "- 时序偏移\n",
    "- 重采样"
   ]
  },
  {
   "cell_type": "markdown",
   "metadata": {},
   "source": [
    "时间序列分析是数据分析过程中，尤其是在金融数据分析过程中会经常遇到的。时间序列，就是以时间排序的一组随机变量，例如国家统计局每年或每月定期发布的 GDP 或 CPI 指数；一段时间内股票、基金、指数的数值变化等，都是时间序列。\n",
    "\n",
    "下图呈现了 Google 公司仅 5 年的股价变化曲线。实际上，这条曲线由每天的收盘价绘制而成，这就是一个典型的时间序列数据集。"
   ]
  },
  {
   "cell_type": "markdown",
   "metadata": {},
   "source": [
    "![](https://upload-images.jianshu.io/upload_images/15406304-6dcad5362ce925af.png?imageMogr2/auto-orient/strip%7CimageView2/2/w/1240)"
   ]
  },
  {
   "cell_type": "markdown",
   "metadata": {},
   "source": [
    "除了金融领域，时间序列在环境、物理等其他方面都广为存在。例如空气质量指数随时间变化，服务器日志数据随时间的产生。"
   ]
  },
  {
   "cell_type": "markdown",
   "metadata": {},
   "source": [
    "同样，Pandas 提供了一系列标准的时间序列处理工具和算法，是使用 Python 对时间序列处理分析中必不可缺的法宝。接下来，我们将了解时间的产生，时间序列的生成、索引、切片、采样等内容。"
   ]
  },
  {
   "cell_type": "markdown",
   "metadata": {},
   "source": [
    "### 时间生成"
   ]
  },
  {
   "cell_type": "markdown",
   "metadata": {},
   "source": [
    "在学习时间序列前，首先需要了解时间。Python 中，我们通常会使用 `datetime`，`time` 模块来完成时间操作。例如，我们需要打印出当前时间。"
   ]
  },
  {
   "cell_type": "markdown",
   "metadata": {},
   "source": [
    "官方文档 [<i class=\"fa fa-external-link-square\" aria-hidden=\"true\"> datetime.datetime.now</i>](https://docs.python.org/3/library/datetime.html#datetime.datetime.now)"
   ]
  },
  {
   "cell_type": "code",
   "execution_count": 1,
   "metadata": {},
   "outputs": [
    {
     "data": {
      "text/plain": [
       "datetime.datetime(2019, 5, 3, 2, 2, 37, 221433)"
      ]
     },
     "execution_count": 1,
     "metadata": {},
     "output_type": "execute_result"
    }
   ],
   "source": [
    "import datetime\n",
    "\n",
    "datetime.datetime.now() # 获取当前时间"
   ]
  },
  {
   "cell_type": "markdown",
   "metadata": {},
   "source": [
    "可以看到，`datetime.datetime.now()` 返回了一个时间对象，依次为：年、月、日、时、分、秒、毫秒。其中，毫秒的取值范围在 `0 <= microsecond < 1000000`。`datetime.datetime.now()` 还有一个等效方法为 `datetime.datetime.today()`。"
   ]
  },
  {
   "cell_type": "code",
   "execution_count": 2,
   "metadata": {},
   "outputs": [
    {
     "data": {
      "text/plain": [
       "datetime.datetime(2019, 5, 3, 2, 2, 37, 296710)"
      ]
     },
     "execution_count": 2,
     "metadata": {},
     "output_type": "execute_result"
    }
   ],
   "source": [
    "datetime.datetime.today() # 获取当前时间"
   ]
  },
  {
   "cell_type": "markdown",
   "metadata": {},
   "source": [
    "你可以选择只返回时间的一部分。"
   ]
  },
  {
   "cell_type": "code",
   "execution_count": 3,
   "metadata": {},
   "outputs": [
    {
     "data": {
      "text/plain": [
       "2019"
      ]
     },
     "execution_count": 3,
     "metadata": {},
     "output_type": "execute_result"
    }
   ],
   "source": [
    "datetime.datetime.now().year # 返回当前年份"
   ]
  },
  {
   "cell_type": "markdown",
   "metadata": {},
   "source": [
    "除了获取当前时间，你可以手动指定时间对象。"
   ]
  },
  {
   "cell_type": "code",
   "execution_count": 4,
   "metadata": {},
   "outputs": [
    {
     "data": {
      "text/plain": [
       "datetime.datetime(2017, 10, 1, 10, 59, 30)"
      ]
     },
     "execution_count": 4,
     "metadata": {},
     "output_type": "execute_result"
    }
   ],
   "source": [
    "datetime.datetime(2017, 10, 1, 10, 59, 30) # 指定任意时间"
   ]
  },
  {
   "cell_type": "markdown",
   "metadata": {},
   "source": [
    "### 时间计算"
   ]
  },
  {
   "cell_type": "markdown",
   "metadata": {},
   "source": [
    "`datetime` 时间对象是可以参与计算的。比如增加一定时间和年份，年份间隔计算等。"
   ]
  },
  {
   "cell_type": "code",
   "execution_count": 5,
   "metadata": {},
   "outputs": [
    {
     "data": {
      "text/plain": [
       "datetime.timedelta(365)"
      ]
     },
     "execution_count": 5,
     "metadata": {},
     "output_type": "execute_result"
    }
   ],
   "source": [
    "datetime.datetime(2018, 10, 1) - datetime.datetime(2017, 10, 1) # 计算时间间隔"
   ]
  },
  {
   "cell_type": "markdown",
   "metadata": {},
   "source": [
    "可以看到，上面返回了 `datetime.datetime.timedelta` 对象。`timedelta` 可以用于表示时间上的不同，但最多只保留 3 位，分别是：天、秒、毫秒。例如："
   ]
  },
  {
   "cell_type": "code",
   "execution_count": 6,
   "metadata": {},
   "outputs": [
    {
     "data": {
      "text/plain": [
       "datetime.timedelta(579, 7357, 689505)"
      ]
     },
     "execution_count": 6,
     "metadata": {},
     "output_type": "execute_result"
    }
   ],
   "source": [
    "datetime.datetime.now() - datetime.datetime(2017, 10, 1) # timedelta 表示间隔时间"
   ]
  },
  {
   "cell_type": "markdown",
   "metadata": {},
   "source": [
    "所以，如果要在当前时间上增加一年。你需要将年份转换为天来计算。"
   ]
  },
  {
   "cell_type": "code",
   "execution_count": 7,
   "metadata": {},
   "outputs": [
    {
     "data": {
      "text/plain": [
       "datetime.datetime(2020, 5, 2, 2, 2, 37, 774537)"
      ]
     },
     "execution_count": 7,
     "metadata": {},
     "output_type": "execute_result"
    }
   ],
   "source": [
    "datetime.datetime.now() + datetime.timedelta(365) # 需将年份转换为天"
   ]
  },
  {
   "cell_type": "markdown",
   "metadata": {},
   "source": [
    "### 时间格式转换"
   ]
  },
  {
   "cell_type": "markdown",
   "metadata": {},
   "source": [
    "`datetime` 对象固然精确，但很多时间我们想将其转换为自定义的时间表示样式，例如：`2018 年 10 月 1 日`，或者 `2018/10/1` 等。此时，就需要将 `datetime` 对象转换为字符串对象了。"
   ]
  },
  {
   "cell_type": "markdown",
   "metadata": {},
   "source": [
    "我们可以使用 `strftime` 来完成时间与字符串之间的转换。"
   ]
  },
  {
   "cell_type": "markdown",
   "metadata": {},
   "source": [
    "官方文档 [<i class=\"fa fa-external-link-square\" aria-hidden=\"true\"> datetime.date.strftime</i>](https://docs.python.org/3/library/datetime.html#datetime.date.strftime)"
   ]
  },
  {
   "cell_type": "code",
   "execution_count": 8,
   "metadata": {},
   "outputs": [
    {
     "data": {
      "text/plain": [
       "'2019-05-03'"
      ]
     },
     "execution_count": 8,
     "metadata": {},
     "output_type": "execute_result"
    }
   ],
   "source": [
    "datetime.datetime.now().strftime('%Y-%m-%d') # 转换为自定义样式"
   ]
  },
  {
   "cell_type": "code",
   "execution_count": 9,
   "metadata": {},
   "outputs": [
    {
     "data": {
      "text/plain": [
       "'2019 年 05 月 03 日'"
      ]
     },
     "execution_count": 9,
     "metadata": {},
     "output_type": "execute_result"
    }
   ],
   "source": [
    "datetime.datetime.now().strftime('%Y 年 %m 月 %d 日') # 转换为自定义样式"
   ]
  },
  {
   "cell_type": "markdown",
   "metadata": {},
   "source": [
    "你会发现我们使用到了占位符。那么，`strftime` 支持的占位符有："
   ]
  },
  {
   "cell_type": "markdown",
   "metadata": {},
   "source": [
    "- `%y` 两位数的年份表示（00-99）\n",
    "- `%Y` 四位数的年份表示（000-9999）\n",
    "- `%m` 月份（01 - 12）\n",
    "- `%d` 月内中的一天（0 - 31）\n",
    "- `%H` 24 小时制小时数（0 - 23）\n",
    "- `%I` 12 小时制小时数（01 - 12）\n",
    "- `%M` 分钟数（00 - 59）\n",
    "- `%S` 秒（00 - 59）\n",
    "- `%a` 本地简化星期名称\n",
    "- `%A` 本地完整星期名称\n",
    "- `%b` 本地简化的月份名称\n",
    "- `%B` 本地完整的月份名称\n",
    "- `%c` 本地相应的日期表示和时间表示\n",
    "- `%j` 年内的一天（001 - 366）\n",
    "- `%p` 本地 A.M. 或 P.M. 的等价符\n",
    "- `%U` 一年中的星期数（00 - 53）星期天为星期的开始\n",
    "- `%w` 星期（0 - 6），星期天为星期的开始\n",
    "- `%W` 一年中的星期数（00 - 53）星期一为星期的开始\n",
    "- `%x` 本地相应的日期表示\n",
    "- `%X` 本地相应的时间表示\n",
    "- `%Z` 当前时区的名称"
   ]
  },
  {
   "cell_type": "markdown",
   "metadata": {},
   "source": [
    "除了 `datetime` 对象转换为字符串，你也可以将字符串时间转换为 `datetime` 对象。此项操作主要是考虑到 `datetime` 对象的灵活性，可以进行二次转换使用。例如，你只需要用占位符表示出原字符串的规则，就能自动将其转换为 `datetime` 时间对象，非常方便。"
   ]
  },
  {
   "cell_type": "code",
   "execution_count": 10,
   "metadata": {},
   "outputs": [
    {
     "data": {
      "text/plain": [
       "datetime.datetime(2018, 10, 1, 0, 0)"
      ]
     },
     "execution_count": 10,
     "metadata": {},
     "output_type": "execute_result"
    }
   ],
   "source": [
    "datetime.datetime.strptime('2018-10-1', '%Y-%m-%d')"
   ]
  },
  {
   "cell_type": "markdown",
   "metadata": {},
   "source": [
    "### 时区"
   ]
  },
  {
   "cell_type": "markdown",
   "metadata": {},
   "source": [
    "时区是地球上的区域使用同一个时间的定义。如果时间是以协调世界时（UTC）表示，那么我们就可以使用 UTC 偏移量来定义不同时区的时间。例如，因为北京位于东八区，那么北京时间就是 UTC +08:00，其代表比协调世界时快 8 小时的时区。"
   ]
  },
  {
   "cell_type": "markdown",
   "metadata": {},
   "source": [
    "![](https://upload-images.jianshu.io/upload_images/15406304-7fb8fe0a844ccfd1.png?imageMogr2/auto-orient/strip%7CimageView2/2/w/1240)"
   ]
  },
  {
   "cell_type": "markdown",
   "metadata": {},
   "source": [
    "当我们使用 `datetime.now()` 打印出来当前的时间时，是不包含时区信息的。这也被称之为 Naive datetime object，即「朴素时区」。我们可以通过 `datetime.datetime.utcnow()` 来获取 UTC 时间。"
   ]
  },
  {
   "cell_type": "code",
   "execution_count": 11,
   "metadata": {},
   "outputs": [
    {
     "data": {
      "text/plain": [
       "datetime.datetime(2019, 5, 2, 18, 2, 38, 662876)"
      ]
     },
     "execution_count": 11,
     "metadata": {},
     "output_type": "execute_result"
    }
   ],
   "source": [
    "datetime.datetime.utcnow() # 获取 UTC 时间"
   ]
  },
  {
   "cell_type": "markdown",
   "metadata": {},
   "source": [
    "那么，此时如果要获取北京时间，就可以 UTC+8:00。"
   ]
  },
  {
   "cell_type": "code",
   "execution_count": 12,
   "metadata": {},
   "outputs": [
    {
     "name": "stdout",
     "output_type": "stream",
     "text": [
      "2019-05-02 18:02:38.743706+08:00\n"
     ]
    }
   ],
   "source": [
    "utc = datetime.datetime.utcnow() # 获取 UTC 时间\n",
    "tzutc_8 = datetime.timezone(datetime.timedelta(hours=8)) # + 8 小时\n",
    "utc_8 = utc.astimezone(tzutc_8) # 添加到时区中\n",
    "print(utc_8)"
   ]
  },
  {
   "cell_type": "markdown",
   "metadata": {},
   "source": [
    "上面介绍了时间，如果我们将时间和采集到的数据对应起来，就组成了时间序列。在一个时间序列中，主要存在两种类型："
   ]
  },
  {
   "cell_type": "markdown",
   "metadata": {},
   "source": [
    "- 时间戳：单个时刻。\n",
    "- 时间间隔：由开始时间戳到结束时间戳组成，有的时间间隔可以是一个时期，例如 2018 年，代表整年的时间间隔。"
   ]
  },
  {
   "cell_type": "markdown",
   "metadata": {},
   "source": [
    "接下来，我们学习使用 Pandas 处理时间序列的方法。"
   ]
  },
  {
   "cell_type": "markdown",
   "metadata": {},
   "source": [
    "### 时间戳 Timestamp"
   ]
  },
  {
   "cell_type": "markdown",
   "metadata": {},
   "source": [
    "时间戳，即代表一个时间时刻。Pandas 中，我们可以直接用 `pd.Timestamp()` 来创建时间戳。"
   ]
  },
  {
   "cell_type": "markdown",
   "metadata": {},
   "source": [
    "官方文档 [<i class=\"fa fa-external-link-square\" aria-hidden=\"true\"> pandas.Timestamp</i>](https://pandas.pydata.org/pandas-docs/stable/generated/pandas.Timestamp.html)"
   ]
  },
  {
   "cell_type": "code",
   "execution_count": 13,
   "metadata": {},
   "outputs": [
    {
     "data": {
      "text/plain": [
       "Timestamp('2018-10-01 00:00:00')"
      ]
     },
     "execution_count": 13,
     "metadata": {},
     "output_type": "execute_result"
    }
   ],
   "source": [
    "import pandas as pd\n",
    "\n",
    "pd.Timestamp(\"2018-10-1\")"
   ]
  },
  {
   "cell_type": "markdown",
   "metadata": {},
   "source": [
    "或者结合 `datetime` 模块创建时间戳。"
   ]
  },
  {
   "cell_type": "code",
   "execution_count": 14,
   "metadata": {},
   "outputs": [
    {
     "data": {
      "text/plain": [
       "Timestamp('2019-05-03 02:02:39.446324')"
      ]
     },
     "execution_count": 14,
     "metadata": {},
     "output_type": "execute_result"
    }
   ],
   "source": [
    "pd.Timestamp(datetime.datetime.now())"
   ]
  },
  {
   "cell_type": "markdown",
   "metadata": {},
   "source": [
    "除此之外，我们还可以使用 `pd.to_datetime()` 来创建时间戳，例如："
   ]
  },
  {
   "cell_type": "markdown",
   "metadata": {},
   "source": [
    "官方文档 [<i class=\"fa fa-external-link-square\" aria-hidden=\"true\"> pandas.to_datetime</i>](https://pandas.pydata.org/pandas-docs/stable/generated/pandas.to_datetime.html)"
   ]
  },
  {
   "cell_type": "code",
   "execution_count": 15,
   "metadata": {},
   "outputs": [
    {
     "data": {
      "text/plain": [
       "Timestamp('2018-01-10 00:00:00')"
      ]
     },
     "execution_count": 15,
     "metadata": {},
     "output_type": "execute_result"
    }
   ],
   "source": [
    "pd.to_datetime(\"1-10-2018\")"
   ]
  },
  {
   "cell_type": "markdown",
   "metadata": {},
   "source": [
    "上面默认创建了 `2018-01-10` 的时间戳，如果想要其变成 `2018-10-1` 呢？可以通过 `dayfirst=True` 参数进行修正。"
   ]
  },
  {
   "cell_type": "code",
   "execution_count": 16,
   "metadata": {},
   "outputs": [
    {
     "data": {
      "text/plain": [
       "Timestamp('2018-10-01 00:00:00')"
      ]
     },
     "execution_count": 16,
     "metadata": {},
     "output_type": "execute_result"
    }
   ],
   "source": [
    "pd.to_datetime('1-10-2018', dayfirst=True)"
   ]
  },
  {
   "cell_type": "markdown",
   "metadata": {},
   "source": [
    "### 时间索引 DatetimeIndex"
   ]
  },
  {
   "cell_type": "markdown",
   "metadata": {},
   "source": [
    "时间戳 Timestamp 并不是在时间序列中经常遇到的类型。如果我们拿到一个由时间排序的数据表，那么更重要的数据类型是 DatetimeIndex。顾名思义，时间索引就是由一系列时间戳组成，不过在 Pandas 中的数据类型为 DatetimeIndex。"
   ]
  },
  {
   "cell_type": "markdown",
   "metadata": {},
   "source": [
    "我们同样可以使用 `pd.to_datetime()` 来创建时间索引。与上方创建时间戳不同的地方在于，你只需要输入包含多个时刻的列表即可。"
   ]
  },
  {
   "cell_type": "code",
   "execution_count": 17,
   "metadata": {},
   "outputs": [
    {
     "data": {
      "text/plain": [
       "DatetimeIndex(['2018-10-01', '2018-10-02', '2018-10-03'], dtype='datetime64[ns]', freq=None)"
      ]
     },
     "execution_count": 17,
     "metadata": {},
     "output_type": "execute_result"
    }
   ],
   "source": [
    "pd.to_datetime([\"2018-10-1\", \"2018-10-2\", \"2018-10-3\"]) # 生成时间索引"
   ]
  },
  {
   "cell_type": "markdown",
   "metadata": {},
   "source": [
    "当然，Pandas 的 Seris 和 DataFrame 也可以直接通过 `to_datetime` 转换。"
   ]
  },
  {
   "cell_type": "code",
   "execution_count": 18,
   "metadata": {},
   "outputs": [
    {
     "data": {
      "text/plain": [
       "0   2018-10-01\n",
       "1   2018-10-02\n",
       "2   2018-10-03\n",
       "dtype: datetime64[ns]"
      ]
     },
     "execution_count": 18,
     "metadata": {},
     "output_type": "execute_result"
    }
   ],
   "source": [
    "s = pd.Series([\"2018-10-1\", \"2018-10-2\", \"2018-10-3\"])\n",
    "pd.to_datetime(s) # 将 Seris 中字符串转换为时间"
   ]
  },
  {
   "cell_type": "markdown",
   "metadata": {},
   "source": [
    "这里值得注意的是，原 Series 中的时间是字符串，经过 `pd.to_datetime()` 转换之后变成了 `datetime64` 时间。但并不是严格意义上的时间索引，而时间索引是需要将其放到 Series 或 DataFrame 的索引位置才行。例如："
   ]
  },
  {
   "cell_type": "code",
   "execution_count": 19,
   "metadata": {},
   "outputs": [
    {
     "data": {
      "text/plain": [
       "DatetimeIndex(['2018-10-01', '2018-10-02', '2018-10-03'], dtype='datetime64[ns]', freq=None)"
      ]
     },
     "execution_count": 19,
     "metadata": {},
     "output_type": "execute_result"
    }
   ],
   "source": [
    "pd.Series(index=pd.to_datetime(s)).index # 当时间位于索引时，就是 DatetimeIndex"
   ]
  },
  {
   "cell_type": "markdown",
   "metadata": {},
   "source": [
    "现在看到的就是 DatetimeIndex 类型了。"
   ]
  },
  {
   "cell_type": "markdown",
   "metadata": {},
   "source": [
    "事实上，生成 DatetimeIndex 另一个更常用的方法是 `pandas.date_range`。我们可以通过指定规则，让 `pandas.date_range` 生成有序的 DatetimeIndex。"
   ]
  },
  {
   "cell_type": "markdown",
   "metadata": {},
   "source": [
    "官方文档 [<i class=\"fa fa-external-link-square\" aria-hidden=\"true\"> pandas.date_range</i>](https://pandas.pydata.org/pandas-docs/stable/generated/pandas.date_range.html)"
   ]
  },
  {
   "cell_type": "markdown",
   "metadata": {},
   "source": [
    "`date_range` 方法带有的默认参数如下："
   ]
  },
  {
   "cell_type": "markdown",
   "metadata": {},
   "source": [
    "``` python\n",
    "pandas.date_range(start=None, end=None, periods=None, freq=’D’, tz=None, normalize=False,\n",
    "name=None, closed=None, **kwargs)\n",
    "```"
   ]
  },
  {
   "cell_type": "markdown",
   "metadata": {},
   "source": [
    "其中："
   ]
  },
  {
   "cell_type": "markdown",
   "metadata": {},
   "source": [
    "- `start=` ：设置起始时间\n",
    "- `end= `：设置截至时间\n",
    "- `periods=` ：设置时间区间，若 `None` 则需要单独设置起止和截至时间。\n",
    "- `freq=` ：设置间隔周期。\n",
    "- `tz= `：设置时区。"
   ]
  },
  {
   "cell_type": "markdown",
   "metadata": {},
   "source": [
    "特别地，`freq=` 频度参数非常关键，可以设置的周期有："
   ]
  },
  {
   "cell_type": "markdown",
   "metadata": {},
   "source": [
    "- `freq='s' `: 秒\n",
    "- `freq='min'` : 分钟\n",
    "- `freq='H' `: 小时\n",
    "- `freq='D' `: 天\n",
    "- `freq='w' `: 周\n",
    "- `freq='m' `: 月\n",
    "- `freq='BM' `: 每个月最后一天\n",
    "- `freq='W' `：每周的星期日"
   ]
  },
  {
   "cell_type": "code",
   "execution_count": 20,
   "metadata": {},
   "outputs": [
    {
     "data": {
      "text/plain": [
       "DatetimeIndex(['2018-10-01 00:00:00', '2018-10-01 01:00:00',\n",
       "               '2018-10-01 02:00:00', '2018-10-01 03:00:00',\n",
       "               '2018-10-01 04:00:00', '2018-10-01 05:00:00',\n",
       "               '2018-10-01 06:00:00', '2018-10-01 07:00:00',\n",
       "               '2018-10-01 08:00:00', '2018-10-01 09:00:00',\n",
       "               '2018-10-01 10:00:00', '2018-10-01 11:00:00',\n",
       "               '2018-10-01 12:00:00', '2018-10-01 13:00:00',\n",
       "               '2018-10-01 14:00:00', '2018-10-01 15:00:00',\n",
       "               '2018-10-01 16:00:00', '2018-10-01 17:00:00',\n",
       "               '2018-10-01 18:00:00', '2018-10-01 19:00:00',\n",
       "               '2018-10-01 20:00:00', '2018-10-01 21:00:00',\n",
       "               '2018-10-01 22:00:00', '2018-10-01 23:00:00',\n",
       "               '2018-10-02 00:00:00'],\n",
       "              dtype='datetime64[ns]', freq='H')"
      ]
     },
     "execution_count": 20,
     "metadata": {},
     "output_type": "execute_result"
    }
   ],
   "source": [
    "pd.date_range('2018-10-1', '2018-10-2', freq='H') # 按小时间隔生成时间索引"
   ]
  },
  {
   "cell_type": "code",
   "execution_count": 21,
   "metadata": {},
   "outputs": [
    {
     "data": {
      "text/plain": [
       "DatetimeIndex(['2018-10-01', '2018-10-02', '2018-10-03', '2018-10-04',\n",
       "               '2018-10-05', '2018-10-06', '2018-10-07', '2018-10-08',\n",
       "               '2018-10-09', '2018-10-10'],\n",
       "              dtype='datetime64[ns]', freq='D')"
      ]
     },
     "execution_count": 21,
     "metadata": {},
     "output_type": "execute_result"
    }
   ],
   "source": [
    "pd.date_range('2018-10-1', periods=10, freq='D') # 从 2018-10-1 开始，以天为间隔，向后推 10 次"
   ]
  },
  {
   "cell_type": "code",
   "execution_count": 22,
   "metadata": {},
   "outputs": [
    {
     "data": {
      "text/plain": [
       "DatetimeIndex(['2018-10-01 00:00:00', '2018-10-01 01:20:00',\n",
       "               '2018-10-01 02:40:00', '2018-10-01 04:00:00',\n",
       "               '2018-10-01 05:20:00', '2018-10-01 06:40:00',\n",
       "               '2018-10-01 08:00:00', '2018-10-01 09:20:00',\n",
       "               '2018-10-01 10:40:00', '2018-10-01 12:00:00'],\n",
       "              dtype='datetime64[ns]', freq='80T')"
      ]
     },
     "execution_count": 22,
     "metadata": {},
     "output_type": "execute_result"
    }
   ],
   "source": [
    "pd.date_range('2018-10-1', periods=10, freq='1H20min') # 从 2018-10-1 开始，以 1H20min 为间隔，向后推 10 次"
   ]
  },
  {
   "cell_type": "markdown",
   "metadata": {},
   "source": [
    "通过 `date_range`，我们可以生成任何以一定规律变化的时间索引。"
   ]
  },
  {
   "cell_type": "markdown",
   "metadata": {},
   "source": [
    "前面，我们了解了 `timedelta` 可以用于时间运算。而在 DatetimeIndex 中，我们可以通过 offset 对象对时间戳索引进行更加灵活的变化。例如："
   ]
  },
  {
   "cell_type": "markdown",
   "metadata": {},
   "source": [
    "1. 可以让时间索引增加或减少一定时间段。 \n",
    "2. 可以让时间索引乘以一个整数。 \n",
    "3. 可以让时间索引向前或向后移动到下一个或上一个特定的偏移日期。"
   ]
  },
  {
   "cell_type": "code",
   "execution_count": 23,
   "metadata": {},
   "outputs": [
    {
     "data": {
      "text/plain": [
       "DatetimeIndex(['2018-10-01 00:00:00', '2018-10-02 01:00:00',\n",
       "               '2018-10-03 02:00:00', '2018-10-04 03:00:00',\n",
       "               '2018-10-05 04:00:00', '2018-10-06 05:00:00',\n",
       "               '2018-10-07 06:00:00', '2018-10-08 07:00:00',\n",
       "               '2018-10-09 08:00:00', '2018-10-10 09:00:00'],\n",
       "              dtype='datetime64[ns]', freq='25H')"
      ]
     },
     "execution_count": 23,
     "metadata": {},
     "output_type": "execute_result"
    }
   ],
   "source": [
    "time_index = pd.date_range('2018-10-1', periods=10, freq='1D1H')\n",
    "time_index"
   ]
  },
  {
   "cell_type": "markdown",
   "metadata": {},
   "source": [
    "使用 offset 对象让 `time_index` 依次增加 **1 个月 + 2 天 + 3 小时**。"
   ]
  },
  {
   "cell_type": "code",
   "execution_count": 24,
   "metadata": {},
   "outputs": [
    {
     "data": {
      "text/plain": [
       "DatetimeIndex(['2018-11-03 03:00:00', '2018-11-04 04:00:00',\n",
       "               '2018-11-05 05:00:00', '2018-11-06 06:00:00',\n",
       "               '2018-11-07 07:00:00', '2018-11-08 08:00:00',\n",
       "               '2018-11-09 09:00:00', '2018-11-10 10:00:00',\n",
       "               '2018-11-11 11:00:00', '2018-11-12 12:00:00'],\n",
       "              dtype='datetime64[ns]', freq='25H')"
      ]
     },
     "execution_count": 24,
     "metadata": {},
     "output_type": "execute_result"
    }
   ],
   "source": [
    "from pandas import offsets\n",
    "\n",
    "time_index + offsets.DateOffset(months=1, days=2, hours=3)"
   ]
  },
  {
   "cell_type": "markdown",
   "metadata": {},
   "source": [
    "或者，使用 offset 对象让 `time_index` 向后偏移 **2 周**。"
   ]
  },
  {
   "cell_type": "code",
   "execution_count": 25,
   "metadata": {},
   "outputs": [
    {
     "data": {
      "text/plain": [
       "DatetimeIndex(['2018-10-15 00:00:00', '2018-10-16 01:00:00',\n",
       "               '2018-10-17 02:00:00', '2018-10-18 03:00:00',\n",
       "               '2018-10-19 04:00:00', '2018-10-20 05:00:00',\n",
       "               '2018-10-21 06:00:00', '2018-10-22 07:00:00',\n",
       "               '2018-10-23 08:00:00', '2018-10-24 09:00:00'],\n",
       "              dtype='datetime64[ns]', freq='25H')"
      ]
     },
     "execution_count": 25,
     "metadata": {},
     "output_type": "execute_result"
    }
   ],
   "source": [
    "time_index + 2 * offsets.Week()"
   ]
  },
  {
   "cell_type": "markdown",
   "metadata": {},
   "source": [
    "除了示例中提到的 `offsets.DateOffset` 和 `offsets.Week`，常用的 offsets 对象还有："
   ]
  },
  {
   "cell_type": "markdown",
   "metadata": {},
   "source": [
    "| DateOffset 名称 | 描述 |\n",
    "|:---------------:|:----------------:|\n",
    "| DateOffset | 自定义，默认一周 |\n",
    "| BDay | 工作日 |\n",
    "| CDay | 自定义工作日 |\n",
    "| MonthEnd | 月末 |\n",
    "| QuarterEnd | 季度结束 |\n",
    "| YearEnd | 年末 |"
   ]
  },
  {
   "cell_type": "markdown",
   "metadata": {},
   "source": [
    "更详细的 DateOffset Objects 表单可以阅读官方文档。"
   ]
  },
  {
   "cell_type": "markdown",
   "metadata": {},
   "source": [
    "官方文档 [<i class=\"fa fa-external-link-square\" aria-hidden=\"true\"> dateoffset-objects</i>](https://pandas.pydata.org/pandas-docs/stable/timeseries.html#dateoffset-objects)"
   ]
  },
  {
   "cell_type": "markdown",
   "metadata": {},
   "source": [
    "你可以发现，DateOffset 对象非常灵活，只要稍加组合，就能实现任意想要的时间偏移结果。实际上，DateOffset 对象不仅对 DatetimeIndex 有效，对于时间戳 Timestamp 也是可以操作的。这一点应该很好理解，比较 DatetimeIndex 相当于 Timestamp 的延展。"
   ]
  },
  {
   "cell_type": "markdown",
   "metadata": {},
   "source": [
    "### 时间间隔 Periods"
   ]
  },
  {
   "cell_type": "markdown",
   "metadata": {},
   "source": [
    "上面，我们对 Timestamp 时间戳和 DatetimeIndex 时间戳索引都有了较为充分的认识。除此之外 Pandas 中还存在 Period 时间间隔和 PeriodIndex 时间间隔索引对象。什么是 Periods？比如：天，月，季，年。"
   ]
  },
  {
   "cell_type": "code",
   "execution_count": 26,
   "metadata": {},
   "outputs": [
    {
     "data": {
      "text/plain": [
       "Period('2018', 'A-DEC')"
      ]
     },
     "execution_count": 26,
     "metadata": {},
     "output_type": "execute_result"
    }
   ],
   "source": [
    "# 1 年跨度\n",
    "pd.Period('2018')"
   ]
  },
  {
   "cell_type": "code",
   "execution_count": 27,
   "metadata": {},
   "outputs": [
    {
     "data": {
      "text/plain": [
       "Period('2018-01', 'M')"
      ]
     },
     "execution_count": 27,
     "metadata": {},
     "output_type": "execute_result"
    }
   ],
   "source": [
    "# 1 个月跨度\n",
    "pd.Period('2018-1')"
   ]
  },
  {
   "cell_type": "code",
   "execution_count": 28,
   "metadata": {},
   "outputs": [
    {
     "data": {
      "text/plain": [
       "Period('2018-01-01', 'D')"
      ]
     },
     "execution_count": 28,
     "metadata": {},
     "output_type": "execute_result"
    }
   ],
   "source": [
    "# 1 天跨度\n",
    "pd.Period('2018-1-1')"
   ]
  },
  {
   "cell_type": "markdown",
   "metadata": {},
   "source": [
    "你会看到，每一个时间间隔后面都有一个字母，其实这就是时间间隔所对应的 `freq=` 频度。你可能在想，Periods 看起来和上面的 Timestamp 没有区别呢？那我们重新生成一个 Timestamp 看一看。"
   ]
  },
  {
   "cell_type": "code",
   "execution_count": 29,
   "metadata": {},
   "outputs": [
    {
     "data": {
      "text/plain": [
       "Timestamp('2018-01-01 00:00:00')"
      ]
     },
     "execution_count": 29,
     "metadata": {},
     "output_type": "execute_result"
    }
   ],
   "source": [
    "pd.Timestamp('2018-1-1')"
   ]
  },
  {
   "cell_type": "markdown",
   "metadata": {},
   "source": [
    "此时，你应该能发现 Timestamp 和 Periods 的区别了吧。Periods 代表是 `2018-01-01` 这一天，而 Timestamp 仅代表 `2018-01-01 00:00:00` 这一时刻。"
   ]
  },
  {
   "cell_type": "markdown",
   "metadata": {},
   "source": [
    "### 时间间隔索引 PeriodsIndex"
   ]
  },
  {
   "cell_type": "markdown",
   "metadata": {},
   "source": [
    "与「时间戳 → 时间索引」相仿，时间间隔也对应着时间间隔索引 PeriodsIndex。而我们可以通过 `pandas.period_range()` 方法来生成索引序列。"
   ]
  },
  {
   "cell_type": "code",
   "execution_count": 30,
   "metadata": {},
   "outputs": [
    {
     "data": {
      "text/plain": [
       "PeriodIndex(['2018-01', '2018-02', '2018-03', '2018-04', '2018-05', '2018-06',\n",
       "             '2018-07', '2018-08', '2018-09', '2018-10', '2018-11', '2018-12',\n",
       "             '2019-01'],\n",
       "            dtype='period[M]', freq='M')"
      ]
     },
     "execution_count": 30,
     "metadata": {},
     "output_type": "execute_result"
    }
   ],
   "source": [
    "p = pd.period_range('2018', '2019', freq='M') # 生成 2018-1 到 2019-1 序列，按月分布\n",
    "p"
   ]
  },
  {
   "cell_type": "markdown",
   "metadata": {},
   "source": [
    "生成索引序列时，就必须指定 `freq=` 频度，这和上文生成 DatetimeIndex 时相似。同时，我们可以使用 asfreq 来重新设定频度。"
   ]
  },
  {
   "cell_type": "code",
   "execution_count": 31,
   "metadata": {},
   "outputs": [
    {
     "data": {
      "text/plain": [
       "PeriodIndex(['2018-01-01', '2018-02-01', '2018-03-01', '2018-04-01',\n",
       "             '2018-05-01', '2018-06-01', '2018-07-01', '2018-08-01',\n",
       "             '2018-09-01', '2018-10-01', '2018-11-01', '2018-12-01',\n",
       "             '2019-01-01'],\n",
       "            dtype='period[D]', freq='D')"
      ]
     },
     "execution_count": 31,
     "metadata": {},
     "output_type": "execute_result"
    }
   ],
   "source": [
    "p.asfreq(freq='D', how='S') # 频度从 M → D"
   ]
  },
  {
   "cell_type": "markdown",
   "metadata": {},
   "source": [
    "这里的 `how=S` 代表每月的第一天（Start），也可以设为 `how=E`（End）。"
   ]
  },
  {
   "cell_type": "markdown",
   "metadata": {},
   "source": [
    "### 时序数据选择、切片、偏移"
   ]
  },
  {
   "cell_type": "markdown",
   "metadata": {},
   "source": [
    "你或许在纳闷，Pandas 为什么要使用时间戳，时间索引，时间间隔等呢？实际上，这些基础数据类型都是方便我们对时间序列数据进行操作而出现的。有了 Timestamp 和 Periods，我们就可以完成对数据的选择、切片，以及进行偏移、重新采样等更为复杂的组合变换了。"
   ]
  },
  {
   "cell_type": "markdown",
   "metadata": {},
   "source": [
    "下面，我们尝试生成包含时间索引的 Series 示例，并对数据进行选择。"
   ]
  },
  {
   "cell_type": "code",
   "execution_count": 32,
   "metadata": {},
   "outputs": [
    {
     "data": {
      "text/plain": [
       "2018-01-31    2.097531\n",
       "2018-02-28    1.029702\n",
       "2018-03-31   -0.123129\n",
       "2018-04-30    1.017596\n",
       "2018-05-31   -0.176615\n",
       "2018-06-30   -0.286976\n",
       "2018-07-31    0.379343\n",
       "2018-08-31    0.983957\n",
       "2018-09-30    0.100816\n",
       "2018-10-31    1.403022\n",
       "2018-11-30   -0.740944\n",
       "2018-12-31    0.333018\n",
       "2019-01-31    2.536672\n",
       "2019-02-28   -1.011370\n",
       "2019-03-31   -0.528761\n",
       "2019-04-30   -0.456089\n",
       "2019-05-31    1.747940\n",
       "2019-06-30   -1.174800\n",
       "2019-07-31    1.464533\n",
       "2019-08-31   -0.047374\n",
       "Freq: M, dtype: float64"
      ]
     },
     "execution_count": 32,
     "metadata": {},
     "output_type": "execute_result"
    }
   ],
   "source": [
    "import numpy as np\n",
    "\n",
    "timeindex = pd.date_range('2018-1-1', periods=20, freq='M')\n",
    "s = pd.Series(np.random.randn(len(timeindex)), index = timeindex)\n",
    "s"
   ]
  },
  {
   "cell_type": "markdown",
   "metadata": {},
   "source": [
    "选择 2018 年的所有数据。"
   ]
  },
  {
   "cell_type": "code",
   "execution_count": 33,
   "metadata": {},
   "outputs": [
    {
     "data": {
      "text/plain": [
       "2018-01-31    2.097531\n",
       "2018-02-28    1.029702\n",
       "2018-03-31   -0.123129\n",
       "2018-04-30    1.017596\n",
       "2018-05-31   -0.176615\n",
       "2018-06-30   -0.286976\n",
       "2018-07-31    0.379343\n",
       "2018-08-31    0.983957\n",
       "2018-09-30    0.100816\n",
       "2018-10-31    1.403022\n",
       "2018-11-30   -0.740944\n",
       "2018-12-31    0.333018\n",
       "Freq: M, dtype: float64"
      ]
     },
     "execution_count": 33,
     "metadata": {},
     "output_type": "execute_result"
    }
   ],
   "source": [
    "s['2018']"
   ]
  },
  {
   "cell_type": "markdown",
   "metadata": {},
   "source": [
    "选择 2018 年 7 月到 2019 年 3 月之间的所有数据。"
   ]
  },
  {
   "cell_type": "code",
   "execution_count": 34,
   "metadata": {},
   "outputs": [
    {
     "data": {
      "text/plain": [
       "2018-07-31    0.379343\n",
       "2018-08-31    0.983957\n",
       "2018-09-30    0.100816\n",
       "2018-10-31    1.403022\n",
       "2018-11-30   -0.740944\n",
       "2018-12-31    0.333018\n",
       "2019-01-31    2.536672\n",
       "2019-02-28   -1.011370\n",
       "2019-03-31   -0.528761\n",
       "Freq: M, dtype: float64"
      ]
     },
     "execution_count": 34,
     "metadata": {},
     "output_type": "execute_result"
    }
   ],
   "source": [
    "s['2018-07': '2019-03']"
   ]
  },
  {
   "cell_type": "markdown",
   "metadata": {},
   "source": [
    "除了查询和切片，我们还可以用到 Shifting 方法，将时间索引进行整体偏移。"
   ]
  },
  {
   "cell_type": "markdown",
   "metadata": {},
   "source": [
    "官方文档 [<i class=\"fa fa-external-link-square\" aria-hidden=\"true\"> shifting-lagging</i>](https://pandas.pydata.org/pandas-docs/stable/timeseries.html#shifting-lagging)"
   ]
  },
  {
   "cell_type": "code",
   "execution_count": 35,
   "metadata": {},
   "outputs": [
    {
     "data": {
      "text/plain": [
       "2018-01-31         NaN\n",
       "2018-02-28         NaN\n",
       "2018-03-31         NaN\n",
       "2018-04-30    2.097531\n",
       "2018-05-31    1.029702\n",
       "2018-06-30   -0.123129\n",
       "2018-07-31    1.017596\n",
       "2018-08-31   -0.176615\n",
       "2018-09-30   -0.286976\n",
       "2018-10-31    0.379343\n",
       "2018-11-30    0.983957\n",
       "2018-12-31    0.100816\n",
       "2019-01-31    1.403022\n",
       "2019-02-28   -0.740944\n",
       "2019-03-31    0.333018\n",
       "2019-04-30    2.536672\n",
       "2019-05-31   -1.011370\n",
       "2019-06-30   -0.528761\n",
       "2019-07-31   -0.456089\n",
       "2019-08-31    1.747940\n",
       "Freq: M, dtype: float64"
      ]
     },
     "execution_count": 35,
     "metadata": {},
     "output_type": "execute_result"
    }
   ],
   "source": [
    "s.shift(3) # 时间索引以默认 Freq: M 向后偏移 3 个单位"
   ]
  },
  {
   "cell_type": "markdown",
   "metadata": {},
   "source": [
    "你可以把上面的过程理解为时间索引向后（未来）位移 3 个单位，缺失数据 Pandas 会用 NaN 自动填充。除此之外，还可以指定 `freq=` 参数，确定偏移的单位大小。"
   ]
  },
  {
   "cell_type": "code",
   "execution_count": 36,
   "metadata": {},
   "outputs": [
    {
     "data": {
      "text/plain": [
       "2018-01-28    2.097531\n",
       "2018-02-25    1.029702\n",
       "2018-03-28   -0.123129\n",
       "2018-04-27    1.017596\n",
       "2018-05-28   -0.176615\n",
       "2018-06-27   -0.286976\n",
       "2018-07-28    0.379343\n",
       "2018-08-28    0.983957\n",
       "2018-09-27    0.100816\n",
       "2018-10-28    1.403022\n",
       "2018-11-27   -0.740944\n",
       "2018-12-28    0.333018\n",
       "2019-01-28    2.536672\n",
       "2019-02-25   -1.011370\n",
       "2019-03-28   -0.528761\n",
       "2019-04-27   -0.456089\n",
       "2019-05-28    1.747940\n",
       "2019-06-27   -1.174800\n",
       "2019-07-28    1.464533\n",
       "2019-08-28   -0.047374\n",
       "dtype: float64"
      ]
     },
     "execution_count": 36,
     "metadata": {},
     "output_type": "execute_result"
    }
   ],
   "source": [
    "s.shift(-3, freq='D')  # 时间索引以 Freq: D 向前偏移 3 个单位"
   ]
  },
  {
   "cell_type": "markdown",
   "metadata": {},
   "source": [
    "### 时序数据重采样"
   ]
  },
  {
   "cell_type": "markdown",
   "metadata": {},
   "source": [
    "重采样是时序数据处理中经常会使用到的操作。Resample 的目的是提升或降低一个时间索引序列的频率。例如：当时间序列数据量非常大时，我们可以通过低频率采样的方法得到规模较小到时间覆盖依然较为全面的新数据集。另外，对于多个不同频率的数据集需要数据对齐时，重采样可以十分重要的手段。"
   ]
  },
  {
   "cell_type": "markdown",
   "metadata": {},
   "source": [
    "官方文档 [<i class=\"fa fa-external-link-square\" aria-hidden=\"true\"> pandas.DataFrame.resample</i>](https://pandas.pydata.org/pandas-docs/stable/generated/pandas.DataFrame.resample.html)"
   ]
  },
  {
   "cell_type": "markdown",
   "metadata": {},
   "source": [
    "同样，初始化一个示例 Series。"
   ]
  },
  {
   "cell_type": "code",
   "execution_count": 37,
   "metadata": {},
   "outputs": [
    {
     "data": {
      "text/plain": [
       "2018-10-01   -0.013157\n",
       "2018-10-02   -0.175713\n",
       "2018-10-03   -1.552520\n",
       "2018-10-04    1.821853\n",
       "2018-10-05   -0.280864\n",
       "2018-10-06    1.320293\n",
       "2018-10-07   -0.785570\n",
       "2018-10-08   -0.745902\n",
       "2018-10-09   -0.295794\n",
       "2018-10-10    0.426425\n",
       "2018-10-11   -0.106275\n",
       "2018-10-12   -1.841334\n",
       "2018-10-13    1.263651\n",
       "2018-10-14   -1.454528\n",
       "2018-10-15   -0.863084\n",
       "2018-10-16    0.395524\n",
       "2018-10-17    0.099888\n",
       "2018-10-18    0.251873\n",
       "2018-10-19   -1.094976\n",
       "2018-10-20    0.965215\n",
       "Freq: D, dtype: float64"
      ]
     },
     "execution_count": 37,
     "metadata": {},
     "output_type": "execute_result"
    }
   ],
   "source": [
    "dateindex = pd.period_range('2018-10-1', periods=20, freq='D')\n",
    "s = pd.Series(np.random.randn(len(dateindex)), index = dateindex)\n",
    "s"
   ]
  },
  {
   "cell_type": "markdown",
   "metadata": {},
   "source": [
    "下面，我们对 Series 按照 2 天进行降采样，并对 2 天对应的数据求和作为新数据。注意，这里执行降频采样时需要选择一个计算方法（求和、求平均、最大值、最小值等）。"
   ]
  },
  {
   "cell_type": "code",
   "execution_count": 38,
   "metadata": {},
   "outputs": [
    {
     "data": {
      "text/plain": [
       "2018-10-01   -0.188870\n",
       "2018-10-03    0.269333\n",
       "2018-10-05    1.039429\n",
       "2018-10-07   -1.531472\n",
       "2018-10-09    0.130631\n",
       "2018-10-11   -1.947609\n",
       "2018-10-13   -0.190876\n",
       "2018-10-15   -0.467561\n",
       "2018-10-17    0.351761\n",
       "2018-10-19   -0.129761\n",
       "Freq: 2D, dtype: float64"
      ]
     },
     "execution_count": 38,
     "metadata": {},
     "output_type": "execute_result"
    }
   ],
   "source": [
    "s.resample('2D').sum() # 降采样，并将删去的数据依次合并到保留数据中"
   ]
  },
  {
   "cell_type": "markdown",
   "metadata": {},
   "source": [
    "那么，如果降采样时并不想对数据索引对应的数据进行操作，而仅仅保留原时间戳对应的数据。可以使用 `.asfreq()` 方法。"
   ]
  },
  {
   "cell_type": "code",
   "execution_count": 39,
   "metadata": {},
   "outputs": [
    {
     "data": {
      "text/plain": [
       "2018-10-01   -0.013157\n",
       "2018-10-03   -1.552520\n",
       "2018-10-05   -0.280864\n",
       "2018-10-07   -0.785570\n",
       "2018-10-09   -0.295794\n",
       "2018-10-11   -0.106275\n",
       "2018-10-13    1.263651\n",
       "2018-10-15   -0.863084\n",
       "2018-10-17    0.099888\n",
       "2018-10-19   -1.094976\n",
       "Freq: 2D, dtype: float64"
      ]
     },
     "execution_count": 39,
     "metadata": {},
     "output_type": "execute_result"
    }
   ],
   "source": [
    "s.resample('2D').asfreq() # 降采样，直接舍去数据"
   ]
  },
  {
   "cell_type": "markdown",
   "metadata": {},
   "source": [
    "还可以这样，按照 2 天进行降采样，并将对应 2 天数据的原值、最大值、最小值等列出。而这个方法主要用于股票分析中，其中，`open、high、low、close` 也就对应着股票交易过程中的开盘、最高、最低以及收盘价。"
   ]
  },
  {
   "cell_type": "code",
   "execution_count": 40,
   "metadata": {},
   "outputs": [
    {
     "data": {
      "text/html": [
       "<div>\n",
       "<style scoped>\n",
       "    .dataframe tbody tr th:only-of-type {\n",
       "        vertical-align: middle;\n",
       "    }\n",
       "\n",
       "    .dataframe tbody tr th {\n",
       "        vertical-align: top;\n",
       "    }\n",
       "\n",
       "    .dataframe thead th {\n",
       "        text-align: right;\n",
       "    }\n",
       "</style>\n",
       "<table border=\"1\" class=\"dataframe\">\n",
       "  <thead>\n",
       "    <tr style=\"text-align: right;\">\n",
       "      <th></th>\n",
       "      <th>open</th>\n",
       "      <th>high</th>\n",
       "      <th>low</th>\n",
       "      <th>close</th>\n",
       "    </tr>\n",
       "  </thead>\n",
       "  <tbody>\n",
       "    <tr>\n",
       "      <th>2018-10-01</th>\n",
       "      <td>-0.013157</td>\n",
       "      <td>-0.013157</td>\n",
       "      <td>-0.175713</td>\n",
       "      <td>-0.175713</td>\n",
       "    </tr>\n",
       "    <tr>\n",
       "      <th>2018-10-03</th>\n",
       "      <td>-1.552520</td>\n",
       "      <td>1.821853</td>\n",
       "      <td>-1.552520</td>\n",
       "      <td>1.821853</td>\n",
       "    </tr>\n",
       "    <tr>\n",
       "      <th>2018-10-05</th>\n",
       "      <td>-0.280864</td>\n",
       "      <td>1.320293</td>\n",
       "      <td>-0.280864</td>\n",
       "      <td>1.320293</td>\n",
       "    </tr>\n",
       "    <tr>\n",
       "      <th>2018-10-07</th>\n",
       "      <td>-0.785570</td>\n",
       "      <td>-0.745902</td>\n",
       "      <td>-0.785570</td>\n",
       "      <td>-0.745902</td>\n",
       "    </tr>\n",
       "    <tr>\n",
       "      <th>2018-10-09</th>\n",
       "      <td>-0.295794</td>\n",
       "      <td>0.426425</td>\n",
       "      <td>-0.295794</td>\n",
       "      <td>0.426425</td>\n",
       "    </tr>\n",
       "    <tr>\n",
       "      <th>2018-10-11</th>\n",
       "      <td>-0.106275</td>\n",
       "      <td>-0.106275</td>\n",
       "      <td>-1.841334</td>\n",
       "      <td>-1.841334</td>\n",
       "    </tr>\n",
       "    <tr>\n",
       "      <th>2018-10-13</th>\n",
       "      <td>1.263651</td>\n",
       "      <td>1.263651</td>\n",
       "      <td>-1.454528</td>\n",
       "      <td>-1.454528</td>\n",
       "    </tr>\n",
       "    <tr>\n",
       "      <th>2018-10-15</th>\n",
       "      <td>-0.863084</td>\n",
       "      <td>0.395524</td>\n",
       "      <td>-0.863084</td>\n",
       "      <td>0.395524</td>\n",
       "    </tr>\n",
       "    <tr>\n",
       "      <th>2018-10-17</th>\n",
       "      <td>0.099888</td>\n",
       "      <td>0.251873</td>\n",
       "      <td>0.099888</td>\n",
       "      <td>0.251873</td>\n",
       "    </tr>\n",
       "    <tr>\n",
       "      <th>2018-10-19</th>\n",
       "      <td>-1.094976</td>\n",
       "      <td>0.965215</td>\n",
       "      <td>-1.094976</td>\n",
       "      <td>0.965215</td>\n",
       "    </tr>\n",
       "  </tbody>\n",
       "</table>\n",
       "</div>"
      ],
      "text/plain": [
       "                open      high       low     close\n",
       "2018-10-01 -0.013157 -0.013157 -0.175713 -0.175713\n",
       "2018-10-03 -1.552520  1.821853 -1.552520  1.821853\n",
       "2018-10-05 -0.280864  1.320293 -0.280864  1.320293\n",
       "2018-10-07 -0.785570 -0.745902 -0.785570 -0.745902\n",
       "2018-10-09 -0.295794  0.426425 -0.295794  0.426425\n",
       "2018-10-11 -0.106275 -0.106275 -1.841334 -1.841334\n",
       "2018-10-13  1.263651  1.263651 -1.454528 -1.454528\n",
       "2018-10-15 -0.863084  0.395524 -0.863084  0.395524\n",
       "2018-10-17  0.099888  0.251873  0.099888  0.251873\n",
       "2018-10-19 -1.094976  0.965215 -1.094976  0.965215"
      ]
     },
     "execution_count": 40,
     "metadata": {},
     "output_type": "execute_result"
    }
   ],
   "source": [
    "s.resample('2D').ohlc()"
   ]
  },
  {
   "cell_type": "markdown",
   "metadata": {},
   "source": [
    "除了降采样，升采样同样可行。不过，我们要考虑到升采样时，新增加到时间索引中的时间戳对应的数值怎么办？是沿用临近数据，还是其他方法填充？"
   ]
  },
  {
   "cell_type": "markdown",
   "metadata": {},
   "source": [
    "例如，我们可以让时间频率从天提升到小时，并使用相同的数据对新增加行填充。"
   ]
  },
  {
   "cell_type": "code",
   "execution_count": 41,
   "metadata": {},
   "outputs": [
    {
     "data": {
      "text/plain": [
       "2018-10-01 00:00   -0.013157\n",
       "2018-10-01 01:00   -0.013157\n",
       "2018-10-01 02:00   -0.013157\n",
       "2018-10-01 03:00   -0.013157\n",
       "2018-10-01 04:00   -0.013157\n",
       "2018-10-01 05:00   -0.013157\n",
       "2018-10-01 06:00   -0.013157\n",
       "2018-10-01 07:00   -0.013157\n",
       "2018-10-01 08:00   -0.013157\n",
       "2018-10-01 09:00   -0.013157\n",
       "2018-10-01 10:00   -0.013157\n",
       "2018-10-01 11:00   -0.013157\n",
       "2018-10-01 12:00   -0.013157\n",
       "2018-10-01 13:00   -0.013157\n",
       "2018-10-01 14:00   -0.013157\n",
       "2018-10-01 15:00   -0.013157\n",
       "2018-10-01 16:00   -0.013157\n",
       "2018-10-01 17:00   -0.013157\n",
       "2018-10-01 18:00   -0.013157\n",
       "2018-10-01 19:00   -0.013157\n",
       "2018-10-01 20:00   -0.013157\n",
       "2018-10-01 21:00   -0.013157\n",
       "2018-10-01 22:00   -0.013157\n",
       "2018-10-01 23:00   -0.013157\n",
       "2018-10-02 00:00   -0.175713\n",
       "2018-10-02 01:00   -0.175713\n",
       "2018-10-02 02:00   -0.175713\n",
       "2018-10-02 03:00   -0.175713\n",
       "2018-10-02 04:00   -0.175713\n",
       "2018-10-02 05:00   -0.175713\n",
       "                      ...   \n",
       "2018-10-19 18:00   -1.094976\n",
       "2018-10-19 19:00   -1.094976\n",
       "2018-10-19 20:00   -1.094976\n",
       "2018-10-19 21:00   -1.094976\n",
       "2018-10-19 22:00   -1.094976\n",
       "2018-10-19 23:00   -1.094976\n",
       "2018-10-20 00:00    0.965215\n",
       "2018-10-20 01:00    0.965215\n",
       "2018-10-20 02:00    0.965215\n",
       "2018-10-20 03:00    0.965215\n",
       "2018-10-20 04:00    0.965215\n",
       "2018-10-20 05:00    0.965215\n",
       "2018-10-20 06:00    0.965215\n",
       "2018-10-20 07:00    0.965215\n",
       "2018-10-20 08:00    0.965215\n",
       "2018-10-20 09:00    0.965215\n",
       "2018-10-20 10:00    0.965215\n",
       "2018-10-20 11:00    0.965215\n",
       "2018-10-20 12:00    0.965215\n",
       "2018-10-20 13:00    0.965215\n",
       "2018-10-20 14:00    0.965215\n",
       "2018-10-20 15:00    0.965215\n",
       "2018-10-20 16:00    0.965215\n",
       "2018-10-20 17:00    0.965215\n",
       "2018-10-20 18:00    0.965215\n",
       "2018-10-20 19:00    0.965215\n",
       "2018-10-20 20:00    0.965215\n",
       "2018-10-20 21:00    0.965215\n",
       "2018-10-20 22:00    0.965215\n",
       "2018-10-20 23:00    0.965215\n",
       "Freq: H, Length: 480, dtype: float64"
      ]
     },
     "execution_count": 41,
     "metadata": {},
     "output_type": "execute_result"
    }
   ],
   "source": [
    "s.resample('H').ffill() # 升采样，使用相同的数据对新增加行填充"
   ]
  },
  {
   "cell_type": "markdown",
   "metadata": {},
   "source": [
    "通过设置 `limit=` 控制填充的最大数目，而不填充的数值将自动标记为 NaN。"
   ]
  },
  {
   "cell_type": "code",
   "execution_count": 42,
   "metadata": {},
   "outputs": [
    {
     "data": {
      "text/plain": [
       "2018-10-01 00:00   -0.013157\n",
       "2018-10-01 01:00   -0.013157\n",
       "2018-10-01 02:00   -0.013157\n",
       "2018-10-01 03:00   -0.013157\n",
       "2018-10-01 04:00         NaN\n",
       "2018-10-01 05:00         NaN\n",
       "2018-10-01 06:00         NaN\n",
       "2018-10-01 07:00         NaN\n",
       "2018-10-01 08:00         NaN\n",
       "2018-10-01 09:00         NaN\n",
       "2018-10-01 10:00         NaN\n",
       "2018-10-01 11:00         NaN\n",
       "2018-10-01 12:00         NaN\n",
       "2018-10-01 13:00         NaN\n",
       "2018-10-01 14:00         NaN\n",
       "2018-10-01 15:00         NaN\n",
       "2018-10-01 16:00         NaN\n",
       "2018-10-01 17:00         NaN\n",
       "2018-10-01 18:00         NaN\n",
       "2018-10-01 19:00         NaN\n",
       "2018-10-01 20:00         NaN\n",
       "2018-10-01 21:00         NaN\n",
       "2018-10-01 22:00         NaN\n",
       "2018-10-01 23:00         NaN\n",
       "2018-10-02 00:00   -0.175713\n",
       "2018-10-02 01:00   -0.175713\n",
       "2018-10-02 02:00   -0.175713\n",
       "2018-10-02 03:00   -0.175713\n",
       "2018-10-02 04:00         NaN\n",
       "2018-10-02 05:00         NaN\n",
       "                      ...   \n",
       "2018-10-19 18:00         NaN\n",
       "2018-10-19 19:00         NaN\n",
       "2018-10-19 20:00         NaN\n",
       "2018-10-19 21:00         NaN\n",
       "2018-10-19 22:00         NaN\n",
       "2018-10-19 23:00         NaN\n",
       "2018-10-20 00:00    0.965215\n",
       "2018-10-20 01:00    0.965215\n",
       "2018-10-20 02:00    0.965215\n",
       "2018-10-20 03:00    0.965215\n",
       "2018-10-20 04:00         NaN\n",
       "2018-10-20 05:00         NaN\n",
       "2018-10-20 06:00         NaN\n",
       "2018-10-20 07:00         NaN\n",
       "2018-10-20 08:00         NaN\n",
       "2018-10-20 09:00         NaN\n",
       "2018-10-20 10:00         NaN\n",
       "2018-10-20 11:00         NaN\n",
       "2018-10-20 12:00         NaN\n",
       "2018-10-20 13:00         NaN\n",
       "2018-10-20 14:00         NaN\n",
       "2018-10-20 15:00         NaN\n",
       "2018-10-20 16:00         NaN\n",
       "2018-10-20 17:00         NaN\n",
       "2018-10-20 18:00         NaN\n",
       "2018-10-20 19:00         NaN\n",
       "2018-10-20 20:00         NaN\n",
       "2018-10-20 21:00         NaN\n",
       "2018-10-20 22:00         NaN\n",
       "2018-10-20 23:00         NaN\n",
       "Freq: H, Length: 480, dtype: float64"
      ]
     },
     "execution_count": 42,
     "metadata": {},
     "output_type": "execute_result"
    }
   ],
   "source": [
    "s.resample('H').ffill(limit=3) # 升采样，最多填充临近 3 行"
   ]
  },
  {
   "cell_type": "markdown",
   "metadata": {},
   "source": [
    "### 时序数据时区处理"
   ]
  },
  {
   "cell_type": "markdown",
   "metadata": {},
   "source": [
    "上面，我们了解了 datetime 中的时区处理，而在 Pandas 可能也会遇到时区处理的情况。与 datetime 相似，Pandas 中的时间序列依旧是朴素时区。"
   ]
  },
  {
   "cell_type": "code",
   "execution_count": 43,
   "metadata": {},
   "outputs": [
    {
     "data": {
      "text/plain": [
       "DatetimeIndex(['2018-01-10 09:00:00', '2018-01-11 09:00:00',\n",
       "               '2018-01-12 09:00:00', '2018-01-13 09:00:00',\n",
       "               '2018-01-14 09:00:00', '2018-01-15 09:00:00',\n",
       "               '2018-01-16 09:00:00', '2018-01-17 09:00:00',\n",
       "               '2018-01-18 09:00:00', '2018-01-19 09:00:00'],\n",
       "              dtype='datetime64[ns]', freq='D')"
      ]
     },
     "execution_count": 43,
     "metadata": {},
     "output_type": "execute_result"
    }
   ],
   "source": [
    "naive_time = pd.date_range('1/10/2018 9:00', periods=10, freq='D')\n",
    "naive_time"
   ]
  },
  {
   "cell_type": "markdown",
   "metadata": {},
   "source": [
    "所以，当我们需要转换为本地时间，就需要先向时间序列添加 UTC 时区信息，再转换为本地时间。"
   ]
  },
  {
   "cell_type": "code",
   "execution_count": 44,
   "metadata": {},
   "outputs": [
    {
     "data": {
      "text/plain": [
       "DatetimeIndex(['2018-01-10 09:00:00+00:00', '2018-01-11 09:00:00+00:00',\n",
       "               '2018-01-12 09:00:00+00:00', '2018-01-13 09:00:00+00:00',\n",
       "               '2018-01-14 09:00:00+00:00', '2018-01-15 09:00:00+00:00',\n",
       "               '2018-01-16 09:00:00+00:00', '2018-01-17 09:00:00+00:00',\n",
       "               '2018-01-18 09:00:00+00:00', '2018-01-19 09:00:00+00:00'],\n",
       "              dtype='datetime64[ns, UTC]', freq='D')"
      ]
     },
     "execution_count": 44,
     "metadata": {},
     "output_type": "execute_result"
    }
   ],
   "source": [
    "utc_time = naive_time.tz_localize('UTC')\n",
    "utc_time"
   ]
  },
  {
   "cell_type": "markdown",
   "metadata": {},
   "source": [
    "接下来，我们使用 `tz_localize` 方法实现时区转换。"
   ]
  },
  {
   "cell_type": "code",
   "execution_count": 45,
   "metadata": {},
   "outputs": [
    {
     "data": {
      "text/plain": [
       "DatetimeIndex(['2018-01-10 17:00:00+08:00', '2018-01-11 17:00:00+08:00',\n",
       "               '2018-01-12 17:00:00+08:00', '2018-01-13 17:00:00+08:00',\n",
       "               '2018-01-14 17:00:00+08:00', '2018-01-15 17:00:00+08:00',\n",
       "               '2018-01-16 17:00:00+08:00', '2018-01-17 17:00:00+08:00',\n",
       "               '2018-01-18 17:00:00+08:00', '2018-01-19 17:00:00+08:00'],\n",
       "              dtype='datetime64[ns, Asia/Shanghai]', freq='D')"
      ]
     },
     "execution_count": 45,
     "metadata": {},
     "output_type": "execute_result"
    }
   ],
   "source": [
    "utc_time.tz_convert('Asia/Shanghai')"
   ]
  },
  {
   "cell_type": "markdown",
   "metadata": {},
   "source": [
    "注意，一般我们定义 `UTC+8:00` 时会使用 `Asia/Chongqing` 或 `Asia/Shanghai`，没有 `Asia/Beijing`。具体是因为历史遗留原因。"
   ]
  },
  {
   "cell_type": "markdown",
   "metadata": {},
   "source": [
    "实际上，你可以在生成时间戳或者时间索引时，指定 `tz=` 参数来定义 UTC 时区。"
   ]
  },
  {
   "cell_type": "code",
   "execution_count": 46,
   "metadata": {},
   "outputs": [
    {
     "data": {
      "text/plain": [
       "DatetimeIndex(['2018-01-10 09:00:00+08:00', '2018-01-11 09:00:00+08:00',\n",
       "               '2018-01-12 09:00:00+08:00', '2018-01-13 09:00:00+08:00',\n",
       "               '2018-01-14 09:00:00+08:00', '2018-01-15 09:00:00+08:00',\n",
       "               '2018-01-16 09:00:00+08:00', '2018-01-17 09:00:00+08:00',\n",
       "               '2018-01-18 09:00:00+08:00', '2018-01-19 09:00:00+08:00'],\n",
       "              dtype='datetime64[ns, Asia/Shanghai]', freq='D')"
      ]
     },
     "execution_count": 46,
     "metadata": {},
     "output_type": "execute_result"
    }
   ],
   "source": [
    "pd.date_range('1/10/2018 9:00', periods=10, freq='D', tz='Asia/Shanghai')"
   ]
  },
  {
   "cell_type": "markdown",
   "metadata": {},
   "source": [
    "但需注意，由于 UTC 时间的基准发生了变化（`tz=` 会将指定时间作为 UTC），所以上一行结果与前面通过 `tz_convert` 的转换结果有所不同。"
   ]
  },
  {
   "cell_type": "markdown",
   "metadata": {},
   "source": [
    "### 实验总结"
   ]
  },
  {
   "cell_type": "markdown",
   "metadata": {},
   "source": [
    "时间序列，无非就是一系列按照时间点采样的数据，形式简单。本次实验中，我们了解了时间序列数据在 Pandas 中的基本要素，学习了 Pandas 处理时间序列数据的方法和技巧。只有掌握了这些方法，才能更好地玩转时间序列数据，从中挖掘出有价值的信息。"
   ]
  },
  {
   "cell_type": "markdown",
   "metadata": {},
   "source": [
    "![](https://upload-images.jianshu.io/upload_images/15406304-553a2df318e9ff8f.png?imageMogr2/auto-orient/strip%7CimageView2/2/w/1240)"
   ]
  }
 ],
 "metadata": {
  "hide_input": false,
  "kernelspec": {
   "display_name": "Python 3",
   "language": "python",
   "name": "python3"
  },
  "language_info": {
   "codemirror_mode": {
    "name": "ipython",
    "version": 3
   },
   "file_extension": ".py",
   "mimetype": "text/x-python",
   "name": "python",
   "nbconvert_exporter": "python",
   "pygments_lexer": "ipython3",
   "version": "3.7.3"
  },
  "toc": {
   "base_numbering": 1,
   "nav_menu": {},
   "number_sections": true,
   "sideBar": true,
   "skip_h1_title": false,
   "title_cell": "Table of Contents",
   "title_sidebar": "Contents",
   "toc_cell": false,
   "toc_position": {},
   "toc_section_display": true,
   "toc_window_display": false
  },
  "varInspector": {
   "cols": {
    "lenName": 16,
    "lenType": 16,
    "lenVar": 40
   },
   "kernels_config": {
    "python": {
     "delete_cmd_postfix": "",
     "delete_cmd_prefix": "del ",
     "library": "var_list.py",
     "varRefreshCmd": "print(var_dic_list())"
    },
    "r": {
     "delete_cmd_postfix": ") ",
     "delete_cmd_prefix": "rm(",
     "library": "var_list.r",
     "varRefreshCmd": "cat(var_dic_list()) "
    }
   },
   "types_to_exclude": [
    "module",
    "function",
    "builtin_function_or_method",
    "instance",
    "_Feature"
   ],
   "window_display": false
  }
 },
 "nbformat": 4,
 "nbformat_minor": 2
}
