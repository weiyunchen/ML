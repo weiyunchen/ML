{
 "cells": [
  {
   "cell_type": "markdown",
   "metadata": {},
   "source": [
    "# Numpy基本操作"
   ]
  },
  {
   "cell_type": "markdown",
   "metadata": {},
   "source": [
    "### 三角函数\n",
    "\n",
    "1. `numpy.sin(x)`：三角正弦。\n",
    "2. `numpy.cos(x)`：三角余弦。\n",
    "3. `numpy.tan(x)`：三角正切。\n",
    "4. `numpy.arcsin(x)`：三角反正弦。\n",
    "5. `numpy.arccos(x)`：三角反余弦。\n",
    "6. `numpy.arctan(x)`：三角反正切。\n",
    "7. `numpy.hypot(x1,x2)`：直角三角形求斜边。\n",
    "9. `numpy.degrees(x)`：弧度转换为度。\n",
    "10. `numpy.radians(x)`：度转换为弧度。\n",
    "12. `numpy.deg2rad(x)`：度转换为弧度。\n",
    "13. `numpy.rad2deg(x)`：弧度转换为度。"
   ]
  },
  {
   "cell_type": "markdown",
   "metadata": {},
   "source": [
    "### 双曲函数\n",
    "\n",
    "1. `numpy.sinh(x)`：双曲正弦。\n",
    "2. `numpy.cosh(x)`：双曲余弦。\n",
    "3. `numpy.tanh(x)`：双曲正切。\n",
    "4. `numpy.arcsinh(x)`：反双曲正弦。\n",
    "5. `numpy.arccosh(x)`：反双曲余弦。\n",
    "6. `numpy.arctanh(x)`：反双曲正切。"
   ]
  },
  {
   "cell_type": "markdown",
   "metadata": {},
   "source": [
    "### 数值修约\n",
    "\n",
    "1. `numpy.around(a)`：平均到给定的小数位数。\n",
    "2. `numpy.round_(a)`：将数组舍入到给定的小数位数。\n",
    "3. `numpy.rint(x)`：修约到最接近的整数。\n",
    "4. `numpy.fix(x, y)`：向 0 舍入到最接近的整数。\n",
    "5. `numpy.floor(x)`：返回输入的底部(标量 x 的底部是最大的整数 i)。\n",
    "6. `numpy.ceil(x)`：返回输入的上限(标量 x 的底部是最小的整数 i).\n",
    "7. `numpy.trunc(x)`：返回输入的截断值。"
   ]
  },
  {
   "cell_type": "markdown",
   "metadata": {},
   "source": [
    "### 求和、求积、差分\n",
    "\n",
    "1. `numpy.prod(a, axis, dtype, keepdims)`：返回指定轴上的数组元素的乘积。\n",
    "2. `numpy.sum(a, axis, dtype, keepdims)`：返回指定轴上的数组元素的总和。\n",
    "3. `numpy.nanprod(a, axis, dtype, keepdims)`：返回指定轴上的数组元素的乘积, 将 NaN 视作 1。\n",
    "4. `numpy.nansum(a, axis, dtype, keepdims)`：返回指定轴上的数组元素的总和, 将 NaN 视作 0。\n",
    "5. `numpy.cumprod(a, axis, dtype)`：返回沿给定轴的元素的累积乘积。\n",
    "6. `numpy.cumsum(a, axis, dtype)`：返回沿给定轴的元素的累积总和。\n",
    "5. `numpy.nancumprod(a, axis, dtype)`：返回沿给定轴的元素的累积乘积, 将 NaN 视作 1。\n",
    "6. `numpy.nancumsum(a, axis, dtype)`：返回沿给定轴的元素的累积总和, 将 NaN 视作 0。\n",
    "8. `numpy.diff(a, n, axis)`：计算沿指定轴的第 n 个离散差分。\n",
    "8. `numpy.ediff1d(ary, to_end, to_begin)`：数组的连续元素之间的差异。\n",
    "9. `numpy.gradient(f)`：返回 N 维数组的梯度。\n",
    "10. `numpy.cross(a, b, axisa, axisb, axisc, axis)`：返回两个(数组）向量的叉积。\n",
    "11. `numpy.trapz(y, x, dx, axis)`：使用复合梯形规则沿给定轴积分。"
   ]
  },
  {
   "cell_type": "markdown",
   "metadata": {},
   "source": [
    "### 指数和对数\n",
    "\n",
    "1. `numpy.exp(x)`：计算输入数组中所有元素的指数。\n",
    "2. `numpy.expm1(x)`：对数组中的所有元素计算 exp(x） - 1.\n",
    "3. `numpy.exp2(x)`：对于输入数组中的所有 p, 计算 2 ** p。\n",
    "4. `numpy.log(x)`：计算自然对数。\n",
    "5. `numpy.log10(x)`：计算常用对数。\n",
    "6. `numpy.log2(x)`：计算二进制对数。\n",
    "7. `numpy.log1p(x)`：`log(1 + x)`。\n",
    "8. `numpy.logaddexp(x1, x2)`：`log2(2**x1 + 2**x2)`。\n",
    "9. `numpy.logaddexp2(x1, x2)`：`log(exp(x1) + exp(x2))`。"
   ]
  },
  {
   "cell_type": "markdown",
   "metadata": {},
   "source": [
    "### 算术运算\n",
    "\n",
    "1. `numpy.add(x1, x2)`：对应元素相加。\n",
    "2. `numpy.reciprocal(x)`：求倒数 1/x。\n",
    "3. `numpy.negative(x)`：求对应负数。\n",
    "4. `numpy.multiply(x1, x2)`：求解乘法。\n",
    "5. `numpy.divide(x1, x2)`：相除 x1/x2。\n",
    "6. `numpy.power(x1, x2)`：类似于 x1^x2。\n",
    "7. `numpy.subtract(x1, x2)`：减法。\n",
    "8. `numpy.fmod(x1, x2)`：返回除法的元素余项。\n",
    "9. `numpy.mod(x1, x2)`：返回余项。\n",
    "10. `numpy.modf(x1)`：返回数组的小数和整数部分。\n",
    "11. `numpy.remainder(x1, x2)`：返回除法余数。"
   ]
  },
  {
   "cell_type": "markdown",
   "metadata": {},
   "source": [
    "### 矩阵和向量积\n",
    "\n",
    "1. `numpy.dot(a,b)`：求解两个数组的点积。\n",
    "2. `numpy.vdot(a,b)`：求解两个向量的点积。\n",
    "3. `numpy.inner(a,b)`：求解两个数组的内积。\n",
    "4. `numpy.outer(a,b)`：求解两个向量的外积。\n",
    "5. `numpy.matmul(a,b)`：求解两个数组的矩阵乘积。\n",
    "6. `numpy.tensordot(a,b)`：求解张量点积。\n",
    "8. `numpy.kron(a,b)`：计算 Kronecker 乘积。"
   ]
  },
  {
   "cell_type": "markdown",
   "metadata": {},
   "source": [
    "## 代数运算\n",
    "\n",
    "1. `numpy.linalg.cholesky(a)`：Cholesky 分解。\n",
    "2. `numpy.linalg.qr(a ,mode)`：计算矩阵的 QR 因式分解。\n",
    "3. `numpy.linalg.svd(a ,full_matrices,compute_uv)`：奇异值分解。\n",
    "4. `numpy.linalg.eig(a)`：计算正方形数组的特征值和右特征向量。\n",
    "5. `numpy.linalg.eigh(a, UPLO)`：返回 Hermitian 或对称矩阵的特征值和特征向量。\n",
    "6. `numpy.linalg.eigvals(a)`：计算矩阵的特征值。\n",
    "7. `numpy.linalg.eigvalsh(a, UPLO)`：计算 Hermitian 或真实对称矩阵的特征值。\n",
    "8. `numpy.linalg.norm(x ,ord,axis,keepdims)`：计算矩阵或向量范数。\n",
    "9. `numpy.linalg.cond(x ,p)`：计算矩阵的条件数。\n",
    "10. `numpy.linalg.det(a)`：计算数组的行列式。\n",
    "11. `numpy.linalg.matrix_rank(M ,tol)`：使用奇异值分解方法返回秩。\n",
    "12. `numpy.linalg.slogdet(a)`：计算数组的行列式的符号和自然对数。\n",
    "13. `numpy.trace(a ,offset,axis1,axis2,dtype,out)`：沿数组的对角线返回总和。\n",
    "14. `numpy.linalg.solve(a,b)`：求解线性矩阵方程或线性标量方程组。\n",
    "15. `numpy.linalg.tensorsolve(a,b ,axes)`：为 x 解出张量方程a x = b\n",
    "16. `numpy.linalg.lstsq(a,b ,rcond)`：将最小二乘解返回到线性矩阵方程。\n",
    "17. `numpy.linalg.inv(a)`：计算逆矩阵。\n",
    "18. `numpy.linalg.pinv(a ,rcond)`：计算矩阵的（Moore-Penrose）伪逆。\n",
    "19. `numpy.linalg.tensorinv(a ,ind)`：计算N维数组的逆。"
   ]
  },
  {
   "cell_type": "markdown",
   "metadata": {},
   "source": [
    "### 排序\n",
    "1. `numpy.sort(a, axis=-1, kind='quicksort', order=None)`：对多维数组元素进行排序。\n",
    "\n",
    ">其中：\n",
    "\n",
    ">- `a`：数组。\n",
    ">- `axis`：要排序的轴。如果为` None`，则在排序之前将数组铺平。默认值为 `-1`，沿最后一个轴排序。\n",
    ">- `kind`：`{'quicksort'，'mergesort'，'heapsort'}`，排序算法。默认值为 `quicksort`。\n",
    "\n",
    "2. `numpy.lexsort(keys ,axis)`：使用多个键进行间接排序。\n",
    "3. `numpy.argsort(a ,axis,kind,order)`：沿给定轴执行间接排序。\n",
    "4. `numpy.msort(a)`：沿第 1 个轴排序。\n",
    "5. `numpy.sort_complex(a)`：针对复数排序。"
   ]
  },
  {
   "cell_type": "markdown",
   "metadata": {},
   "source": [
    "### 搜索和计数\n",
    "\n",
    "1. `argmax(a ,axis,out)`：返回数组中指定轴的最大值的索引。\n",
    "2. `nanargmax(a ,axis)`：返回数组中指定轴的最大值的索引,忽略 NaN。\n",
    "3. `argmin(a ,axis,out)`：返回数组中指定轴的最小值的索引。\n",
    "4. `nanargmin(a ,axis)`：返回数组中指定轴的最小值的索引,忽略 NaN。\n",
    "5. `argwhere(a)`：返回数组中非 0 元素的索引,按元素分组。\n",
    "6. `nonzero(a)`：返回数组中非 0 元素的索引。\n",
    "7. `flatnonzero(a)`：返回数组中非 0 元素的索引,并铺平。\n",
    "8. `where(条件,x,y)`：根据指定条件,从指定行、列返回元素。\n",
    "9. `searchsorted(a,v ,side,sorter)`：查找要插入元素以维持顺序的索引。\n",
    "10. `extract(condition,arr)`：返回满足某些条件的数组的元素。\n",
    "11. `count_nonzero(a)`：计算数组中非 0 元素的数量。"
   ]
  },
  {
   "cell_type": "markdown",
   "metadata": {},
   "source": [
    "### 其他\n",
    "\n",
    "1. `numpy.angle(z, deg)`：返回复参数的角度。\n",
    "2. `numpy.real(val)`：返回数组元素的实部。\n",
    "3. `numpy.imag(val)`：返回数组元素的虚部。\n",
    "4. `numpy.conj(x)`：按元素方式返回共轭复数。\n",
    "1. `numpy.convolve(a, v, mode)`：返回线性卷积。\n",
    "3. `numpy.sqrt(x)`：平方根。\n",
    "4. `numpy.cbrt(x)`：立方根。\n",
    "5. `numpy.square(x)`：平方。\n",
    "6. `numpy.absolute(x)`：绝对值, 可求解复数。\n",
    "7. `numpy.fabs(x)`：绝对值。\n",
    "8. `numpy.sign(x)`：符号函数。\n",
    "9. `numpy.maximum(x1, x2)`：最大值。\n",
    "10. `numpy.minimum(x1, x2)`：最小值。\n",
    "13. `numpy.nan_to_num(x)`：用 0 替换 NaN。\n",
    "15. `numpy.interp(x, xp, fp, left, right, period)`：线性插值。"
   ]
  }
 ],
 "metadata": {
  "hide_input": false,
  "kernelspec": {
   "display_name": "Python 3",
   "language": "python",
   "name": "python3"
  },
  "language_info": {
   "codemirror_mode": {
    "name": "ipython",
    "version": 3
   },
   "file_extension": ".py",
   "mimetype": "text/x-python",
   "name": "python",
   "nbconvert_exporter": "python",
   "pygments_lexer": "ipython3",
   "version": "3.7.3"
  },
  "toc": {
   "base_numbering": 1,
   "nav_menu": {},
   "number_sections": true,
   "sideBar": true,
   "skip_h1_title": false,
   "title_cell": "Table of Contents",
   "title_sidebar": "Contents",
   "toc_cell": false,
   "toc_position": {},
   "toc_section_display": true,
   "toc_window_display": false
  }
 },
 "nbformat": 4,
 "nbformat_minor": 2
}
