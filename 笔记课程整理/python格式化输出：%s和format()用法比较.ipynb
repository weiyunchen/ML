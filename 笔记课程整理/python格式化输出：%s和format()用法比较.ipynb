{
 "cells": [
  {
   "cell_type": "markdown",
   "metadata": {},
   "source": [
    "1、python格式化输出历史起源"
   ]
  },
  {
   "cell_type": "markdown",
   "metadata": {},
   "source": [
    "python2.5之前，我们使用的是老式格式化输出：%s。从python3.0开始起(python2.6同期发布)，同时支持两个版本的格式化，多出来的一个新版本就是利用format()函数，进行格式化输出。"
   ]
  },
  {
   "cell_type": "markdown",
   "metadata": {},
   "source": [
    "2、为什么要学习python3支持的新式格式化输出呢？"
   ]
  },
  {
   "cell_type": "markdown",
   "metadata": {},
   "source": [
    "虽然老式的语法，兼容性很好，但是它的功能很少，很难完成复杂的任务，而format()函数进行格式化输出，功能更加强大，从下面的学习中你会慢慢体会到。"
   ]
  },
  {
   "cell_type": "markdown",
   "metadata": {},
   "source": [
    "## 基本用法"
   ]
  },
  {
   "cell_type": "code",
   "execution_count": 1,
   "metadata": {},
   "outputs": [
    {
     "data": {
      "text/plain": [
       "'1张飞2关羽3刘备4赵云'"
      ]
     },
     "metadata": {},
     "output_type": "display_data"
    }
   ],
   "source": [
    "a = \"%s张飞%s关羽%s刘备%s赵云\" % (1,2,3,4)\n",
    "display(a)"
   ]
  },
  {
   "cell_type": "code",
   "execution_count": 2,
   "metadata": {},
   "outputs": [
    {
     "data": {
      "text/plain": [
       "'1张飞2关羽3刘备4赵云'"
      ]
     },
     "metadata": {},
     "output_type": "display_data"
    }
   ],
   "source": [
    "b  = \"{}张飞{}关羽{}刘备{}赵云\".format(1,2,3,4)\n",
    "display(b)"
   ]
  },
  {
   "cell_type": "markdown",
   "metadata": {},
   "source": [
    "1）format()支持位置格式化填充，%s不支持；\n",
    "\n",
    "\n",
    "·第一种方式：\n",
    "\n",
    "大括号{ }中写的是format()传入值所对应的下标。\n",
    "\n",
    "\n",
    "·第二种方式：\n",
    "\n",
    "大括号{ }中的变量，和format()传入值是一一对应的"
   ]
  },
  {
   "cell_type": "code",
   "execution_count": 3,
   "metadata": {},
   "outputs": [
    {
     "data": {
      "text/plain": [
       "'4张飞2关羽3刘备1赵云'"
      ]
     },
     "metadata": {},
     "output_type": "display_data"
    },
    {
     "data": {
      "text/plain": [
       "'我喜欢水果apple，我也喜欢球类basketball，我还喜欢饮料milk'"
      ]
     },
     "metadata": {},
     "output_type": "display_data"
    }
   ],
   "source": [
    "# --------------------方式一-----------------------\n",
    "c = \"{3}张飞{1}关羽{2}刘备{0}赵云\".format(1,2,3,4)\n",
    "display(c)\n",
    "# --------------------方式二-----------------------\n",
    "def my_hobbies(fruit,ball,drink):\n",
    "    hobbies = \"我喜欢水果{fruit}，我也喜欢球类{ball}，我还喜欢饮料{drink}\".format(ball=ball,fruit=fruit,drink=drink)\n",
    "    return hobbies\n",
    "\n",
    "fruit = \"apple\"\n",
    "ball = \"basketball\"\n",
    "drink = \"milk\"\n",
    "my_hobbies(fruit,ball,drink)\n",
    "# --------------------方式二-----------------------\n",
    "fruit = \"apple\"\n",
    "ball = \"basketball\"\n",
    "drink = \"milk\"\n",
    "hobbies = \"我喜欢水果{fruit}，我也喜欢球类{ball}，我还喜欢饮料{drink}\".format(ball=ball,fruit=fruit,drink=drink)\n",
    "display(hobbies)"
   ]
  },
  {
   "cell_type": "markdown",
   "metadata": {},
   "source": [
    "## 填充和对齐"
   ]
  },
  {
   "cell_type": "markdown",
   "metadata": {},
   "source": [
    "1）填充(只能用一个字符进行填充)\n",
    "\n",
    "\n",
    "\n",
    "① 什么是填充？\n",
    "\n",
    "概念：当指定了字符串最终的长度，但是现有的字符串没有那么长，那么我们就用某种字符（填充字符）来填满至这个长度，这就是“填充”。\n",
    "\n",
    "\n",
    "\n",
    "② %s：实现填充功能；"
   ]
  },
  {
   "cell_type": "code",
   "execution_count": 4,
   "metadata": {},
   "outputs": [
    {
     "data": {
      "text/plain": [
       "'张飞'"
      ]
     },
     "metadata": {},
     "output_type": "display_data"
    },
    {
     "data": {
      "text/plain": [
       "'        张飞'"
      ]
     },
     "metadata": {},
     "output_type": "display_data"
    }
   ],
   "source": [
    "a = \"%s\" % (\"张飞\")\n",
    "display(a)\n",
    "\n",
    "b = \"%10s\" % (\"张飞\")\n",
    "display(b)"
   ]
  },
  {
   "cell_type": "markdown",
   "metadata": {},
   "source": [
    "③ format()：实现填充功能；"
   ]
  },
  {
   "cell_type": "code",
   "execution_count": 5,
   "metadata": {},
   "outputs": [
    {
     "data": {
      "text/plain": [
       "'张飞'"
      ]
     },
     "metadata": {},
     "output_type": "display_data"
    },
    {
     "data": {
      "text/plain": [
       "'张飞        '"
      ]
     },
     "metadata": {},
     "output_type": "display_data"
    }
   ],
   "source": [
    "c = \"{}\".format(\"张飞\")\n",
    "display(c)\n",
    "\n",
    "d = \"{:10}\".format(\"张飞\")\n",
    "display(d)"
   ]
  },
  {
   "cell_type": "markdown",
   "metadata": {},
   "source": [
    "总结如下：通过上述案例结果呈现，当使用的是%s，进行字符串填充的时候，默认是在原字符串左侧进行填充；当使用的是format()，进行字符串填充的时候，默认是在原字符串右侧进行填充。这就是我们下面要讲述的\"对齐\"。"
   ]
  },
  {
   "cell_type": "markdown",
   "metadata": {},
   "source": [
    "2）对齐\n",
    "\n",
    "\n",
    "\n",
    "① 什么是对齐？\n",
    "\n",
    "\n",
    "\n",
    "概念：\"对齐\"要与\"填充\"一起使用，才会显得有意义。当我们进行填充的时候，我们可以选择只在字符串左侧填充，也可以选择只在字符串右侧填充，还可以选择在字符串两侧填充(字符串居中显示的填充方式)。\n",
    "\n",
    "\n",
    "\n",
    "② %s：实现对齐功能，只有左对齐和右对齐；"
   ]
  },
  {
   "cell_type": "code",
   "execution_count": 6,
   "metadata": {},
   "outputs": [
    {
     "data": {
      "text/plain": [
       "'        张飞'"
      ]
     },
     "metadata": {},
     "output_type": "display_data"
    },
    {
     "data": {
      "text/plain": [
       "'张飞        '"
      ]
     },
     "metadata": {},
     "output_type": "display_data"
    }
   ],
   "source": [
    "# 左填充\n",
    "a = '%10s' % ('张飞')\n",
    "display(a)\n",
    "# 右填充\n",
    "b = '%-10s' % ('张飞')\n",
    "display(b)"
   ]
  },
  {
   "cell_type": "markdown",
   "metadata": {},
   "source": [
    "③ format()：实现对齐功能，不仅有左对齐和右对齐，还有居中对齐；"
   ]
  },
  {
   "cell_type": "code",
   "execution_count": 7,
   "metadata": {},
   "outputs": [
    {
     "data": {
      "text/plain": [
       "':>10'"
      ]
     },
     "metadata": {},
     "output_type": "display_data"
    },
    {
     "data": {
      "text/plain": [
       "':<10'"
      ]
     },
     "metadata": {},
     "output_type": "display_data"
    },
    {
     "data": {
      "text/plain": [
       "':^10'"
      ]
     },
     "metadata": {},
     "output_type": "display_data"
    }
   ],
   "source": [
    "# 左填充\n",
    "a = ':>10'.format('张飞')\n",
    "display(a)\n",
    "\n",
    "# 右填充\n",
    "b = ':<10'.format('张飞')\n",
    "display(b)\n",
    "\n",
    "# 居中填充\n",
    "c = ':^10'.format('张飞')\n",
    "display(c)"
   ]
  },
  {
   "cell_type": "markdown",
   "metadata": {},
   "source": [
    "④ 使用\"特定符号\"进行填充；\n",
    "\n",
    "\n",
    "\n",
    "旧版语法中(%s)，使用\"特定符号\"填充，很麻烦，不直接，你也不用去管。\n",
    "\n",
    "\n",
    "\n",
    "这里主要看新版语法中(format()函数)，进行\"特定符号\"填充。"
   ]
  },
  {
   "cell_type": "code",
   "execution_count": 8,
   "metadata": {},
   "outputs": [
    {
     "data": {
      "text/plain": [
       "'张飞________'"
      ]
     },
     "metadata": {},
     "output_type": "display_data"
    }
   ],
   "source": [
    "a = '{:_<10}'.format('张飞')\n",
    "display(a)"
   ]
  },
  {
   "cell_type": "code",
   "execution_count": 9,
   "metadata": {},
   "outputs": [
    {
     "data": {
      "text/plain": [
       "'张飞********'"
      ]
     },
     "metadata": {},
     "output_type": "display_data"
    }
   ],
   "source": [
    "b = '{:*<10}'.format('张飞')\n",
    "display(b)"
   ]
  },
  {
   "cell_type": "markdown",
   "metadata": {},
   "source": [
    "## 截断"
   ]
  },
  {
   "cell_type": "markdown",
   "metadata": {},
   "source": [
    "概念：如果我们指定的\"截断长度\"，比实际给出的\"字符串\"的长度要短，会发生截断。\n",
    "\n",
    "\n",
    "\n",
    "1）长度和截断长度的区别\n",
    "\n",
    "\n",
    "\n",
    "① 什么是长度？\n",
    "\n",
    "\n",
    "\n",
    "“{:8}”.format(“xishi is beautiful”)中，这个8表示的是填充长度，又成为长度，当字符串长度小于这个长度8的时候，会发生填充；当字符串长度大于这个长度8的时候，长度无效，返回的仍然是原来的字符串。\n",
    "\n",
    "\n",
    "\n",
    "操作如下："
   ]
  },
  {
   "cell_type": "code",
   "execution_count": 10,
   "metadata": {},
   "outputs": [
    {
     "data": {
      "text/plain": [
       "'xishi   '"
      ]
     },
     "metadata": {},
     "output_type": "display_data"
    },
    {
     "data": {
      "text/plain": [
       "'xishi is beautiful'"
      ]
     },
     "metadata": {},
     "output_type": "display_data"
    }
   ],
   "source": [
    "a = \"{:8}\".format(\"xishi\")\n",
    "display(a)\n",
    "\n",
    "b = \"{:8}\".format(\"xishi is beautiful\")\n",
    "display(b)"
   ]
  },
  {
   "cell_type": "markdown",
   "metadata": {},
   "source": [
    "② 什么是截断长度？\n",
    "\n",
    "\n",
    "\n",
    "“{:10.8}”.format(“xishi is beautiful”)中，这个\".8\"叫做截断长度，这个10叫做填充长度。\n",
    "\n",
    "\n",
    "\n",
    "注意：只有字符串的长度大于这个阶段长度的时候，才会发生截断。当既有截断长度，又有填充长度的时候一般先进行截断，截断后再进行填充。\n",
    "\n",
    "操作如下："
   ]
  },
  {
   "cell_type": "code",
   "execution_count": 11,
   "metadata": {},
   "outputs": [
    {
     "data": {
      "text/plain": [
       "'xishi is'"
      ]
     },
     "metadata": {},
     "output_type": "display_data"
    },
    {
     "data": {
      "text/plain": [
       "'abc'"
      ]
     },
     "metadata": {},
     "output_type": "display_data"
    }
   ],
   "source": [
    "a = \"{:.8}\".format(\"xishi is beautiful\")\n",
    "display(a)\n",
    "\n",
    "# 当字符串长度，小于截断长度，返回原始字符串，截断长度无效；\n",
    "b = \"{:.8}\".format(\"abc\")\n",
    "display(b)"
   ]
  },
  {
   "cell_type": "markdown",
   "metadata": {},
   "source": [
    "③ 填充长度和截断长度的联合使用"
   ]
  },
  {
   "cell_type": "code",
   "execution_count": 12,
   "metadata": {},
   "outputs": [
    {
     "data": {
      "text/plain": [
       "'*******xishi is'"
      ]
     },
     "metadata": {},
     "output_type": "display_data"
    }
   ],
   "source": [
    "a = \"{:*>15.8}\".format(\"xishi is beautiful\")\n",
    "display(a)"
   ]
  },
  {
   "cell_type": "markdown",
   "metadata": {},
   "source": [
    "注意：当既有截断长度，又有填充长度的时候一般先进行截断，截断后，再进行填充。"
   ]
  },
  {
   "cell_type": "markdown",
   "metadata": {},
   "source": [
    "④ 使用%s完成截断"
   ]
  },
  {
   "cell_type": "code",
   "execution_count": 13,
   "metadata": {},
   "outputs": [
    {
     "data": {
      "text/plain": [
       "'xishi is'"
      ]
     },
     "metadata": {},
     "output_type": "display_data"
    },
    {
     "data": {
      "text/plain": [
       "'       xishi is'"
      ]
     },
     "metadata": {},
     "output_type": "display_data"
    }
   ],
   "source": [
    "a = \"%.8s\" % (\"xishi is beautiful\")\n",
    "display(a)\n",
    "\n",
    "b = \"%15.8s\" % (\"xishi is beautiful\")\n",
    "display(b)"
   ]
  },
  {
   "cell_type": "markdown",
   "metadata": {},
   "source": [
    "## 格式化输出中，与数字相关的语法"
   ]
  },
  {
   "cell_type": "markdown",
   "metadata": {},
   "source": [
    "1）引入案例"
   ]
  },
  {
   "cell_type": "code",
   "execution_count": 14,
   "metadata": {},
   "outputs": [
    {
     "data": {
      "text/plain": [
       "'1-2'"
      ]
     },
     "metadata": {},
     "output_type": "display_data"
    },
    {
     "data": {
      "text/plain": [
       "'1-2'"
      ]
     },
     "metadata": {},
     "output_type": "display_data"
    }
   ],
   "source": [
    "a = '{}-{}'.format(\"1\",\"2\")\n",
    "display(a)\n",
    "\n",
    "b = '{}-{}'.format(1,2)\n",
    "display(b)"
   ]
  },
  {
   "cell_type": "markdown",
   "metadata": {},
   "source": [
    "存在的问题：\n",
    "\n",
    "\n",
    "\n",
    "format()中明明需要传入字符串，可是这里传入数值，却没有报错，这是为什么呢?\n",
    "\n",
    "\n",
    "\n",
    "原因是：python自动帮我们做了一次隐式转换，但是这种隐式转换是需要代价的，它会消耗额外的性能，牺牲速度。\n",
    "\n",
    "\n",
    "\n",
    "因此，我们需要用特定的语法去解决这个问题。\n",
    "\n",
    "\n",
    "\n",
    "2）填充整数，使用d\n",
    "\n",
    "\n",
    "\n",
    "① 使用%s完成整数的填充；"
   ]
  },
  {
   "cell_type": "code",
   "execution_count": 15,
   "metadata": {},
   "outputs": [
    {
     "data": {
      "text/plain": [
       "' 3000'"
      ]
     },
     "metadata": {},
     "output_type": "display_data"
    }
   ],
   "source": [
    "a = '%5d' % (3000)\n",
    "display(a)"
   ]
  },
  {
   "cell_type": "markdown",
   "metadata": {},
   "source": [
    "② 使用format()完成整数的填充；"
   ]
  },
  {
   "cell_type": "code",
   "execution_count": 16,
   "metadata": {},
   "outputs": [
    {
     "data": {
      "text/plain": [
       "'$3000'"
      ]
     },
     "metadata": {},
     "output_type": "display_data"
    },
    {
     "data": {
      "text/plain": [
       "'￥3000'"
      ]
     },
     "metadata": {},
     "output_type": "display_data"
    }
   ],
   "source": [
    "a = '{:$>5d}'.format(3000)\n",
    "display(a)\n",
    "\n",
    "b = '{:￥>5d}'.format(3000)\n",
    "display(b)"
   ]
  },
  {
   "cell_type": "markdown",
   "metadata": {},
   "source": [
    "3）填充浮点数，使用f(这个才是最常用的，用于保留小数点的位数)；\n",
    "\n",
    "\n",
    "\n",
    "① 引入案例"
   ]
  },
  {
   "cell_type": "code",
   "execution_count": 17,
   "metadata": {},
   "outputs": [
    {
     "data": {
      "text/plain": [
       "'3.141593'"
      ]
     },
     "metadata": {},
     "output_type": "display_data"
    },
    {
     "data": {
      "text/plain": [
       "'3.141592'"
      ]
     },
     "metadata": {},
     "output_type": "display_data"
    },
    {
     "data": {
      "text/plain": [
       "'312.000000'"
      ]
     },
     "metadata": {},
     "output_type": "display_data"
    },
    {
     "data": {
      "text/plain": [
       "'12'"
      ]
     },
     "metadata": {},
     "output_type": "display_data"
    }
   ],
   "source": [
    "a = '{:f}'.format(3.14159268)\n",
    "display(a)\n",
    "\n",
    "b = '{:f}'.format(3.1415921)\n",
    "display(b)\n",
    "\n",
    "c = '{:f}'.format(312)\n",
    "display(c)\n",
    "\n",
    "d = '{:d}'.format(12,34)\n",
    "display(d)"
   ]
  },
  {
   "cell_type": "markdown",
   "metadata": {},
   "source": [
    "存在的问题：\n",
    "\n",
    "\n",
    "\n",
    "1)当使用的f的时候，不管你传入的数字有几个小数位，最终都将返回一个六位数的小数，这个问题源自c语言，你也不用管，自己知道就行。\n",
    "\n",
    "\n",
    "\n",
    "2）当使用f的时候，可以传入整数；当使用d的时候，就只能传入整数，而不能传入小数。\n",
    "\n",
    "\n",
    "\n",
    "② 使用%s完成浮点数填充，保留2位有效数字；"
   ]
  },
  {
   "cell_type": "code",
   "execution_count": 18,
   "metadata": {},
   "outputs": [
    {
     "data": {
      "text/plain": [
       "'3.14'"
      ]
     },
     "metadata": {},
     "output_type": "display_data"
    }
   ],
   "source": [
    "a = '%.2f' % (3.1415)\n",
    "display(a)"
   ]
  },
  {
   "cell_type": "markdown",
   "metadata": {},
   "source": [
    "③ 使用format()完成浮点数的填充，保留2位有效数字；"
   ]
  },
  {
   "cell_type": "code",
   "execution_count": 19,
   "metadata": {},
   "outputs": [
    {
     "data": {
      "text/plain": [
       "'3.14'"
      ]
     },
     "metadata": {},
     "output_type": "display_data"
    },
    {
     "data": {
      "text/plain": [
       "'$3.14'"
      ]
     },
     "metadata": {},
     "output_type": "display_data"
    }
   ],
   "source": [
    "b = '{:.2f}'.format(3.1415)\n",
    "display(b)\n",
    "\n",
    "c = '{:$>5.2f}'.format(3.1415)\n",
    "display(c)"
   ]
  },
  {
   "cell_type": "markdown",
   "metadata": {},
   "source": [
    "注意：在使用浮点数填充的时候，用的最多的就是保留几位有效数字，由于返回值默认是保留6位小数，因此需要配合使用\"截断\"。"
   ]
  }
 ],
 "metadata": {
  "kernelspec": {
   "display_name": "Python 3",
   "language": "python",
   "name": "python3"
  },
  "language_info": {
   "codemirror_mode": {
    "name": "ipython",
    "version": 3
   },
   "file_extension": ".py",
   "mimetype": "text/x-python",
   "name": "python",
   "nbconvert_exporter": "python",
   "pygments_lexer": "ipython3",
   "version": "3.7.4"
  }
 },
 "nbformat": 4,
 "nbformat_minor": 2
}
