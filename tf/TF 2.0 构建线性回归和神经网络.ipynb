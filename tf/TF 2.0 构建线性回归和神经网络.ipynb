{
 "cells": [
  {
   "cell_type": "markdown",
   "metadata": {},
   "source": [
    "## TF 2.0 构建线性回归/神经网络"
   ]
  },
  {
   "cell_type": "markdown",
   "metadata": {},
   "source": [
    "#### 目录\n",
    "\n",
    "**线性回归**\n",
    "- 低阶 API 实现\n",
    "- 高阶 API 实现\n",
    "\n",
    "**神经网络**\n",
    "- 低阶 API 实现\n",
    "- 高阶 API 实现"
   ]
  },
  {
   "cell_type": "markdown",
   "metadata": {},
   "source": [
    "---"
   ]
  },
  {
   "cell_type": "markdown",
   "metadata": {},
   "source": [
    "## 线性回归"
   ]
  },
  {
   "cell_type": "markdown",
   "metadata": {},
   "source": [
    "接下来，以线性回归为例，使用 TensorFlow 2.0 提供的 API 和 Eager Execution 机制对其进行实现。"
   ]
  },
  {
   "cell_type": "markdown",
   "metadata": {},
   "source": [
    "### 低阶 API 实现"
   ]
  },
  {
   "cell_type": "markdown",
   "metadata": {},
   "source": [
    "低阶 API 实现，实际上就是利用 Eager Execution 机制来完成。实验首先初始化一组随机数据样本，并添加噪声，然后将其可视化出来。"
   ]
  },
  {
   "cell_type": "code",
   "execution_count": 1,
   "metadata": {},
   "outputs": [
    {
     "data": {
      "text/plain": [
       "<matplotlib.collections.PathCollection at 0x26c22840438>"
      ]
     },
     "execution_count": 1,
     "metadata": {},
     "output_type": "execute_result"
    },
    {
     "data": {
      "image/png": "[encoded data removed]",
      "text/plain": [
       "<Figure size 432x288 with 1 Axes>"
      ]
     },
     "metadata": {
      "needs_background": "light"
     },
     "output_type": "display_data"
    }
   ],
   "source": [
    "import matplotlib.pyplot as plt\n",
    "import tensorflow as tf\n",
    "%matplotlib inline\n",
    "\n",
    "TRUE_W = 3.0\n",
    "TRUE_b = 2.0\n",
    "NUM_SAMPLES = 100\n",
    "\n",
    "# 初始化随机数据\n",
    "X = tf.random.normal(shape=[NUM_SAMPLES, 1]).numpy()\n",
    "noise = tf.random.normal(shape=[NUM_SAMPLES, 1]).numpy()\n",
    "y = X * TRUE_W + TRUE_b + noise  # 添加噪声\n",
    "\n",
    "plt.scatter(X, y)"
   ]
  },
  {
   "cell_type": "markdown",
   "metadata": {},
   "source": [
    "接下来，定义一元线性回归模型。\n",
    "\n",
    "$$\n",
    "f(w, b, x) = w*x + b\n",
    "$$\n",
    "\n",
    "这里构建自定义模型类，并使用 TensorFlow 提供的 `tf.Variable` 随机初始化参数 $w$ 和截距项 $b$。"
   ]
  },
  {
   "cell_type": "code",
   "execution_count": 2,
   "metadata": {},
   "outputs": [],
   "source": [
    "class Model(object):\n",
    "    def __init__(self):\n",
    "        self.W = tf.Variable(tf.random.uniform([1]))  # 随机初始化参数\n",
    "        self.b = tf.Variable(tf.random.uniform([1]))\n",
    "\n",
    "    def __call__(self, x):\n",
    "        return self.W * x + self.b  # w*x + b"
   ]
  },
  {
   "cell_type": "markdown",
   "metadata": {},
   "source": [
    "对于随机初始化的 $w$ 和 $b$，可以将其拟合直线绘制到样本散点图中。"
   ]
  },
  {
   "cell_type": "code",
   "execution_count": 3,
   "metadata": {},
   "outputs": [
    {
     "data": {
      "text/plain": [
       "[<matplotlib.lines.Line2D at 0x26c282e1c18>]"
      ]
     },
     "execution_count": 3,
     "metadata": {},
     "output_type": "execute_result"
    },
    {
     "data": {
      "image/png": "[encoded data removed]",
      "text/plain": [
       "<Figure size 432x288 with 1 Axes>"
      ]
     },
     "metadata": {
      "needs_background": "light"
     },
     "output_type": "display_data"
    }
   ],
   "source": [
    "model = Model()  # 实例化模型\n",
    "\n",
    "plt.scatter(X, y)\n",
    "plt.plot(X, model(X), c='r')"
   ]
  },
  {
   "cell_type": "markdown",
   "metadata": {},
   "source": [
    "可以明显看出，直线并没有很好地拟合样本。当然，由于是随机初始化，也有极小概率一开始拟合效果非常好，那么重新执行一次上面的单元格另外随机初始化一组数据即可。\n",
    "\n",
    "然后，定义线性回归使用到的损失函数。这里使用线性回归问题中常用的平方损失函数。\n",
    "\n",
    "$$\n",
    "{\\rm Loss}(w, b, x, y) = \\sum_{i=1}^N (f(w, b, x_i) - y_i)^2\n",
    "$$"
   ]
  },
  {
   "cell_type": "markdown",
   "metadata": {},
   "source": [
    "根据公式实现损失计算函数。"
   ]
  },
  {
   "cell_type": "code",
   "execution_count": 4,
   "metadata": {},
   "outputs": [],
   "source": [
    "def loss_fn(model, x, y):\n",
    "    y_ = model(x)\n",
    "    return tf.reduce_mean(tf.square(y_ - y))"
   ]
  },
  {
   "cell_type": "markdown",
   "metadata": {},
   "source": [
    "接下来，就可以开始迭代过程了，这也是最关键的一步。使用迭代方法求解线性回归的问题中，首先需要计算参数的梯度，然后使用梯度下降法来更新参数。\n",
    "\n",
    "$$\n",
    "\\begin{align}\n",
    "w &\\leftarrow w - lr * \\frac{\\partial {\\rm loss}(w, b)}{\\partial w} \\\\\\\n",
    "b &\\leftarrow b - lr * \\frac{\\partial {\\rm loss}(w, b)}{\\partial b}\n",
    "\\end{align}\n",
    "$$\n",
    "\n",
    "公式中，$lr$ 指代学习率。\n",
    "\n",
    "TensorFlow 2.0 中的 Eager Execution 提供了 `tf.GradientTape` 用于追踪梯度。所以，下面实现梯度下降法的迭代更新过程。"
   ]
  },
  {
   "cell_type": "code",
   "execution_count": 5,
   "metadata": {},
   "outputs": [
    {
     "name": "stdout",
     "output_type": "stream",
     "text": [
      "Epoch [1/10], loss [12.828], W/b [1.098/0.891]\n",
      "Epoch [2/10], loss [7.236], W/b [1.618/1.162]\n",
      "Epoch [3/10], loss [4.268], W/b [1.998/1.357]\n",
      "Epoch [4/10], loss [2.692], W/b [2.275/1.497]\n",
      "Epoch [5/10], loss [1.854], W/b [2.479/1.598]\n",
      "Epoch [6/10], loss [1.410], W/b [2.627/1.670]\n",
      "Epoch [7/10], loss [1.174], W/b [2.736/1.722]\n",
      "Epoch [8/10], loss [1.048], W/b [2.816/1.758]\n",
      "Epoch [9/10], loss [0.981], W/b [2.874/1.785]\n",
      "Epoch [10/10], loss [0.946], W/b [2.917/1.803]\n"
     ]
    }
   ],
   "source": [
    "EPOCHS = 10\n",
    "LEARNING_RATE = 0.1\n",
    "\n",
    "for epoch in range(EPOCHS):  # 迭代次数\n",
    "    with tf.GradientTape() as tape:  # 追踪梯度\n",
    "        loss = loss_fn(model, X, y)  # 计算损失\n",
    "    dW, db = tape.gradient(loss, [model.W, model.b])  # 计算梯度\n",
    "    model.W.assign_sub(LEARNING_RATE * dW)  # 更新梯度\n",
    "    model.b.assign_sub(LEARNING_RATE * db)\n",
    "    # 输出计算过程\n",
    "    print('Epoch [{}/{}], loss [{:.3f}], W/b [{:.3f}/{:.3f}]'.format(epoch+1, EPOCHS, loss,\n",
    "                                                                     float(model.W.numpy()),\n",
    "                                                                     float(model.b.numpy())))"
   ]
  },
  {
   "cell_type": "markdown",
   "metadata": {},
   "source": [
    "上面的代码中，我们初始化 `tf.GradientTape()` 以追踪梯度，然后使用 `tape.gradient` 方法就可以计算梯度了。值得注意的是，`tape.gradient()` 第二个参数支持以列表形式传入多个参数同时计算梯度。紧接着，使用 `.assign_sub` 即可完成公式中的减法操作用以更新梯度。\n",
    "\n",
    "最终，我们绘制参数学习完成之后，模型的拟合结果。"
   ]
  },
  {
   "cell_type": "code",
   "execution_count": 6,
   "metadata": {},
   "outputs": [
    {
     "data": {
      "text/plain": [
       "[<matplotlib.lines.Line2D at 0x26c203e2a58>]"
      ]
     },
     "execution_count": 6,
     "metadata": {},
     "output_type": "execute_result"
    },
    {
     "data": {
      "image/png": "[encoded data removed]",
      "text/plain": [
       "<Figure size 432x288 with 1 Axes>"
      ]
     },
     "metadata": {
      "needs_background": "light"
     },
     "output_type": "display_data"
    }
   ],
   "source": [
    "plt.scatter(X, y)\n",
    "plt.plot(X, model(X), c='r')"
   ]
  },
  {
   "cell_type": "markdown",
   "metadata": {},
   "source": [
    "如无意外，你将得到一个比随机参数好很多的拟合直线。\n",
    "\n",
    "<i class=\"fa fa-exclamation-circle\" aria-hidden=\"true\"> 提示：</i>由于是随机初始化参数，如果迭代后拟合效果仍然不好，一般是迭代次数太少的原因。可以重复执行上面的迭代单元格多次，增加参数更新迭代次数，即可改善拟合效果。此提示对后面的内容同样有效。"
   ]
  },
  {
   "cell_type": "markdown",
   "metadata": {},
   "source": [
    "### 高阶 API 实现\n",
    "\n",
    "TensorFlow 2.0 中提供了大量的高阶 API 帮助我们快速构建所需模型，接下来，我们使用一些新的 API 来完成线性回归模型的构建。这里还是沿用上面提供的示例数据。"
   ]
  },
  {
   "cell_type": "markdown",
   "metadata": {},
   "source": [
    "`tf.keras` 模块下提供的 `tf.keras.layers.Dense` 全连接层（线性层）实际上就是一个线性计算过程。所以，模型的定义部分我们就可以直接实例化一个全连接层即可。"
   ]
  },
  {
   "cell_type": "code",
   "execution_count": 7,
   "metadata": {},
   "outputs": [
    {
     "data": {
      "text/plain": [
       "<tensorflow.python.keras.layers.core.Dense at 0x26c2822c390>"
      ]
     },
     "execution_count": 7,
     "metadata": {},
     "output_type": "execute_result"
    }
   ],
   "source": [
    "model = tf.keras.layers.Dense(units=1)  # 实例化线性层\n",
    "model"
   ]
  },
  {
   "cell_type": "markdown",
   "metadata": {},
   "source": [
    "其中，`units` 为输出空间维度。此时，参数已经被初始化了，所以我们可以绘制出拟合直线。"
   ]
  },
  {
   "cell_type": "code",
   "execution_count": 8,
   "metadata": {},
   "outputs": [
    {
     "data": {
      "text/plain": [
       "[<matplotlib.lines.Line2D at 0x26c280aeac8>]"
      ]
     },
     "execution_count": 8,
     "metadata": {},
     "output_type": "execute_result"
    },
    {
     "data": {
      "image/png": "[encoded data removed]",
      "text/plain": [
       "<Figure size 432x288 with 1 Axes>"
      ]
     },
     "metadata": {
      "needs_background": "light"
     },
     "output_type": "display_data"
    }
   ],
   "source": [
    "plt.scatter(X, y)\n",
    "plt.plot(X, model(X), c='r')"
   ]
  },
  {
   "cell_type": "markdown",
   "metadata": {},
   "source": [
    "可以使用 `model.variables` 打印出模型初始化的随机参数。"
   ]
  },
  {
   "cell_type": "code",
   "execution_count": 9,
   "metadata": {},
   "outputs": [
    {
     "data": {
      "text/plain": [
       "[<tf.Variable 'dense/kernel:0' shape=(1, 1) dtype=float32, numpy=array([[0.68697464]], dtype=float32)>,\n",
       " <tf.Variable 'dense/bias:0' shape=(1,) dtype=float32, numpy=array([0.], dtype=float32)>]"
      ]
     },
     "execution_count": 9,
     "metadata": {},
     "output_type": "execute_result"
    }
   ],
   "source": [
    "model.variables"
   ]
  },
  {
   "cell_type": "markdown",
   "metadata": {},
   "source": [
    "接下来就可以直接构建模型迭代过程了。\n",
    "\n",
    "这里同样使用 `tf.GradientTape()` 来追踪梯度，我们简化损失计算和更新的过程。首先，损失可以使用现有 API `tf.keras.losses.mean_squared_error` 计算，最终使用 `tf.reduce_sum` 求得全部样本的平均损失。"
   ]
  },
  {
   "cell_type": "code",
   "execution_count": 10,
   "metadata": {},
   "outputs": [
    {
     "name": "stdout",
     "output_type": "stream",
     "text": [
      "Epoch [1/10], loss [1293.861]\n",
      "Epoch [2/10], loss [345.017]\n",
      "Epoch [3/10], loss [145.012]\n",
      "Epoch [4/10], loss [102.460]\n",
      "Epoch [5/10], loss [93.243]\n",
      "Epoch [6/10], loss [91.180]\n",
      "Epoch [7/10], loss [90.690]\n",
      "Epoch [8/10], loss [90.564]\n",
      "Epoch [9/10], loss [90.527]\n",
      "Epoch [10/10], loss [90.515]\n"
     ]
    }
   ],
   "source": [
    "EPOCHS = 10\n",
    "LEARNING_RATE = 0.002\n",
    "for epoch in range(EPOCHS):  # 迭代次数\n",
    "    with tf.GradientTape() as tape:  # 追踪梯度\n",
    "        y_ = model(X)\n",
    "        loss = tf.reduce_sum(tf.keras.losses.mean_squared_error(y, y_))  # 计算损失\n",
    "\n",
    "    grads = tape.gradient(loss, model.variables)  # 计算梯度\n",
    "    optimizer = tf.keras.optimizers.SGD(LEARNING_RATE)  # 随机梯度下降\n",
    "    optimizer.apply_gradients(zip(grads, model.variables))  # 更新梯度\n",
    "\n",
    "    print('Epoch [{}/{}], loss [{:.3f}]'.format(epoch+1, EPOCHS, loss))"
   ]
  },
  {
   "cell_type": "markdown",
   "metadata": {},
   "source": [
    "其次，使用 `model.variables` 即可读取可参数的列表，无需像上面那样手动传入。这里不再按公式手动更新梯度，而是使用现有的随机梯度下降函数 `tf.keras.optimizers.SGD`，然后使用 `apply_gradients` 即可更新梯度。\n",
    "\n",
    "最终，同样将迭代完成的参数绘制拟合直线到原图中。"
   ]
  },
  {
   "cell_type": "code",
   "execution_count": 11,
   "metadata": {},
   "outputs": [
    {
     "data": {
      "text/plain": [
       "[<matplotlib.lines.Line2D at 0x26c2822c080>]"
      ]
     },
     "execution_count": 11,
     "metadata": {},
     "output_type": "execute_result"
    },
    {
     "data": {
      "image/png": "[encoded data removed]",
      "text/plain": [
       "<Figure size 432x288 with 1 Axes>"
      ]
     },
     "metadata": {
      "needs_background": "light"
     },
     "output_type": "display_data"
    }
   ],
   "source": [
    "plt.scatter(X, y)\n",
    "plt.plot(X, model(X), c='r')"
   ]
  },
  {
   "cell_type": "markdown",
   "metadata": {},
   "source": [
    "### Keras 方式实现\n",
    "\n",
    "上面的高阶 API 实现过程实际上还不够精简，我们可以完全使用 TensorFlow Keras API 来实现线性回归。"
   ]
  },
  {
   "cell_type": "markdown",
   "metadata": {},
   "source": [
    "我们这里使用 Keras 提供的 Sequential 序贯模型结构。和上面的例子相似，向其中添加一个线性层。不同的地方在于，Keras 序贯模型第一层为线性层时，规定需指定输入维度，这里为 `input_dim=1`。"
   ]
  },
  {
   "cell_type": "code",
   "execution_count": 12,
   "metadata": {},
   "outputs": [
    {
     "name": "stdout",
     "output_type": "stream",
     "text": [
      "Model: \"sequential\"\n",
      "_________________________________________________________________\n",
      "Layer (type)                 Output Shape              Param #   \n",
      "=================================================================\n",
      "dense_1 (Dense)              (None, 1)                 2         \n",
      "=================================================================\n",
      "Total params: 2\n",
      "Trainable params: 2\n",
      "Non-trainable params: 0\n",
      "_________________________________________________________________\n"
     ]
    }
   ],
   "source": [
    "model = tf.keras.Sequential()\n",
    "model.add(tf.keras.layers.Dense(units=1, input_dim=1))\n",
    "model.summary()  # 查看模型结构"
   ]
  },
  {
   "cell_type": "markdown",
   "metadata": {},
   "source": [
    "接下来，直接使用 `.compile` 编译模型，指定损失函数为 MSE 平方损失，优化器选择 SGD 随机梯度下降。然后，就可以使用 `.fit` 传入数据开始迭代了。"
   ]
  },
  {
   "cell_type": "markdown",
   "metadata": {},
   "source": [
    "model.compile(optimizer='sgd', loss='mse')\n",
    "model.fit(X, y, steps_per_epoch=1000)"
   ]
  },
  {
   "cell_type": "markdown",
   "metadata": {},
   "source": [
    "`steps_per_epoch` 只的是在默认小批量为 32 的条件下，传入相应次数的小批量样本。最终绘制出迭代完成的拟合图像。"
   ]
  },
  {
   "cell_type": "code",
   "execution_count": 13,
   "metadata": {},
   "outputs": [
    {
     "data": {
      "text/plain": [
       "[<matplotlib.lines.Line2D at 0x26c2830e2e8>]"
      ]
     },
     "execution_count": 13,
     "metadata": {},
     "output_type": "execute_result"
    },
    {
     "data": {
      "image/png": "[encoded data removed]",
      "text/plain": [
       "<Figure size 432x288 with 1 Axes>"
      ]
     },
     "metadata": {
      "needs_background": "light"
     },
     "output_type": "display_data"
    }
   ],
   "source": [
    "plt.scatter(X, y)\n",
    "plt.plot(X, model(X), c='r')"
   ]
  },
  {
   "cell_type": "markdown",
   "metadata": {},
   "source": [
    "如上所示，完全使用 Keras 高阶 API 实际上只需要 4 行核心代码即可完成。相比于最开始的低阶 API 简化了很多。"
   ]
  },
  {
   "cell_type": "markdown",
   "metadata": {},
   "source": [
    "## 神经网络"
   ]
  },
  {
   "cell_type": "markdown",
   "metadata": {},
   "source": [
    "### 低阶 API 构建\n",
    "\n",
    "了解了线性回归中的低阶 API 实现方法，那使用 TensorFlow 2.0 低阶 API 构建神经网络实际上就比较简单了。这里，我们先加载一组数据，DIGITS 数据集是 scikit-learn 提供的简单手写字符识别数据集。\n",
    "\n",
    "我们读取数据集并进行简单切分，这里对字符标签进行了独热编码方便后面计算损失值。"
   ]
  },
  {
   "cell_type": "code",
   "execution_count": 14,
   "metadata": {},
   "outputs": [
    {
     "data": {
      "text/plain": [
       "((1437, 64), (360, 64), (1437, 10), (360, 10))"
      ]
     },
     "execution_count": 14,
     "metadata": {},
     "output_type": "execute_result"
    }
   ],
   "source": [
    "import numpy as np\n",
    "from sklearn.datasets import load_digits\n",
    "from sklearn.model_selection import train_test_split\n",
    "\n",
    "digits = load_digits()\n",
    "digits_y = np.eye(10)[digits.target.reshape(-1)]  # 标签独热编码\n",
    "X_train, X_test, y_train, y_test = train_test_split(digits.data, \n",
    "                                                    digits_y,\n",
    "                                                    test_size=0.2, \n",
    "                                                    random_state=1)\n",
    "\n",
    "X_train.shape, X_test.shape, y_train.shape, y_test.shape"
   ]
  },
  {
   "cell_type": "markdown",
   "metadata": {},
   "source": [
    "下面，使用 TensorFlow 2.0 低阶 API 构建一个包含 1 个隐含层的简单神经网络结构。神经网络的输入是单个手写字符样本的向量长度 64，隐含层输入为 30，最终的输出层为 10。\n",
    "\n",
    "特别地，我们对隐含层进行 RELU 激活，输出层不激活。输出层的单样本长度为 10，这样正好就和上方独热编码后的值对应上了。"
   ]
  },
  {
   "cell_type": "code",
   "execution_count": 15,
   "metadata": {},
   "outputs": [],
   "source": [
    "class Model(object):\n",
    "    def __init__(self):\n",
    "        self.W1 = tf.Variable(tf.random.normal([64, 30]))  # 随机初始化张量参数\n",
    "        self.b1 = tf.Variable(tf.random.normal([30]))\n",
    "\n",
    "        self.W2 = tf.Variable(tf.random.normal([30, 10]))\n",
    "        self.b2 = tf.Variable(tf.random.normal([10]))\n",
    "\n",
    "    def __call__(self, x):\n",
    "        x = tf.cast(x, tf.float32)  # 转换输入数据类型\n",
    "        # 线性计算 + RELU 激活\n",
    "        fc1 = tf.nn.relu(tf.add(tf.matmul(x, self.W1), self.b1))\n",
    "        fc2 = tf.add(tf.matmul(fc1, self.W2), self.b2)\n",
    "        return fc2"
   ]
  },
  {
   "cell_type": "markdown",
   "metadata": {},
   "source": [
    "下面，我们开始构建损失函数。损失函数使用 TensorFlow 提供的 `tf.nn.softmax_cross_entropy_with_logits`，这是一个自带 Softmax 的交叉熵损失函数。最终通过 `reduce_mean` 求得全局平均损失。"
   ]
  },
  {
   "cell_type": "code",
   "execution_count": 16,
   "metadata": {},
   "outputs": [],
   "source": [
    "def loss_fn(model, x, y):\n",
    "    preds = model(x)\n",
    "    return tf.reduce_mean(tf.nn.softmax_cross_entropy_with_logits(logits=preds, labels=y))"
   ]
  },
  {
   "cell_type": "markdown",
   "metadata": {},
   "source": [
    "于此同时，为了方便查看分类准确度，我们需要手动构建一个准确度评估函数。`tf.argmax` 可以将 Softmax 结果转换为对应的字符值。然后使用 `tf.equal` 比对各样本的结果是否正确，最终使用 `reduce_mean` 求得全部样本的分类准确度。"
   ]
  },
  {
   "cell_type": "code",
   "execution_count": 17,
   "metadata": {},
   "outputs": [],
   "source": [
    "def accuracy_fn(logits, labels):\n",
    "    preds = tf.argmax(logits, axis=1)  # 取值最大的索引，正好对应字符标签\n",
    "    labels = tf.argmax(labels, axis=1)\n",
    "    return tf.reduce_mean(tf.cast(tf.equal(preds, labels), tf.float32))"
   ]
  },
  {
   "cell_type": "markdown",
   "metadata": {},
   "source": [
    "下面开始构建最关键的训练迭代过程。实际上，这部分和构建线性回归非常相似，我们的目的是对神经网络参数进行迭代优化。"
   ]
  },
  {
   "cell_type": "code",
   "execution_count": 18,
   "metadata": {},
   "outputs": [
    {
     "name": "stdout",
     "output_type": "stream",
     "text": [
      "Epoch [10/100],\n",
      " Train    loss: 88.591,\n",
      " Test accuracy: 0.269\n",
      "Epoch [20/100],\n",
      " Train    loss: 23.798,\n",
      " Test accuracy: 0.633\n",
      "Epoch [30/100],\n",
      " Train    loss: 13.631,\n",
      " Test accuracy: 0.756\n",
      "Epoch [40/100],\n",
      " Train    loss: 10.075,\n",
      " Test accuracy: 0.797\n",
      "Epoch [50/100],\n",
      " Train    loss: 7.807,\n",
      " Test accuracy: 0.814\n",
      "Epoch [60/100],\n",
      " Train    loss: 6.346,\n",
      " Test accuracy: 0.858\n",
      "Epoch [70/100],\n",
      " Train    loss: 5.434,\n",
      " Test accuracy: 0.856\n",
      "Epoch [80/100],\n",
      " Train    loss: 4.937,\n",
      " Test accuracy: 0.867\n",
      "Epoch [90/100],\n",
      " Train    loss: 4.436,\n",
      " Test accuracy: 0.881\n",
      "Epoch [100/100],\n",
      " Train    loss: 4.122,\n",
      " Test accuracy: 0.889\n"
     ]
    }
   ],
   "source": [
    "EPOCHS = 100  # 迭代此时\n",
    "LEARNING_RATE = 0.02  # 学习率\n",
    "model = Model()  # 模型\n",
    "for epoch in range(EPOCHS):\n",
    "    with tf.GradientTape() as tape:  # 追踪梯度\n",
    "        loss = loss_fn(model, X_train, y_train)\n",
    "\n",
    "    trainable_variables = [model.W1, model.b1, model.W2, model.b2]  # 需优化参数列表\n",
    "    grads = tape.gradient(loss, trainable_variables)  # 计算梯度\n",
    "\n",
    "    optimizer = tf.optimizers.Adam(learning_rate=LEARNING_RATE)  # 优化器\n",
    "    optimizer.apply_gradients(zip(grads, trainable_variables))  # 更新梯度\n",
    "    accuracy = accuracy_fn(model(X_test), y_test)  # 计算准确度\n",
    "\n",
    "    # 输出各项指标\n",
    "    if (epoch + 1) % 10 == 0:\n",
    "        print('Epoch [{}/{}],\\n Train    loss: {:.3f},\\n Test accuracy: {:.3f}'\n",
    "              .format(epoch+1, EPOCHS, loss, accuracy))"
   ]
  },
  {
   "cell_type": "markdown",
   "metadata": {},
   "source": [
    "### Keras 高阶 API 实现"
   ]
  },
  {
   "cell_type": "markdown",
   "metadata": {},
   "source": [
    "线性回归的实验中，我们使用了 `Sequential` 序贯模型，实际上 Keras 中更容易理解的是函数式模型。函数式模型最直观的地方在于可以看清楚输入和输出。"
   ]
  },
  {
   "cell_type": "markdown",
   "metadata": {},
   "source": [
    "#### 函数式模型\n",
    "\n",
    "例如，下面我们开始定义函数式模型。首先是 `Input` 层，这在序贯模型中是没有的。然后我们将 `inputs` 传入 `Dense` 层，最终再输出。"
   ]
  },
  {
   "cell_type": "code",
   "execution_count": 19,
   "metadata": {},
   "outputs": [
    {
     "name": "stdout",
     "output_type": "stream",
     "text": [
      "Model: \"model\"\n",
      "_________________________________________________________________\n",
      "Layer (type)                 Output Shape              Param #   \n",
      "=================================================================\n",
      "input_1 (InputLayer)         [(None, 64)]              0         \n",
      "_________________________________________________________________\n",
      "dense_2 (Dense)              (None, 30)                1950      \n",
      "_________________________________________________________________\n",
      "dense_3 (Dense)              (None, 10)                310       \n",
      "=================================================================\n",
      "Total params: 2,260\n",
      "Trainable params: 2,260\n",
      "Non-trainable params: 0\n",
      "_________________________________________________________________\n"
     ]
    }
   ],
   "source": [
    "# 函数式模型\n",
    "inputs = tf.keras.Input(shape=(64,))\n",
    "x = tf.keras.layers.Dense(30, activation='relu')(inputs)\n",
    "outputs = tf.keras.layers.Dense(10, activation='softmax')(x)\n",
    "\n",
    "# 指定输入和输出\n",
    "model = tf.keras.Model(inputs=inputs, outputs=outputs)\n",
    "model.summary()  # 查看模型结构"
   ]
  },
  {
   "cell_type": "markdown",
   "metadata": {},
   "source": [
    "值得注意的是，函数式模型中需要使用 `tf.keras.Model` 来最终确定输入和输出。\n",
    "\n",
    "下面，可以开始编译和训练模型。这里使用 `tf.optimizers.Adam` 作为优化器，`tf.losses.categorical_crossentropy` 多分类交叉熵作为损失函数。与 `tf.nn.softmax_cross_entropy_with_logits` 不同的是，`tf.losses.categorical_crossentropy` 是从 Keras 中演化而来的，其去掉了 Softmax 的过程。而这个过程被我们直接加入到模型的构建中。你可以看到，上面的 model 输出层使用了 `softmax` 激活。"
   ]
  },
  {
   "cell_type": "code",
   "execution_count": 20,
   "metadata": {},
   "outputs": [
    {
     "name": "stdout",
     "output_type": "stream",
     "text": [
      "200/200 [==============================] - 1s 3ms/step - loss: 1.5286 - accuracy: 0.6921 - val_loss: 0.2638 - val_accuracy: 0.9111\n"
     ]
    },
    {
     "data": {
      "text/plain": [
       "<tensorflow.python.keras.callbacks.History at 0x26c2a2eff60>"
      ]
     },
     "execution_count": 20,
     "metadata": {},
     "output_type": "execute_result"
    }
   ],
   "source": [
    "# 编译模型\n",
    "model.compile(optimizer=tf.optimizers.Adam(),\n",
    "              loss=tf.losses.categorical_crossentropy, metrics=['accuracy'])\n",
    "# 训练和评估\n",
    "model.fit(X_train, y_train, batch_size=64, steps_per_epoch=200,\n",
    "          validation_data=(X_test, y_test))"
   ]
  },
  {
   "cell_type": "markdown",
   "metadata": {},
   "source": [
    "Keras 的训练过程可以采用小批量迭代，直接指定 `batch_size` 即可。`validation_data` 可以传入测试数据得到准确度评估结果，非常方便。"
   ]
  },
  {
   "cell_type": "markdown",
   "metadata": {},
   "source": [
    "#### 序贯模型\n",
    "\n",
    "当然，上方的函数式模型也可以被写为序贯模型。下面，我们就使用序贯模型进行实现。"
   ]
  },
  {
   "cell_type": "code",
   "execution_count": 21,
   "metadata": {},
   "outputs": [
    {
     "name": "stdout",
     "output_type": "stream",
     "text": [
      "Model: \"sequential_1\"\n",
      "_________________________________________________________________\n",
      "Layer (type)                 Output Shape              Param #   \n",
      "=================================================================\n",
      "dense_4 (Dense)              (None, 30)                1950      \n",
      "_________________________________________________________________\n",
      "dense_5 (Dense)              (None, 10)                310       \n",
      "=================================================================\n",
      "Total params: 2,260\n",
      "Trainable params: 2,260\n",
      "Non-trainable params: 0\n",
      "_________________________________________________________________\n"
     ]
    }
   ],
   "source": [
    "model = tf.keras.Sequential()  # 建立序贯模型\n",
    "model.add(tf.keras.layers.Dense(units=30, input_dim=64, activation='relu'))  # 隐含层 \n",
    "model.add(tf.keras.layers.Dense(units=10, activation='softmax'))  # 输出层\n",
    "model.summary()  # 查看模型结构"
   ]
  },
  {
   "cell_type": "markdown",
   "metadata": {},
   "source": [
    "此时，我们使用参数简写来替代函数式模型中复杂的写法。"
   ]
  },
  {
   "cell_type": "code",
   "execution_count": 22,
   "metadata": {},
   "outputs": [
    {
     "name": "stdout",
     "output_type": "stream",
     "text": [
      "200/200 [==============================] - 1s 3ms/step - loss: 1.4324 - accuracy: 0.7400 - val_loss: 0.1904 - val_accuracy: 0.9417\n"
     ]
    },
    {
     "data": {
      "text/plain": [
       "<tensorflow.python.keras.callbacks.History at 0x26c2bab8780>"
      ]
     },
     "execution_count": 22,
     "metadata": {},
     "output_type": "execute_result"
    }
   ],
   "source": [
    "model.compile(optimizer='adam', loss='categorical_crossentropy',\n",
    "              metrics=['accuracy'])\n",
    "model.fit(X_train, y_train, batch_size=64, steps_per_epoch=200,\n",
    "          validation_data=(X_test, y_test))"
   ]
  },
  {
   "cell_type": "markdown",
   "metadata": {},
   "source": [
    "#### 自由度更高的模型"
   ]
  },
  {
   "cell_type": "markdown",
   "metadata": {},
   "source": [
    "TensorFlow 2.0 中还支持另外一种更为灵活的 Keras 定义模型方法，这种方法和 PyTorch 中继承 `torch.nn.Module` 来定义模型的思路非常相似。我们可以继承 `tf.keras.Model` 来构建模型。这种模型的定义方法自由度更高，我们可以添加更多的中间组件，相对灵活。"
   ]
  },
  {
   "cell_type": "code",
   "execution_count": 23,
   "metadata": {},
   "outputs": [],
   "source": [
    "class Model(tf.keras.Model):\n",
    "    def __init__(self):\n",
    "        super(Model, self).__init__()\n",
    "        self.dense_1 = tf.keras.layers.Dense(30, activation='relu')  # 初始化\n",
    "        self.dense_2 = tf.keras.layers.Dense(10, activation='softmax')\n",
    "\n",
    "    def call(self, inputs):\n",
    "        x = self.dense_1(inputs)  # 前向传播过程\n",
    "        return self.dense_2(x)"
   ]
  },
  {
   "cell_type": "markdown",
   "metadata": {},
   "source": [
    "接下来的过程和上面相似，实例化模型然后训练并评估。"
   ]
  },
  {
   "cell_type": "code",
   "execution_count": 24,
   "metadata": {},
   "outputs": [
    {
     "name": "stdout",
     "output_type": "stream",
     "text": [
      "200/200 [==============================] - 1s 3ms/step - loss: 1.9106 - accuracy: 0.6596 - val_loss: 0.2350 - val_accuracy: 0.9194\n"
     ]
    },
    {
     "data": {
      "text/plain": [
       "<tensorflow.python.keras.callbacks.History at 0x26c2d21efd0>"
      ]
     },
     "execution_count": 24,
     "metadata": {},
     "output_type": "execute_result"
    }
   ],
   "source": [
    "model = Model()  # 实例化模型\n",
    "model.compile(optimizer='adam', loss='categorical_crossentropy',\n",
    "              metrics=['accuracy'])\n",
    "model.fit(X_train, y_train, batch_size=64, steps_per_epoch=200,\n",
    "          validation_data=(X_test, y_test))"
   ]
  }
 ],
 "metadata": {
  "kernelspec": {
   "display_name": "Python 3",
   "language": "python",
   "name": "python3"
  },
  "language_info": {
   "codemirror_mode": {
    "name": "ipython",
    "version": 3
   },
   "file_extension": ".py",
   "mimetype": "text/x-python",
   "name": "python",
   "nbconvert_exporter": "python",
   "pygments_lexer": "ipython3",
   "version": "3.7.3"
  }
 },
 "nbformat": 4,
 "nbformat_minor": 2
}
