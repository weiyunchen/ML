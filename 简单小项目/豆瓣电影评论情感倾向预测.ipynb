{
 "cells": [
  {
   "cell_type": "markdown",
   "metadata": {
    "deletable": false,
    "editable": false
   },
   "source": [
    "### 电影评论情感分析 "
   ]
  },
  {
   "cell_type": "markdown",
   "metadata": {},
   "source": [
    "无意中看到了这个数据集，该数据集包含了豆瓣上的 28 部电影的 200 万个短评，正好拿来练一练NLP。我将使用该数据集建立NLP的模型并进行测试，本实验暂时分为以下几部分：\n",
    "- NN\n",
    "- LSTM"
   ]
  },
  {
   "cell_type": "code",
   "execution_count": 1,
   "metadata": {},
   "outputs": [],
   "source": [
    "import warnings\n",
    "warnings.filterwarnings('ignore')\n",
    "import pandas as pd\n",
    "import os\n",
    "import time\n",
    "from tqdm import tqdm_notebook\n",
    "import re\n",
    "import time\n",
    "import copy\n",
    "import random\n",
    "import jieba\n",
    "from collections import Counter\n",
    "from sklearn.feature_extraction.text import TfidfVectorizer\n",
    "import torch\n",
    "import torch.nn as nn\n",
    "import torch.nn.functional as F\n",
    "from torch.utils.data import Dataset, DataLoader\n",
    "from torch.optim import lr_scheduler"
   ]
  },
  {
   "cell_type": "markdown",
   "metadata": {
    "deletable": false,
    "editable": false
   },
   "source": [
    "#### 数据预处理"
   ]
  },
  {
   "cell_type": "markdown",
   "metadata": {
    "deletable": false,
    "editable": false
   },
   "source": [
    "首先，我们读取并预览 CSV 数据文件。"
   ]
  },
  {
   "cell_type": "code",
   "execution_count": 2,
   "metadata": {},
   "outputs": [
    {
     "data": {
      "text/html": [
       "<div>\n",
       "<style scoped>\n",
       "    .dataframe tbody tr th:only-of-type {\n",
       "        vertical-align: middle;\n",
       "    }\n",
       "\n",
       "    .dataframe tbody tr th {\n",
       "        vertical-align: top;\n",
       "    }\n",
       "\n",
       "    .dataframe thead th {\n",
       "        text-align: right;\n",
       "    }\n",
       "</style>\n",
       "<table border=\"1\" class=\"dataframe\">\n",
       "  <thead>\n",
       "    <tr style=\"text-align: right;\">\n",
       "      <th></th>\n",
       "      <th>Movie_Name_EN</th>\n",
       "      <th>Movie_Name_CN</th>\n",
       "      <th>Crawl_Date</th>\n",
       "      <th>Number</th>\n",
       "      <th>Username</th>\n",
       "      <th>Date</th>\n",
       "      <th>Star</th>\n",
       "      <th>Comment</th>\n",
       "      <th>Like</th>\n",
       "    </tr>\n",
       "    <tr>\n",
       "      <th>ID</th>\n",
       "      <th></th>\n",
       "      <th></th>\n",
       "      <th></th>\n",
       "      <th></th>\n",
       "      <th></th>\n",
       "      <th></th>\n",
       "      <th></th>\n",
       "      <th></th>\n",
       "      <th></th>\n",
       "    </tr>\n",
       "  </thead>\n",
       "  <tbody>\n",
       "    <tr>\n",
       "      <th>0</th>\n",
       "      <td>Avengers Age of Ultron</td>\n",
       "      <td>复仇者联盟2</td>\n",
       "      <td>2017-01-22</td>\n",
       "      <td>1</td>\n",
       "      <td>然潘</td>\n",
       "      <td>2015-05-13</td>\n",
       "      <td>3</td>\n",
       "      <td>连奥创都知道整容要去韩国。</td>\n",
       "      <td>2404</td>\n",
       "    </tr>\n",
       "    <tr>\n",
       "      <th>1</th>\n",
       "      <td>Avengers Age of Ultron</td>\n",
       "      <td>复仇者联盟2</td>\n",
       "      <td>2017-01-22</td>\n",
       "      <td>2</td>\n",
       "      <td>更深的白色</td>\n",
       "      <td>2015-04-24</td>\n",
       "      <td>2</td>\n",
       "      <td>非常失望，剧本完全敷衍了事，主线剧情没突破大家可以理解，可所有的人物都缺乏动机，正邪之间、...</td>\n",
       "      <td>1231</td>\n",
       "    </tr>\n",
       "    <tr>\n",
       "      <th>2</th>\n",
       "      <td>Avengers Age of Ultron</td>\n",
       "      <td>复仇者联盟2</td>\n",
       "      <td>2017-01-22</td>\n",
       "      <td>3</td>\n",
       "      <td>有意识的贱民</td>\n",
       "      <td>2015-04-26</td>\n",
       "      <td>2</td>\n",
       "      <td>2015年度最失望作品。以为面面俱到，实则画蛇添足；以为主题深刻，实则老调重弹；以为推陈出...</td>\n",
       "      <td>1052</td>\n",
       "    </tr>\n",
       "    <tr>\n",
       "      <th>3</th>\n",
       "      <td>Avengers Age of Ultron</td>\n",
       "      <td>复仇者联盟2</td>\n",
       "      <td>2017-01-22</td>\n",
       "      <td>4</td>\n",
       "      <td>不老的李大爷耶</td>\n",
       "      <td>2015-04-23</td>\n",
       "      <td>4</td>\n",
       "      <td>《铁人2》中勾引钢铁侠，《妇联1》中勾引鹰眼，《美队2》中勾引美国队长，在《妇联2》中终于...</td>\n",
       "      <td>1045</td>\n",
       "    </tr>\n",
       "    <tr>\n",
       "      <th>4</th>\n",
       "      <td>Avengers Age of Ultron</td>\n",
       "      <td>复仇者联盟2</td>\n",
       "      <td>2017-01-22</td>\n",
       "      <td>5</td>\n",
       "      <td>ZephyrO</td>\n",
       "      <td>2015-04-22</td>\n",
       "      <td>2</td>\n",
       "      <td>虽然从头打到尾，但是真的很无聊啊。</td>\n",
       "      <td>723</td>\n",
       "    </tr>\n",
       "  </tbody>\n",
       "</table>\n",
       "</div>"
      ],
      "text/plain": [
       "             Movie_Name_EN Movie_Name_CN  Crawl_Date  Number Username  \\\n",
       "ID                                                                      \n",
       "0   Avengers Age of Ultron        复仇者联盟2  2017-01-22       1       然潘   \n",
       "1   Avengers Age of Ultron        复仇者联盟2  2017-01-22       2    更深的白色   \n",
       "2   Avengers Age of Ultron        复仇者联盟2  2017-01-22       3   有意识的贱民   \n",
       "3   Avengers Age of Ultron        复仇者联盟2  2017-01-22       4  不老的李大爷耶   \n",
       "4   Avengers Age of Ultron        复仇者联盟2  2017-01-22       5  ZephyrO   \n",
       "\n",
       "          Date  Star                                            Comment  Like  \n",
       "ID                                                                             \n",
       "0   2015-05-13     3                                      连奥创都知道整容要去韩国。  2404  \n",
       "1   2015-04-24     2   非常失望，剧本完全敷衍了事，主线剧情没突破大家可以理解，可所有的人物都缺乏动机，正邪之间、...  1231  \n",
       "2   2015-04-26     2   2015年度最失望作品。以为面面俱到，实则画蛇添足；以为主题深刻，实则老调重弹；以为推陈出...  1052  \n",
       "3   2015-04-23     4   《铁人2》中勾引钢铁侠，《妇联1》中勾引鹰眼，《美队2》中勾引美国队长，在《妇联2》中终于...  1045  \n",
       "4   2015-04-22     2                                  虽然从头打到尾，但是真的很无聊啊。   723  "
      ]
     },
     "execution_count": 2,
     "metadata": {},
     "output_type": "execute_result"
    }
   ],
   "source": [
    "import pandas as pd\n",
    "\n",
    "douban_data = pd.read_csv('DMSC.csv', index_col=0)\n",
    "douban_data.head()"
   ]
  },
  {
   "cell_type": "code",
   "execution_count": 3,
   "metadata": {},
   "outputs": [
    {
     "data": {
      "text/html": [
       "<div>\n",
       "<style scoped>\n",
       "    .dataframe tbody tr th:only-of-type {\n",
       "        vertical-align: middle;\n",
       "    }\n",
       "\n",
       "    .dataframe tbody tr th {\n",
       "        vertical-align: top;\n",
       "    }\n",
       "\n",
       "    .dataframe thead th {\n",
       "        text-align: right;\n",
       "    }\n",
       "</style>\n",
       "<table border=\"1\" class=\"dataframe\">\n",
       "  <thead>\n",
       "    <tr style=\"text-align: right;\">\n",
       "      <th></th>\n",
       "      <th>Movie_Name_EN</th>\n",
       "      <th>Movie_Name_CN</th>\n",
       "      <th>Crawl_Date</th>\n",
       "      <th>Number</th>\n",
       "      <th>Username</th>\n",
       "      <th>Date</th>\n",
       "      <th>Star</th>\n",
       "      <th>Comment</th>\n",
       "      <th>Like</th>\n",
       "    </tr>\n",
       "    <tr>\n",
       "      <th>ID</th>\n",
       "      <th></th>\n",
       "      <th></th>\n",
       "      <th></th>\n",
       "      <th></th>\n",
       "      <th></th>\n",
       "      <th></th>\n",
       "      <th></th>\n",
       "      <th></th>\n",
       "      <th></th>\n",
       "    </tr>\n",
       "  </thead>\n",
       "  <tbody>\n",
       "    <tr>\n",
       "      <th>0</th>\n",
       "      <td>Avengers Age of Ultron</td>\n",
       "      <td>复仇者联盟2</td>\n",
       "      <td>2017-01-22</td>\n",
       "      <td>1</td>\n",
       "      <td>然潘</td>\n",
       "      <td>2015-05-13</td>\n",
       "      <td>2</td>\n",
       "      <td>连奥创都知道整容要去韩国。</td>\n",
       "      <td>2404</td>\n",
       "    </tr>\n",
       "    <tr>\n",
       "      <th>1</th>\n",
       "      <td>Avengers Age of Ultron</td>\n",
       "      <td>复仇者联盟2</td>\n",
       "      <td>2017-01-22</td>\n",
       "      <td>2</td>\n",
       "      <td>更深的白色</td>\n",
       "      <td>2015-04-24</td>\n",
       "      <td>1</td>\n",
       "      <td>非常失望，剧本完全敷衍了事，主线剧情没突破大家可以理解，可所有的人物都缺乏动机，正邪之间、...</td>\n",
       "      <td>1231</td>\n",
       "    </tr>\n",
       "    <tr>\n",
       "      <th>2</th>\n",
       "      <td>Avengers Age of Ultron</td>\n",
       "      <td>复仇者联盟2</td>\n",
       "      <td>2017-01-22</td>\n",
       "      <td>3</td>\n",
       "      <td>有意识的贱民</td>\n",
       "      <td>2015-04-26</td>\n",
       "      <td>1</td>\n",
       "      <td>2015年度最失望作品。以为面面俱到，实则画蛇添足；以为主题深刻，实则老调重弹；以为推陈出...</td>\n",
       "      <td>1052</td>\n",
       "    </tr>\n",
       "    <tr>\n",
       "      <th>3</th>\n",
       "      <td>Avengers Age of Ultron</td>\n",
       "      <td>复仇者联盟2</td>\n",
       "      <td>2017-01-22</td>\n",
       "      <td>4</td>\n",
       "      <td>不老的李大爷耶</td>\n",
       "      <td>2015-04-23</td>\n",
       "      <td>2</td>\n",
       "      <td>《铁人2》中勾引钢铁侠，《妇联1》中勾引鹰眼，《美队2》中勾引美国队长，在《妇联2》中终于...</td>\n",
       "      <td>1045</td>\n",
       "    </tr>\n",
       "    <tr>\n",
       "      <th>4</th>\n",
       "      <td>Avengers Age of Ultron</td>\n",
       "      <td>复仇者联盟2</td>\n",
       "      <td>2017-01-22</td>\n",
       "      <td>5</td>\n",
       "      <td>ZephyrO</td>\n",
       "      <td>2015-04-22</td>\n",
       "      <td>1</td>\n",
       "      <td>虽然从头打到尾，但是真的很无聊啊。</td>\n",
       "      <td>723</td>\n",
       "    </tr>\n",
       "  </tbody>\n",
       "</table>\n",
       "</div>"
      ],
      "text/plain": [
       "             Movie_Name_EN Movie_Name_CN  Crawl_Date  Number Username  \\\n",
       "ID                                                                      \n",
       "0   Avengers Age of Ultron        复仇者联盟2  2017-01-22       1       然潘   \n",
       "1   Avengers Age of Ultron        复仇者联盟2  2017-01-22       2    更深的白色   \n",
       "2   Avengers Age of Ultron        复仇者联盟2  2017-01-22       3   有意识的贱民   \n",
       "3   Avengers Age of Ultron        复仇者联盟2  2017-01-22       4  不老的李大爷耶   \n",
       "4   Avengers Age of Ultron        复仇者联盟2  2017-01-22       5  ZephyrO   \n",
       "\n",
       "          Date  Star                                            Comment  Like  \n",
       "ID                                                                             \n",
       "0   2015-05-13     2                                      连奥创都知道整容要去韩国。  2404  \n",
       "1   2015-04-24     1   非常失望，剧本完全敷衍了事，主线剧情没突破大家可以理解，可所有的人物都缺乏动机，正邪之间、...  1231  \n",
       "2   2015-04-26     1   2015年度最失望作品。以为面面俱到，实则画蛇添足；以为主题深刻，实则老调重弹；以为推陈出...  1052  \n",
       "3   2015-04-23     2   《铁人2》中勾引钢铁侠，《妇联1》中勾引鹰眼，《美队2》中勾引美国队长，在《妇联2》中终于...  1045  \n",
       "4   2015-04-22     1                                  虽然从头打到尾，但是真的很无聊啊。   723  "
      ]
     },
     "execution_count": 3,
     "metadata": {},
     "output_type": "execute_result"
    }
   ],
   "source": [
    "# 考虑到每个人的情感阈值存在极大差距，因此将评分分成两类，三分以下为差评\n",
    "douban_data['Star']=((douban_data.Star+0.5)/3.5+1).astype(int)\n",
    "douban_data.head()"
   ]
  },
  {
   "cell_type": "markdown",
   "metadata": {},
   "source": [
    "数据由 9 列构成，分别是：电影英文名、中文名、爬取日期、评论 ID（从 0 开始）、用户名、发表日期、评价分数、评论内容、点赞数。然后划分数据集，随机抽取近 10000 条数据，并按电影和评分均等划分。最终实际数据为 2125032 条。"
   ]
  },
  {
   "cell_type": "code",
   "execution_count": 4,
   "metadata": {},
   "outputs": [
    {
     "data": {
      "text/plain": [
       "疯狂动物城     137511\n",
       "大圣归来      133393\n",
       "后会无期      120200\n",
       "寻龙诀       113687\n",
       "你的名字      113260\n",
       "夏洛特烦恼     109162\n",
       "釜山行       102876\n",
       "爱乐之城       96620\n",
       "西游伏妖篇      91452\n",
       "小时代1       88903\n",
       "泰囧         85677\n",
       "大鱼海棠       83692\n",
       "长城         83173\n",
       "西游降魔篇      79962\n",
       "复仇者联盟      78281\n",
       "美人鱼        73882\n",
       "七月与安生      68359\n",
       "美国队长3      64410\n",
       "变形金刚4      58746\n",
       "复仇者联盟2     54153\n",
       "十二生肖       46233\n",
       "九层妖塔       44366\n",
       "小时代3       41152\n",
       "左耳         39802\n",
       "湄公河行动      35093\n",
       "栀子花开       30475\n",
       "何以笙箫默      26797\n",
       "钢铁侠1       23739\n",
       "Name: Movie_Name_CN, dtype: int64"
      ]
     },
     "execution_count": 4,
     "metadata": {},
     "output_type": "execute_result"
    }
   ],
   "source": [
    "Movie = douban_data['Movie_Name_CN'].value_counts()\n",
    "Movie"
   ]
  },
  {
   "cell_type": "markdown",
   "metadata": {},
   "source": [
    "可以看到，基本都是两年前的电影，数据也是两年前爬取的，后续我们将使用利用两年前的影评训练出的模型来预测最近上映的电影。"
   ]
  },
  {
   "cell_type": "code",
   "execution_count": 5,
   "metadata": {
    "deletable": false,
    "editable": false
   },
   "outputs": [
    {
     "data": {
      "text/plain": [
       "(2125032, 9)"
      ]
     },
     "execution_count": 5,
     "metadata": {},
     "output_type": "execute_result"
    }
   ],
   "source": [
    "sample_df = douban_data.groupby(['Movie_Name_CN', 'Star']).apply(\n",
    "    lambda x: x.sample(n=int(2125056/(28*2)), replace=True, random_state=0))\n",
    "\n",
    "sample_df.shape"
   ]
  },
  {
   "cell_type": "markdown",
   "metadata": {},
   "source": [
    "`groupby` 函数对 DataFrame 按照 `'Movie_Name_CN', 'Star'` 进行分组（两列值相同为一组），参考 [<i class=\"fa fa-external-link-square\" aria-hidden=\"true\"> pandas.DataFrame.groupby</i>](https://pandas.pydata.org/pandas-docs/stable/generated/pandas.DataFrame.groupby.html)，`apply` 传入一个 `lambda` 函数，对每一组调用 `sample` 函数随机抽取出 `n` 条数据，参考 [<i class=\"fa fa-external-link-square\" aria-hidden=\"true\"> pandas.DataFrame.sample</i>](https://pandas.pydata.org/pandas-docs/stable/generated/pandas.DataFrame.sample.html)。"
   ]
  },
  {
   "cell_type": "markdown",
   "metadata": {
    "deletable": false,
    "editable": false
   },
   "source": [
    "接下来我们将数据划分为 80% 的训练集和 20% 的测试集，并打乱顺序。"
   ]
  },
  {
   "cell_type": "code",
   "execution_count": 6,
   "metadata": {
    "deletable": false,
    "editable": false
   },
   "outputs": [
    {
     "data": {
      "text/plain": [
       "(1700025, 425007, 1700025, 425007)"
      ]
     },
     "execution_count": 6,
     "metadata": {},
     "output_type": "execute_result"
    }
   ],
   "source": [
    "from sklearn.model_selection import train_test_split\n",
    "\n",
    "\n",
    "comments = sample_df.values[:, 7]\n",
    "star = sample_df.values[:, 6]\n",
    "\n",
    "x_train, x_test, y_train, y_test, = train_test_split(\n",
    "    comments, star, test_size=0.2, random_state=0)\n",
    "\n",
    "len(y_train), len(y_test), len(x_train), len(x_test)"
   ]
  },
  {
   "cell_type": "markdown",
   "metadata": {
    "deletable": false,
    "editable": false
   },
   "source": [
    "#### 分词处理"
   ]
  },
  {
   "cell_type": "markdown",
   "metadata": {},
   "source": [
    "使用结巴分词，并返回分词结果和标签："
   ]
  },
  {
   "cell_type": "code",
   "execution_count": 8,
   "metadata": {},
   "outputs": [
    {
     "data": {
      "application/vnd.jupyter.widget-view+json": {
       "model_id": "0ebfcb7a836b4a2fb44becb855020b3c",
       "version_major": 2,
       "version_minor": 0
      },
      "text/plain": [
       "HBox(children=(IntProgress(value=0, max=1700025), HTML(value='')))"
      ]
     },
     "metadata": {},
     "output_type": "display_data"
    },
    {
     "name": "stderr",
     "output_type": "stream",
     "text": [
      "Building prefix dict from the default dictionary ...\n",
      "Loading model from cache /tmp/jieba.cache\n",
      "Loading model cost 0.652 seconds.\n",
      "Prefix dict has been built succesfully.\n"
     ]
    },
    {
     "name": "stdout",
     "output_type": "stream",
     "text": [
      "\n"
     ]
    },
    {
     "data": {
      "application/vnd.jupyter.widget-view+json": {
       "model_id": "e16f634afdb74fb6b5ab9b47d36473ef",
       "version_major": 2,
       "version_minor": 0
      },
      "text/plain": [
       "HBox(children=(IntProgress(value=0, max=425007), HTML(value='')))"
      ]
     },
     "metadata": {},
     "output_type": "display_data"
    },
    {
     "name": "stdout",
     "output_type": "stream",
     "text": [
      "\n"
     ]
    }
   ],
   "source": [
    "# 清理非中文字符，替换不需要的字符串\n",
    "def clean_str(line):\n",
    "    line.strip('\\n')\n",
    "    line = re.sub(r\"[^\\u4e00-\\u9fff]\", \"\", line)\n",
    "    line = re.sub(\n",
    "        \"[0-9a-zA-Z\\-\\s+\\.\\!\\/_,$%^*\\(\\)\\+(+\\\"\\')]+|[+——！，。？、~@#￥%……&*（）<>\\[\\]:：★◆【】《》;；=?？]+\", \"\", line)\n",
    "    return line.strip()\n",
    "\n",
    "\n",
    "# 加载停用词\n",
    "with open('stopwords.txt') as f:\n",
    "    stopwords = [line.strip('\\n') for line in f.readlines()]\n",
    "\n",
    "\n",
    "def cut(data, labels, stopwords):\n",
    "    result = []\n",
    "    new_labels = []\n",
    "    for index in tqdm_notebook(range(len(data))):\n",
    "        comment = clean_str(data[index])\n",
    "        label = labels[index]\n",
    "        # 分词\n",
    "        seg_list = jieba.cut(comment, cut_all=False, HMM=True)\n",
    "        seg_list = [x.strip('\\n')\n",
    "                    for x in seg_list if x not in stopwords and len(x) > 1]\n",
    "        if len(seg_list) > 1:\n",
    "            result.append(seg_list)\n",
    "            new_labels.append(label)\n",
    "    # 返回分词结果和对应的标签\n",
    "    return result, new_labels\n",
    "\n",
    "\n",
    "# 分别对训练数据和测试数据分词\n",
    "train_cut_result, train_labels = cut(x_train, y_train, stopwords)\n",
    "test_cut_result, test_labels = cut(x_test, y_test, stopwords)"
   ]
  },
  {
   "cell_type": "markdown",
   "metadata": {
    "deletable": false,
    "editable": false
   },
   "source": [
    "#### 词向量转换"
   ]
  },
  {
   "cell_type": "markdown",
   "metadata": {
    "deletable": false,
    "editable": false
   },
   "source": [
    "任何机器学习算法都无法直接理解词语的含义，所以我们需要将自然语言处理成算法能够理解的词向量，这里我们用到 TF-IDF 模型。TF-IDF 由两部分组成：TF（Term frequency，词频），IDF（Inverse document frequency，逆文档频率）。"
   ]
  },
  {
   "cell_type": "markdown",
   "metadata": {
    "deletable": false,
    "editable": false
   },
   "source": [
    "TF-IDF 根据词频即词语在数据中出现的次数。总的来说，就是把一段话的每个词都配之以重要性指标，某个词在这段话的出现次数多时，它就更重要。比如一段话中提到了三次「中国」，就比另一段只提到了一次的重要。"
   ]
  },
  {
   "cell_type": "markdown",
   "metadata": {
    "deletable": false,
    "editable": false
   },
   "source": [
    "此外，当这个词在所有话中出现的次数多时（比如「苹果」，「乔布斯」等不常见词），这个词就更加的重要。当这个词在所有的段落中出现次数都多时（比如「的」，「这」等常见词），这个词的重要性下降。对于每个词都计算这样的重要性并写成一个向量后，映射就完成了。"
   ]
  },
  {
   "cell_type": "markdown",
   "metadata": {},
   "source": [
    "scikit-learn 实现了这种方法，参考 [<i class=\"fa fa-external-link-square\" aria-hidden=\"true\"> TfidfVectorizer</i>](https://scikit-learn.org/stable/modules/generated/sklearn.feature_extraction.text.TfidfVectorizer.html)，这是 [<i class=\"fa fa-external-link-square\" aria-hidden=\"true\"> CountVectorizer</i>](https://scikit-learn.org/stable/modules/generated/sklearn.feature_extraction.text.CountVectorizer.html)（统计词频） 和 [<i class=\"fa fa-external-link-square\" aria-hidden=\"true\"> TfidfTransformer</i>](https://scikit-learn.org/stable/modules/generated/sklearn.feature_extraction.text.TfidfTransformer.html)（转换 TF-IDF）的组合。"
   ]
  },
  {
   "cell_type": "code",
   "execution_count": 9,
   "metadata": {},
   "outputs": [
    {
     "name": "stderr",
     "output_type": "stream",
     "text": [
      "/home/x/anaconda3/lib/python3.6/site-packages/sklearn/feature_extraction/text.py:1089: FutureWarning: Conversion of the second argument of issubdtype from `float` to `np.floating` is deprecated. In future, it will be treated as `np.float64 == np.dtype(float).type`.\n",
      "  if hasattr(X, 'dtype') and np.issubdtype(X.dtype, np.float):\n"
     ]
    }
   ],
   "source": [
    "from sklearn.feature_extraction.text import TfidfVectorizer\n",
    "\n",
    "# TfidfVectorizer 传入原始文本\n",
    "train_data = [' '.join(x) for x in train_cut_result]\n",
    "test_data = [' '.join(x) for x in test_cut_result]\n",
    "\n",
    "# max_features指定语料库中频率最高的词\n",
    "n_dim = 35000\n",
    "\n",
    "# 数据的TF-IDF信息计算\n",
    "# sublinear_tf=True 时生成一个近似高斯分布的特征，可以提高大概1~2个百分点\n",
    "vectorizer = TfidfVectorizer(\n",
    "    max_features=n_dim, smooth_idf=True, sublinear_tf=True)\n",
    "\n",
    "# 对训练数据训练\n",
    "train_vec_data = vectorizer.fit_transform(train_data)\n",
    "\n",
    "# 训练完成之后对测试数据转换\n",
    "test_vec_data = vectorizer.transform(test_data)"
   ]
  },
  {
   "cell_type": "markdown",
   "metadata": {
    "deletable": false,
    "editable": false
   },
   "source": [
    "查看词袋模型中的前十个词语:"
   ]
  },
  {
   "cell_type": "code",
   "execution_count": 9,
   "metadata": {
    "deletable": false,
    "editable": false
   },
   "outputs": [
    {
     "data": {
      "text/plain": [
       "['一丁点', '一万', '一万个', '一万倍', '一万年', '一万次', '一万步', '一万遍', '一下下', '一下子']"
      ]
     },
     "execution_count": 9,
     "metadata": {},
     "output_type": "execute_result"
    }
   ],
   "source": [
    "vectorizer.get_feature_names()[:10]"
   ]
  },
  {
   "cell_type": "markdown",
   "metadata": {
    "deletable": false,
    "editable": false
   },
   "source": [
    "至此数据预处理结束，得到了训练和测试数据的 TF-IDF 矩阵，接下来将使用 TF-IDF 矩阵进行训练和测试。"
   ]
  },
  {
   "cell_type": "markdown",
   "metadata": {
    "deletable": false,
    "editable": false
   },
   "source": [
    "#### 模型训练"
   ]
  },
  {
   "cell_type": "markdown",
   "metadata": {},
   "source": [
    "先尝试使用多层神经网络实现豆瓣电影评论分类，并通过 PyTorch 深度学习框架完成。首先，实现需要定义一些参数，例如类别数、学习率、损失函数、迭代次数等。"
   ]
  },
  {
   "cell_type": "code",
   "execution_count": 10,
   "metadata": {},
   "outputs": [],
   "source": [
    "import torch.nn as nn\n",
    "\n",
    "# 输出的类别为 2\n",
    "n_categories = 2\n",
    "# 学习率，请不要过大，会导致 loss 震荡\n",
    "learning_rate = 0.001\n",
    "# 损失函数\n",
    "criterion = nn.CrossEntropyLoss()\n",
    "# 迭代次数\n",
    "epochs = 6\n",
    "# 每次迭代同时加载的个数\n",
    "batch_size = 100"
   ]
  },
  {
   "cell_type": "markdown",
   "metadata": {
    "deletable": false,
    "editable": false
   },
   "source": [
    "在 PyTorch 中对自定义数据集都需要写一个 Dataset 进行加载数据，然后在 DataLoader 中使用。所以，第一步是定义一个自己的 Dataset 类，重写 `__getitem__` 方法，获取数据。"
   ]
  },
  {
   "cell_type": "code",
   "execution_count": 11,
   "metadata": {},
   "outputs": [],
   "source": [
    "from torch.utils.data import Dataset, DataLoader\n",
    "\n",
    "class TxtDataset(Dataset):\n",
    "    def __init__(self, VectData, labels):\n",
    "        # 传入初始数据，特征向量和标签\n",
    "        self.VectData = VectData\n",
    "        self.labels = labels\n",
    "\n",
    "    def __getitem__(self, index):\n",
    "        # DataLoader 会根据 index 获取数据\n",
    "        # toarray() 是因为 VectData 是一个稀疏矩阵，如果直接使用 VectData.toarray() 占用内存太大，请勿尝试\n",
    "        return self.VectData[index].toarray(), self.labels[index]-1\n",
    "\n",
    "    def __len__(self):\n",
    "        return len(self.labels)\n",
    "\n",
    "# 线下内存足够大可以考虑增大 num_workers，并行读取数据\n",
    "# 加载训练数据集\n",
    "train_dataset = TxtDataset(train_vec_data, train_labels)\n",
    "train_dataloader = DataLoader(train_dataset,\n",
    "                              batch_size=batch_size,\n",
    "                              shuffle=True,\n",
    "                              num_workers=50\n",
    "                              )\n",
    "# 加载测试数据集\n",
    "test_dataset = TxtDataset(test_vec_data, test_labels)\n",
    "test_dataloader = DataLoader(test_dataset,\n",
    "                             batch_size=batch_size,\n",
    "                             shuffle=False,\n",
    "                             num_workers=50\n",
    "                             )"
   ]
  },
  {
   "cell_type": "markdown",
   "metadata": {
    "deletable": false,
    "editable": false
   },
   "source": [
    "定义一个神经网络，由线性层、激活函数、Dropout 依次组成。这里，我们仅仅定义了一个全连接网络。"
   ]
  },
  {
   "cell_type": "code",
   "execution_count": 14,
   "metadata": {
    "deletable": false,
    "editable": false
   },
   "outputs": [],
   "source": [
    "class TxtModel(nn.Module):\n",
    "    def __init__(self, input_size, output_size):\n",
    "        super(TxtModel, self).__init__()\n",
    "        self.classifier = nn.Sequential(\n",
    "            nn.Linear(input_size, 1024),\n",
    "            nn.ReLU(inplace=True),\n",
    "            nn.Dropout(),\n",
    "            nn.Linear(1024, 1024),\n",
    "            nn.ReLU(inplace=True),\n",
    "            nn.Dropout(),\n",
    "            nn.Linear(1024, 1024),\n",
    "            nn.ReLU(inplace=True),\n",
    "            nn.Dropout(),\n",
    "            nn.Linear(1024, 512),\n",
    "            nn.ReLU(inplace=True),\n",
    "            nn.Dropout(),\n",
    "            nn.Linear(512, output_size)\n",
    "        )\n",
    "\n",
    "    def forward(self, x):\n",
    "        output = self.classifier(x.double())\n",
    "        return output.squeeze(1)"
   ]
  },
  {
   "cell_type": "markdown",
   "metadata": {
    "deletable": false,
    "editable": false
   },
   "source": [
    "训练过程中，选用 Adam 作为优化器，`exp_lr_scheduler` 是为了每个步长衰减学习率。最后输出损失、准确度和执行时间。"
   ]
  },
  {
   "cell_type": "code",
   "execution_count": 15,
   "metadata": {
    "deletable": false,
    "editable": false
   },
   "outputs": [
    {
     "data": {
      "application/vnd.jupyter.widget-view+json": {
       "model_id": "e62e21161bf14a08bcb1e0bfac41672d",
       "version_major": 2,
       "version_minor": 0
      },
      "text/plain": [
       "HBox(children=(IntProgress(value=0, max=14361), HTML(value='')))"
      ]
     },
     "metadata": {},
     "output_type": "display_data"
    },
    {
     "name": "stdout",
     "output_type": "stream",
     "text": [
      "\n",
      "epoch 0/6:\n",
      "training loss: 0.004015722215006582, time resumed 1494.8732607364655s\n",
      "testing loss: 0.003235486754182074, time resumed 167.8843846321106s, accuracy: 0.8648242564804465\n"
     ]
    },
    {
     "data": {
      "application/vnd.jupyter.widget-view+json": {
       "model_id": "d7680b43ecef4877932cea84a640c059",
       "version_major": 2,
       "version_minor": 0
      },
      "text/plain": [
       "HBox(children=(IntProgress(value=0, max=14361), HTML(value='')))"
      ]
     },
     "metadata": {},
     "output_type": "display_data"
    },
    {
     "name": "stdout",
     "output_type": "stream",
     "text": [
      "\n",
      "epoch 1/6:\n",
      "training loss: 0.0027647626172974784, time resumed 1533.0914461612701s\n",
      "testing loss: 0.002698652265290571, time resumed 164.81334781646729s, accuracy: 0.8897648111548143\n"
     ]
    },
    {
     "data": {
      "application/vnd.jupyter.widget-view+json": {
       "model_id": "987a1bc4c43f4a61a718d436721f9b2b",
       "version_major": 2,
       "version_minor": 0
      },
      "text/plain": [
       "HBox(children=(IntProgress(value=0, max=14361), HTML(value='')))"
      ]
     },
     "metadata": {},
     "output_type": "display_data"
    },
    {
     "name": "stdout",
     "output_type": "stream",
     "text": [
      "\n",
      "epoch 2/6:\n",
      "training loss: 0.0022649255073836257, time resumed 1530.1845548152924s\n",
      "testing loss: 0.0024865395633903394, time resumed 165.37635612487793s, accuracy: 0.9011325972241193\n"
     ]
    },
    {
     "data": {
      "application/vnd.jupyter.widget-view+json": {
       "model_id": "e8253d6d96474b80b9cd9d573f786861",
       "version_major": 2,
       "version_minor": 0
      },
      "text/plain": [
       "HBox(children=(IntProgress(value=0, max=14361), HTML(value='')))"
      ]
     },
     "metadata": {},
     "output_type": "display_data"
    },
    {
     "name": "stdout",
     "output_type": "stream",
     "text": [
      "\n",
      "epoch 3/6:\n",
      "training loss: 0.0017764741919218477, time resumed 1537.6156966686249s\n",
      "testing loss: 0.002411478553855628, time resumed 169.7466697692871s, accuracy: 0.9065070679307452\n"
     ]
    },
    {
     "data": {
      "application/vnd.jupyter.widget-view+json": {
       "model_id": "143505261c384d15b4e27ad46c1872e3",
       "version_major": 2,
       "version_minor": 0
      },
      "text/plain": [
       "HBox(children=(IntProgress(value=0, max=14361), HTML(value='')))"
      ]
     },
     "metadata": {},
     "output_type": "display_data"
    },
    {
     "name": "stdout",
     "output_type": "stream",
     "text": [
      "\n",
      "epoch 4/6:\n",
      "training loss: 0.0016524011864852558, time resumed 1539.3705825805664s\n",
      "testing loss: 0.0023988213636887976, time resumed 170.16531586647034s, accuracy: 0.9087482891175331\n"
     ]
    },
    {
     "data": {
      "application/vnd.jupyter.widget-view+json": {
       "model_id": "d5c7016bb45541a2a34f67d049dc1a55",
       "version_major": 2,
       "version_minor": 0
      },
      "text/plain": [
       "HBox(children=(IntProgress(value=0, max=14361), HTML(value='')))"
      ]
     },
     "metadata": {},
     "output_type": "display_data"
    },
    {
     "name": "stdout",
     "output_type": "stream",
     "text": [
      "\n",
      "epoch 5/6:\n",
      "training loss: 0.0015721819568429492, time resumed 1548.9475784301758s\n",
      "testing loss: 0.002389944676247696, time resumed 170.98718237876892s, accuracy: 0.9105769472002855\n"
     ]
    }
   ],
   "source": [
    "# 定义模型和优化器\n",
    "model = TxtModel(n_dim, 2)\n",
    "optimizer = torch.optim.Adam(model.parameters(), lr=learning_rate)\n",
    "\n",
    "# 每两代衰减学习率\n",
    "exp_lr_scheduler = lr_scheduler.StepLR(\n",
    "    optimizer, step_size=int(epochs/2), gamma=0.1)\n",
    " \n",
    "if torch.cuda.is_available():\n",
    "    model = model.cuda()\n",
    "    #model = nn.DataParallel(model)\n",
    "    criterion = criterion.cuda()\n",
    "\n",
    "model = model.double()\n",
    "\n",
    "# 保存准确度最高的模型\n",
    "best_model = copy.deepcopy(model)\n",
    "best_accuracy = 0.0\n",
    "\n",
    "for epoch in range(epochs):\n",
    "    exp_lr_scheduler.step()\n",
    "    model.train()\n",
    "    loss_total = 0\n",
    "    st = time.time()\n",
    "    # train_dataloader 加载数据集\n",
    "    for data, label in tqdm_notebook(train_dataloader):\n",
    "        # 如果 GPU 可用，则使用 GPU\n",
    "        if torch.cuda.is_available():\n",
    "            data = data.cuda()\n",
    "            label = label.cuda()\n",
    "        output = model(data)\n",
    "        # 计算损失\n",
    "        loss = criterion(output, label)\n",
    "        optimizer.zero_grad()\n",
    "        # 反向传播\n",
    "        loss.backward()\n",
    "        optimizer.step()\n",
    "        loss_total += loss.item()\n",
    "\n",
    "    # 输出损失、训练时间等\n",
    "    print('epoch {}/{}:'.format(epoch, epochs))\n",
    "    print('training loss: {}, time resumed {}s'.format(\n",
    "        loss_total/len(train_dataset), time.time()-st))\n",
    "\n",
    "    model.eval()\n",
    "\n",
    "    loss_total = 0\n",
    "    st = time.time()\n",
    "\n",
    "    correct = 0\n",
    "    for data, label in test_dataloader:\n",
    "        if torch.cuda.is_available():\n",
    "            data = data.cuda()\n",
    "            label = label.cuda()\n",
    "        output = model(data)\n",
    "        loss = criterion(output, label)\n",
    "        loss_total += loss.item()\n",
    "\n",
    "        _, predicted = torch.max(output.data, 1)\n",
    "        correct += (predicted == label).sum().item()\n",
    "    # 如果准确度取得最高，则保存准确度最高的模型\n",
    "    if correct/len(test_dataset) > best_accuracy:\n",
    "        best_model = copy.deepcopy(model)\n",
    "\n",
    "    print('testing loss: {}, time resumed {}s, accuracy: {}'.format(\n",
    "        loss_total/len(test_dataset), time.time()-st, correct/len(test_dataset)))"
   ]
  },
  {
   "cell_type": "markdown",
   "metadata": {},
   "source": [
    "跑了将近3个小时终于跑完，接下来测试模型。"
   ]
  },
  {
   "cell_type": "markdown",
   "metadata": {
    "deletable": false,
    "editable": false
   },
   "source": [
    "#### 测试模型"
   ]
  },
  {
   "cell_type": "markdown",
   "metadata": {},
   "source": [
    "接下来使用豆瓣 API 获取近期上映电影的影评，然后预测他们的情感倾向。\n",
    "\n",
    "我们选择19年上映的流浪地球，这个国产科幻题材是我们之前的数据集里没有的类型，观众对该电影寄托的情感与之前的电影也是截然不同，这可以考验一下模型的泛化能力。"
   ]
  },
  {
   "cell_type": "code",
   "execution_count": 17,
   "metadata": {},
   "outputs": [
    {
     "data": {
      "text/plain": [
       "[{'rating': {'max': 5, 'value': 1.0, 'min': 0},\n",
       "  'useful_count': 70607,\n",
       "  'author': {'uid': 'duduxiongzhifu',\n",
       "   'avatar': 'https://img3.doubanio.com/icon/u2201715-15.jpg',\n",
       "   'signature': '谁来拧动拧发条鸟的发条',\n",
       "   'alt': 'https://www.douban.com/people/duduxiongzhifu/',\n",
       "   'id': '2201715',\n",
       "   'name': '嘟嘟熊之父 \\U0001f9f8'},\n",
       "  'subject_id': '26266893',\n",
       "  'content': '还能更土更儿戏一点吗？毫无思考仅靠煽动，毫无敬畏仅余妄想。好的科幻片应该首先承认人类的无知，并跳出人类的视角去看待人与宇宙的关系，而不是一头扎入狭隘的家庭纠纷与大国情怀中自作聪明自我感动。被吹到不行的特效如同导演抡圆了膀子朝观众脸上砸各种金银珠宝，闪到不行但全无美感。有人说作为中国第一部硬科幻电影，不要跟美国比，只想说这宣传攻势票房体量已经超越大多数好莱坞商业大片了，凭啥不能和人家比？所以评价《流浪地球》很简单，你把片中所有角色换成美国人，然后再想想自己愿意打几星。',\n",
       "  'created_at': '2019-01-28 22:06:27',\n",
       "  'id': '1646653503'},\n",
       " {'rating': {'max': 5, 'value': 4.0, 'min': 0},\n",
       "  'useful_count': 69330,\n",
       "  'author': {'uid': 'tjz230',\n",
       "   'avatar': 'https://img1.doubanio.com/icon/u1005928-127.jpg',\n",
       "   'signature': '',\n",
       "   'alt': 'https://www.douban.com/people/tjz230/',\n",
       "   'id': '1005928',\n",
       "   'name': '影志'},\n",
       "  'subject_id': '26266893',\n",
       "  'content': '电影比预期要更恢弘磅礴，晨昏线过后的永夜、火种计划、让地球流浪、木星推动地球…等等大小设定，没想到中国也能拍这么大架构、大格局的科幻片了，而且是第一部，了不得。以前看国外科幻感觉离我们很远，这一次看到熟悉的北京大裤衩、上海东方明珠都变成零下89°冰天冻地的末世场景，既猎奇又唏嘘。虽然在剧情上有套路，对于这部中国文化背景下的科幻新生儿，鼓励多于挑剔。导演说美国人拍科幻是放弃地球、去挖掘新的人类居住地，而中国人是不放弃地球、守住家土的情怀…“希望是我们回家的唯一方向”',\n",
       "  'created_at': '2019-02-04 15:56:16',\n",
       "  'id': '1655179164'},\n",
       " {'rating': {'max': 5, 'value': 5.0, 'min': 0},\n",
       "  'useful_count': 60582,\n",
       "  'author': {'uid': 'luzhiyu',\n",
       "   'avatar': 'https://img3.doubanio.com/icon/u2866549-132.jpg',\n",
       "   'signature': '死前看大海，是每个灵魂的夙愿。',\n",
       "   'alt': 'https://www.douban.com/people/luzhiyu/',\n",
       "   'id': '2866549',\n",
       "   'name': '陆支羽'},\n",
       "  'subject_id': '26266893',\n",
       "  'content': '1.终于，轮到我们仰望星空。2.后启示录死亡废墟，赛博朋克地下城，以及烟波浩渺的末日想象，缔造了真正意义上的第一部国产硬科幻。3.拖着地球逃离太阳系的惊艳设定，本身便是对“家国情怀”的宏大投射，正应了刘慈欣那句“太阳死了，人还活着”。4.绝不仅仅只是电影工业巨壳下的类型尝试，始终荡涤其间的悲壮气息已然具备了史诗级质感，这是大刘的脑洞宇宙与电影创作团队精益求精造就的惊喜。5.屈楚萧很带感，演活了一个勇敢、中二又不失温情的英雄少年。6.期待能成爆款吧，这样才有机会等到更多的国产科幻电影；或许以后会出现更好的，但至今这无疑是最好的。',\n",
       "  'created_at': '2019-01-29 20:10:48',\n",
       "  'id': '1635458275'},\n",
       " {'rating': {'max': 5, 'value': 4.0, 'min': 0},\n",
       "  'useful_count': 36518,\n",
       "  'author': {'uid': '185573840',\n",
       "   'avatar': 'https://img3.doubanio.com/icon/u185573840-2.jpg',\n",
       "   'signature': '',\n",
       "   'alt': 'https://www.douban.com/people/185573840/',\n",
       "   'id': '185573840',\n",
       "   'name': '沙雕电影'},\n",
       "  'subject_id': '26266893',\n",
       "  'content': '一个悲伤的故事：太阳都要毁灭，地球都要流浪了，我国的校服还是这么丑......',\n",
       "  'created_at': '2019-02-05 00:24:35',\n",
       "  'id': '1655519383'},\n",
       " {'rating': {'max': 5, 'value': 3.0, 'min': 0},\n",
       "  'useful_count': 20107,\n",
       "  'author': {'uid': 'satan163',\n",
       "   'avatar': 'https://img3.doubanio.com/icon/u1140816-93.jpg',\n",
       "   'signature': '少年不欢乐，何以尽芳朝。',\n",
       "   'alt': 'https://www.douban.com/people/satan163/',\n",
       "   'id': '1140816',\n",
       "   'name': '艾晨'},\n",
       "  'subject_id': '26266893',\n",
       "  'content': '三星鼓励一下吧，四个字：太儿戏了。硬科幻和硬要科幻是两回事。',\n",
       "  'created_at': '2019-01-28 21:58:02',\n",
       "  'id': '1646640875'},\n",
       " {'rating': {'max': 5, 'value': 2.0, 'min': 0},\n",
       "  'useful_count': 14131,\n",
       "  'author': {'uid': 'cheer.o',\n",
       "   'avatar': 'https://img1.doubanio.com/icon/u2986042-477.jpg',\n",
       "   'signature': '如果我有仙女棒 变酷！',\n",
       "   'alt': 'https://www.douban.com/people/cheer.o/',\n",
       "   'id': '2986042',\n",
       "   'name': '我是王大鹏啊！'},\n",
       "  'subject_id': '26266893',\n",
       "  'content': '失望 一群聒噪的角色让人忍不住觉得地球还是毁灭了比较好',\n",
       "  'created_at': '2019-01-28 22:15:04',\n",
       "  'id': '1646667826'},\n",
       " {'rating': {'max': 5, 'value': 1.0, 'min': 0},\n",
       "  'useful_count': 14331,\n",
       "  'author': {'uid': '52669767',\n",
       "   'avatar': 'https://img1.doubanio.com/icon/user_normal.jpg',\n",
       "   'signature': '',\n",
       "   'alt': 'https://www.douban.com/people/52669767/',\n",
       "   'id': '52669767',\n",
       "   'name': '妖孽'},\n",
       "  'subject_id': '26266893',\n",
       "  'content': '野心远远大于能力的作品。大刘小说打底，导演用影视化视觉实现了大部分想象，敢想敢做！远超预期，牛B，但也仅自于此了。故事一塌糊涂，世界观做的如此粗糙，叙事完全不讲逻辑，人物动机行为全都莫名其妙不能理解，台词在电影里算的上数一数二的烂，最恶心的是国人文化自豪情绪被名目张胆刺裸裸的利用成商业行为，明明稍微用点心思就可以更好一点，偏不！导演编剧仿佛在对你说，故事差不多得了，太深了他们看不懂，就是要俗气，直白，最要紧的是中国人要拯救地球，吴京要操翻世界联合政府，中国就爱看这个。中国人就只，配，看这样的科幻故事！对啊！看看这些评论，就只配看这样的科幻故事。白瞎了这样的制作！白瞎了中国人自己的硬科团队！',\n",
       "  'created_at': '2019-02-05 10:13:05',\n",
       "  'id': '1655728437'},\n",
       " {'rating': {'max': 5, 'value': 1.0, 'min': 0},\n",
       "  'useful_count': 13006,\n",
       "  'author': {'uid': '63469119',\n",
       "   'avatar': 'https://img3.doubanio.com/icon/u63469119-11.jpg',\n",
       "   'signature': '',\n",
       "   'alt': 'https://www.douban.com/people/63469119/',\n",
       "   'id': '63469119',\n",
       "   'name': '说给自己听'},\n",
       "  'subject_id': '26266893',\n",
       "  'content': '求求编剧，人类都快失去地球了，生存才是最重要的。请别再bb这点家庭琐事和煽情烂梗。白瞎了刘慈欣原作的宏大主题。',\n",
       "  'created_at': '2019-02-05 10:24:19',\n",
       "  'id': '1655736091'},\n",
       " {'rating': {'max': 5, 'value': 2.0, 'min': 0},\n",
       "  'useful_count': 12998,\n",
       "  'author': {'uid': '168391468',\n",
       "   'avatar': 'https://img3.doubanio.com/icon/u168391468-1.jpg',\n",
       "   'signature': '',\n",
       "   'alt': 'https://www.douban.com/people/168391468/',\n",
       "   'id': '168391468',\n",
       "   'name': 'gus'},\n",
       "  'subject_id': '26266893',\n",
       "  'content': '台词做作剧情薄弱没一个演员在线 无时无刻的尬笑走心台词还以为编剧是激素泛滥的中年少女 感觉看了一部战狼3 最后小女生用一篇激情澎湃的即兴小学生作文感动了全球救援队 中国梦实现了！',\n",
       "  'created_at': '2019-02-05 01:33:03',\n",
       "  'id': '1655565916'},\n",
       " {'rating': {'max': 5, 'value': 4.0, 'min': 0},\n",
       "  'useful_count': 11708,\n",
       "  'author': {'uid': 'lingrui1995',\n",
       "   'avatar': 'https://img1.doubanio.com/icon/u63688511-18.jpg',\n",
       "   'signature': '一个影迷',\n",
       "   'alt': 'https://www.douban.com/people/lingrui1995/',\n",
       "   'id': '63688511',\n",
       "   'name': '凌睿'},\n",
       "  'subject_id': '26266893',\n",
       "  'content': '《流浪地球》小说本就想象力丰富，让地球连同地球人一同逃难的创意荡气回肠、惊艳无比。\\n电影中的行星发动机很硬核，还原了小说中“雅典卫城神殿的巨柱”的描写；\\n地球启航产生的尾迹清晰可见，宛如一艘巨型飞船遨游宇宙之间；\\n北京、上海被冰雪覆盖气势磅礴；地木交会更是让人瞠目结舌，试问有电影能看到这样一幕？\\n最后表扬一下片尾的《流浪地球》小说的特效，比漫威的漫画翻页片头还精彩。\\n电影保持了小说的整体框架，有一定改动（严格说其实是扩充），只拍了小说的前两章，最精彩的《叛乱》希望能在续集看到。\\n新加入的点燃木星很有新意，这种有创意的改动我还是能够接受。\\n《流浪地球》的上映填补了中国科幻电影的空白，意味着中国科幻电影正式启航，让“中国科幻电影元年”迎来真正的春天。\\n中国科幻迷从此不再流浪，因为我们终于有硬科幻了！',\n",
       "  'created_at': '2019-01-27 14:16:11',\n",
       "  'id': '1644695197'},\n",
       " {'rating': {'max': 5, 'value': 5.0, 'min': 0},\n",
       "  'useful_count': 13804,\n",
       "  'author': {'uid': 'dreamfox',\n",
       "   'avatar': 'https://img3.doubanio.com/icon/u2297669-12.jpg',\n",
       "   'signature': '公众号：dreamcrowfilm',\n",
       "   'alt': 'https://www.douban.com/people/dreamfox/',\n",
       "   'id': '2297669',\n",
       "   'name': '乌鸦火堂'},\n",
       "  'subject_id': '26266893',\n",
       "  'content': '华语真正意义上的第一部科幻大片！刘慈欣的硬核科幻设定，小兵扛大旗的主流价值观人设，东方式的家庭理念核心，地心引力与星际穿越的融合。故事铺排+情节张力+情绪渲染+镜头调度非常娴熟，意料之外的特效大场面超赞。虽然有瑕疵但整体非常流畅，后30分钟更攥着手看，几处情节令人泪目，片尾BGM燃爆。“比肩好莱坞、电影工业”已是老生常谈，我认为这是华语电影的发展方向，不算完美但完成度和起点相当高，给你五星不怕你骄傲',\n",
       "  'created_at': '2019-01-20 19:00:54',\n",
       "  'id': '1635702027'},\n",
       " {'rating': {'max': 5, 'value': 5.0, 'min': 0},\n",
       "  'useful_count': 12058,\n",
       "  'author': {'uid': 'xzfd',\n",
       "   'avatar': 'https://img1.doubanio.com/icon/u2279829-7.jpg',\n",
       "   'signature': '如同风中之落叶 且看我如何飞翔',\n",
       "   'alt': 'https://www.douban.com/people/xzfd/',\n",
       "   'id': '2279829',\n",
       "   'name': '张小北'},\n",
       "  'subject_id': '26266893',\n",
       "  'content': '从各个方面来说都是一部好看的类型片。而最特别的是它是一部国产科幻电影，影迷+科幻迷的双重满足。和最好的好莱坞视效电影相比肯定有差距，但差距已经是肉眼可见的了，剩下的都是假以时日就有机会追上的。追求最广泛的情感共鸣是所有商业类型片都要努力做到的，在某些人看来很俗，但我觉得这一点反而应该是值得骄傲的。',\n",
       "  'created_at': '2019-01-29 02:11:13',\n",
       "  'id': '1400891798'},\n",
       " {'rating': {'max': 5, 'value': 2.0, 'min': 0},\n",
       "  'useful_count': 7405,\n",
       "  'author': {'uid': 'hans_berdych',\n",
       "   'avatar': 'https://img3.doubanio.com/icon/u62730105-45.jpg',\n",
       "   'signature': '各自努力',\n",
       "   'alt': 'https://www.douban.com/people/hans_berdych/',\n",
       "   'id': '62730105',\n",
       "   'name': 'Cobain'},\n",
       "  'subject_id': '26266893',\n",
       "  'content': '不能因为它是首部本土科幻片就蒙蔽了双眼打高分，对吧。看完要说的仍然是中国电影工业还有很长的路要走。\\\\\\\\ 再说两句吧。库布里克时代拍科幻片就在处理哲学的基本命题了，他给的起点多高啊！我们没道理只逗留在通用表达上，处理人类的情感抒发。\\r\\n林若宁给Eason的《月球上的人》这么写道「从未来观看 潜伏万年的野史记载 不理它小爱与大爱 人类太过渺小的最爱」这才是对宏大的宇宙观应有的共识。\\r\\n这两年也就《降临》和《谷粒》达了标。',\n",
       "  'created_at': '2019-01-20 23:12:44',\n",
       "  'id': '1636112343'},\n",
       " {'rating': {'max': 5, 'value': 4.0, 'min': 0},\n",
       "  'useful_count': 8224,\n",
       "  'author': {'uid': 'zhangzongqian',\n",
       "   'avatar': 'https://img3.doubanio.com/icon/u3995080-211.jpg',\n",
       "   'signature': 'I’m back!',\n",
       "   'alt': 'https://www.douban.com/people/zhangzongqian/',\n",
       "   'id': '3995080',\n",
       "   'name': '亵渎电影'},\n",
       "  'subject_id': '26266893',\n",
       "  'content': '中国导演能拍出这样的硬科幻，看到这样的完成度，想想就激动，可以让人原谅一切不完美！说这部电影是中国科幻电影的元年自然是站不住脚，毕竟国内早就拍过很多软科幻，但说《流浪地球》是中国硬科幻电影的第一座里程碑，或者说中国硬科幻电影的元年，这是任何人都无可反驳的，它的工业化程度在国内绝对是前所未有的，是一部可以载入中国电影史的电影！其实中国观众对于这类型的硬科幻并不陌生，只是国内一直没有拍摄这种硬科幻大制作的工业基础，也可能是因为中国人没有这样的文化自信，找不到中国独有的文化语境，并不相信中国人可以去拯救地球，拯救世界。直到今天，终于有导演做了这件事情，而且做的非常棒，给中国的硬科幻竖起了一个很高的行业标杆，在中国人的文化语境里用中国人的方式拯救全人类，也一样可以拍的毫无违和感，一样燃爆！',\n",
       "  'created_at': '2019-02-02 14:29:09',\n",
       "  'id': '1652540924'},\n",
       " {'rating': {'max': 5, 'value': 2.0, 'min': 0},\n",
       "  'useful_count': 6948,\n",
       "  'author': {'uid': '1892627',\n",
       "   'avatar': 'https://img3.doubanio.com/icon/u1892627-2.jpg',\n",
       "   'signature': '',\n",
       "   'alt': 'https://www.douban.com/people/1892627/',\n",
       "   'id': '1892627',\n",
       "   'name': '倒带'},\n",
       "  'subject_id': '26266893',\n",
       "  'content': '充斥着模仿的痕迹，某些镜头直接地心引力同款，另外就是画质极渣的摄影以及播放卡顿。宏大主题配以乡土气十足的人设、情感以及地下小镇式场景，中段的冗长更是让人疲惫。倒是现象级的吴京带来现象级的吹捧狂潮惊到我了。',\n",
       "  'created_at': '2019-01-29 17:36:38',\n",
       "  'id': '1639842891'},\n",
       " {'rating': {'max': 5, 'value': 2.0, 'min': 0},\n",
       "  'useful_count': 6455,\n",
       "  'author': {'uid': '88439681',\n",
       "   'avatar': 'https://img3.doubanio.com/icon/u88439681-2.jpg',\n",
       "   'signature': 'Oh hai',\n",
       "   'alt': 'https://www.douban.com/people/88439681/',\n",
       "   'id': '88439681',\n",
       "   'name': 'qw0aszx'},\n",
       "  'subject_id': '26266893',\n",
       "  'content': '这个设定本身带来的那种悲壮甚至一丝浪漫感全被各种毫无节制的煽情和空到不行的台词给毁了 ★★☆',\n",
       "  'created_at': '2019-02-05 02:15:43',\n",
       "  'id': '1655590384'},\n",
       " {'rating': {'max': 5, 'value': 5.0, 'min': 0},\n",
       "  'useful_count': 7855,\n",
       "  'author': {'uid': '58713868',\n",
       "   'avatar': 'https://img3.doubanio.com/icon/u58713868-1.jpg',\n",
       "   'signature': '',\n",
       "   'alt': 'https://www.douban.com/people/58713868/',\n",
       "   'id': '58713868',\n",
       "   'name': 'Booige Boom'},\n",
       "  'subject_id': '26266893',\n",
       "  'content': '8.8，热评第一条我就呵呵了，中国科幻电影为什么不值得我们打高分去鼓励，非要放在国际水平线上才是客观的吗，您真的有那么客观吗，我看《七武士》、《漫游太空2001》的时候，我要不顾及他是那个时代的电影，我会给那么高的评价吗，同样都是时间轴上的事情，我觉得国产这种东西给高一点评价真的没问题，真的需要鼓励，才能继续发展，我国多少题材和类型的电影就是被您这种想法所阻碍和难以发展的，向您这样的评论，中国科幻电影真的是寸步难行了，中国电影也会受之影响，真的希望大家能明白，结合我国电影发展的历史来评价国产电影。',\n",
       "  'created_at': '2019-02-06 03:54:42',\n",
       "  'id': '1657334172'},\n",
       " {'rating': {'max': 5, 'value': 2.0, 'min': 0},\n",
       "  'useful_count': 5779,\n",
       "  'author': {'uid': '185167090',\n",
       "   'avatar': 'https://img3.doubanio.com/icon/u185167090-2.jpg',\n",
       "   'signature': '',\n",
       "   'alt': 'https://www.douban.com/people/185167090/',\n",
       "   'id': '185167090',\n",
       "   'name': 'LUCIFER'},\n",
       "  'subject_id': '26266893',\n",
       "  'content': '新时代特色社会主义硬核科幻(科幻的核心在于探索发问，而不是去解释回答，这样的作品属于玄幻)',\n",
       "  'created_at': '2019-02-05 01:50:41',\n",
       "  'id': '1655576444'},\n",
       " {'rating': {'max': 5, 'value': 5.0, 'min': 0},\n",
       "  'useful_count': 5957,\n",
       "  'author': {'uid': 'yimaxxduck',\n",
       "   'avatar': 'https://img1.doubanio.com/icon/u27405327-58.jpg',\n",
       "   'signature': '微信公众号：姨妈的鸭，能掐会嘎',\n",
       "   'alt': 'https://www.douban.com/people/yimaxxduck/',\n",
       "   'id': '27405327',\n",
       "   'name': '姨妈的鸭'},\n",
       "  'subject_id': '26266893',\n",
       "  'content': '春节期间最大的一场烟花，是看你爸为你和地球点燃的宇宙爆炸，太朋克了。',\n",
       "  'created_at': '2019-02-05 16:51:54',\n",
       "  'id': '1656206399'},\n",
       " {'rating': {'max': 5, 'value': 1.0, 'min': 0},\n",
       "  'useful_count': 5888,\n",
       "  'author': {'uid': '143917707',\n",
       "   'avatar': 'https://img3.doubanio.com/icon/u143917707-22.jpg',\n",
       "   'signature': '究天人之际   通古今之变',\n",
       "   'alt': 'https://www.douban.com/people/143917707/',\n",
       "   'id': '143917707',\n",
       "   'name': '半藏'},\n",
       "  'subject_id': '26266893',\n",
       "  'content': '一分。画面分。\\n在一个烧石头都能做热核聚变的高科技时代，会搞不清楚发动机的工作条件导致集体熄火拉全人类去死？这是侮辱全人类工程技术人员和科学家的智商，被否定的方案能够实现，说明以前的预演就是放屁，如何把方案做得完美压根就不合格，可靠性，可行性是怎么验证的，此路不通也就没有别的补充方案了。科幻并不缺乏大场面的制作，虽然早已审美疲劳了，最大问题是脑残的剧情，它和你讲情怀和想象，我只能摇摇头。战狼京出现的违和感，让我有点想起当年芮成钢的名言“我代表亚洲”，除了画面科幻，就一意淫片。还有，并不是讲国内出了个能看的科幻片就必须鼓励大于批评给个五分。',\n",
       "  'created_at': '2019-02-05 01:42:18',\n",
       "  'id': '1655571554'}]"
      ]
     },
     "execution_count": 17,
     "metadata": {},
     "output_type": "execute_result"
    }
   ],
   "source": [
    "import json\n",
    "import requests\n",
    "# 26266893 为国产科幻佳作《流浪地球》，在此以《流浪地球》的影评为例\n",
    "res = requests.get(\n",
    "    'https://api.douban.com/v2/movie/subject/26266893/comments?apikey=0df993c66c0c636e29ecbb5344252a4a')\n",
    "comments = json.loads(res.content.decode('utf-8'))['comments']\n",
    "comments"
   ]
  },
  {
   "cell_type": "code",
   "execution_count": 18,
   "metadata": {},
   "outputs": [],
   "source": [
    "def predict_comments(comments):\n",
    "    test_comment = random.choice(comments)\n",
    "# 选择其中一条分类，并去除非中文字符\n",
    "    content = clean_str(test_comment['content'])\n",
    "    rating = test_comment['rating']['value']\n",
    "# 对评论分词\n",
    "    seg_list = jieba.cut(content, cut_all=False, HMM=True)\n",
    "# 去掉停用词和无意义的\n",
    "    cut_content = ' '.join([x.strip('\\n')\n",
    "                        for x in seg_list if x not in stopwords and len(x) > 1])\n",
    "\n",
    "# 转化为特征向量\n",
    "    one_test_data = vectorizer.transform([cut_content])\n",
    "\n",
    "# 转化为 pytorch 输入的 Tensor 数据，squeeze(0) 增加一个 batch 维度\n",
    "    one_test_data = torch.from_numpy(one_test_data.toarray()).unsqueeze(0)\n",
    "# 使用准确度最好的模型预测，softmax 处理输出概率，取得最大概率的下标再加 1 则为预测的标签\n",
    "    pred = torch.argmax(F.softmax(best_model(one_test_data), dim=1)) + 1\n",
    "    pred = pred.item()\n",
    "    \n",
    "    if pred==1:\n",
    "        pred='差评1'\n",
    "    else:\n",
    "        pred='好评2'\n",
    "        \n",
    "    if rating<3:\n",
    "        rat='差评1'\n",
    "    else:\n",
    "        rat='好评2'\n",
    "    print('评论内容: ',content)\n",
    "    print('关键字: ',cut_content)\n",
    "    print('观众评价: ',rat)\n",
    "    print('预测评价: ',pred)"
   ]
  },
  {
   "cell_type": "markdown",
   "metadata": {},
   "source": [
    "上面依次输出了评论内容、关键字、观众评价、预测评价。接下来，我们测试基于评论预测该观众的最终评分。"
   ]
  },
  {
   "cell_type": "code",
   "execution_count": 19,
   "metadata": {},
   "outputs": [
    {
     "name": "stdout",
     "output_type": "stream",
     "text": [
      "观后感:  0\n",
      "评论内容:  充斥着模仿的痕迹某些镜头直接地心引力同款另外就是画质极渣的摄影以及播放卡顿宏大主题配以乡土气十足的人设情感以及地下小镇式场景中段的冗长更是让人疲惫倒是现象级的吴京带来现象级的吹捧狂潮惊到我了\n",
      "关键字:  充斥 模仿 痕迹 镜头 地心引力 同款 画质 极渣 摄影 播放 卡顿 宏大 主题 配以 乡土气 十足 人设 情感 地下 小镇 场景 中段 冗长 更是 疲惫 现象 吴京 带来 现象 吹捧 狂潮 惊到\n",
      "观众评价:  差评1\n",
      "预测评价:  差评1\n",
      "None\n",
      "观后感:  1\n",
      "评论内容:  野心远远大于能力的作品大刘小说打底导演用影视化视觉实现了大部分想象敢想敢做远超预期牛但也仅自于此了故事一塌糊涂世界观做的如此粗糙叙事完全不讲逻辑人物动机行为全都莫名其妙不能理解台词在电影里算的上数一数二的烂最恶心的是国人文化自豪情绪被名目张胆刺裸裸的利用成商业行为明明稍微用点心思就可以更好一点偏不导演编剧仿佛在对你说故事差不多得了太深了他们看不懂就是要俗气直白最要紧的是中国人要拯救地球吴京要操翻世界联合政府中国就爱看这个中国人就只配看这样的科幻故事对啊看看这些评论就只配看这样的科幻故事白瞎了这样的制作白瞎了中国人自己的硬科团队\n",
      "关键字:  野心 远远 大于 能力 作品 小说 打底 导演 影视 视觉 大部分 想象 远超 预期 自于 故事 一塌糊涂 世界观 粗糙 叙事 逻辑 人物 动机 莫名其妙 理解 台词 电影 里算 数一数二 恶心 国人 文化 自豪 情绪 名目 张胆 利用 商业行为 明明 稍微 用点 心思 更好 一点 导演 编剧 仿佛 故事 太深 看不懂 俗气 直白 要紧 中国 人要 拯救 地球 吴京要 操翻 世界 联合政府 中国 爱看 中国 只配 科幻 故事 评论 只配 科幻 故事 制作 中国 硬科 团队\n",
      "观众评价:  差评1\n",
      "预测评价:  差评1\n",
      "None\n",
      "观后感:  2\n",
      "评论内容:  中国导演能拍出这样的硬科幻看到这样的完成度想想就激动可以让人原谅一切不完美说这部电影是中国科幻电影的元年自然是站不住脚毕竟国内早就拍过很多软科幻但说流浪地球是中国硬科幻电影的第一座里程碑或者说中国硬科幻电影的元年这是任何人都无可反驳的它的工业化程度在国内绝对是前所未有的是一部可以载入中国电影史的电影其实中国观众对于这类型的硬科幻并不陌生只是国内一直没有拍摄这种硬科幻大制作的工业基础也可能是因为中国人没有这样的文化自信找不到中国独有的文化语境并不相信中国人可以去拯救地球拯救世界直到今天终于有导演做了这件事情而且做的非常棒给中国的硬科幻竖起了一个很高的行业标杆在中国人的文化语境里用中国人的方式拯救全人类也一样可以拍的毫无违和感一样燃爆\n",
      "关键字:  中国 导演 拍出 科幻 完成度 想想 激动 原谅 完美 这部 电影 中国 科幻电影 元年 自然 站不住脚 国内 早就 拍过 科幻 流浪 地球 中国 科幻电影 第一座 里程碑 或者说 中国 科幻电影 元年 这是 任何人 无可反驳 工业化 程度 国内 前所未有 一部 载入 中国 电影史 电影 中国 观众 类型 科幻 陌生 国内 拍摄 科幻 制作 工业 基础 是因为 中国 文化 自信 不到 中国 独有 文化 语境 中国 拯救 地球 拯救 世界 终于 导演 这件 事情 中国 科幻 竖起 行业 标杆 中国 文化 语境 中国 方式 拯救 全人类 违和感 燃爆\n",
      "观众评价:  好评2\n",
      "预测评价:  好评2\n",
      "None\n",
      "观后感:  3\n",
      "评论内容:  台词做作剧情薄弱没一个演员在线无时无刻的尬笑走心台词还以为编剧是激素泛滥的中年少女感觉看了一部战狼最后小女生用一篇激情澎湃的即兴小学生作文感动了全球救援队中国梦实现了\n",
      "关键字:  台词 做作 剧情 薄弱 演员 在线 无时无刻 走心 台词 编剧 激素 泛滥 中年 少女 感觉 一部 战狼 小女生 一篇 激情 澎湃 即兴 小学生 作文 感动 全球 救援队 中国\n",
      "观众评价:  差评1\n",
      "预测评价:  差评1\n",
      "None\n",
      "观后感:  4\n",
      "评论内容:  还能更土更儿戏一点吗毫无思考仅靠煽动毫无敬畏仅余妄想好的科幻片应该首先承认人类的无知并跳出人类的视角去看待人与宇宙的关系而不是一头扎入狭隘的家庭纠纷与大国情怀中自作聪明自我感动被吹到不行的特效如同导演抡圆了膀子朝观众脸上砸各种金银珠宝闪到不行但全无美感有人说作为中国第一部硬科幻电影不要跟美国比只想说这宣传攻势票房体量已经超越大多数好莱坞商业大片了凭啥不能和人家比所以评价流浪地球很简单你把片中所有角色换成美国人然后再想想自己愿意打几星\n",
      "关键字:  儿戏 一点 思考 仅靠 煽动 敬畏 仅余 妄想 科幻片 承认 人类 无知 跳出 人类 视角 看待 宇宙 关系 一头 扎入 狭隘 家庭 纠纷 国情 怀中 自作聪明 自我 感动 不行 特效 导演 膀子 观众 脸上 金银珠宝 闪到 不行 但全 美感 有人 中国 第一部 科幻电影 美国 宣传攻势 票房 体量 超越 好莱坞 商业 大片 评价 流浪 地球 简单 片中 角色 换成 美国 想想 几星\n",
      "观众评价:  差评1\n",
      "预测评价:  差评1\n",
      "None\n"
     ]
    }
   ],
   "source": [
    "for i in range(5):\n",
    "    print('观后感: ',i)\n",
    "    print(predict_comments(comments))"
   ]
  },
  {
   "cell_type": "markdown",
   "metadata": {},
   "source": [
    "#### 可以看到，我们使用17年的影评来预测19年新上映的电影效果也是非常不错，我们随机抽取的这几条影评全部预测正确，这说明我们的模型虽然很简单，但是泛化能力还不错。"
   ]
  }
 ],
 "metadata": {
  "hide_input": false,
  "kernelspec": {
   "display_name": "Python 3",
   "language": "python",
   "name": "python3"
  },
  "language_info": {
   "codemirror_mode": {
    "name": "ipython",
    "version": 3
   },
   "file_extension": ".py",
   "mimetype": "text/x-python",
   "name": "python",
   "nbconvert_exporter": "python",
   "pygments_lexer": "ipython3",
   "version": "3.6.8"
  },
  "toc": {
   "base_numbering": 1,
   "nav_menu": {},
   "number_sections": true,
   "sideBar": true,
   "skip_h1_title": false,
   "title_cell": "Table of Contents",
   "title_sidebar": "Contents",
   "toc_cell": false,
   "toc_position": {
    "height": "calc(100% - 180px)",
    "left": "10px",
    "top": "150px",
    "width": "512px"
   },
   "toc_section_display": true,
   "toc_window_display": true
  },
  "varInspector": {
   "cols": {
    "lenName": 16,
    "lenType": 16,
    "lenVar": 40
   },
   "kernels_config": {
    "python": {
     "delete_cmd_postfix": "",
     "delete_cmd_prefix": "del ",
     "library": "var_list.py",
     "varRefreshCmd": "print(var_dic_list())"
    },
    "r": {
     "delete_cmd_postfix": ") ",
     "delete_cmd_prefix": "rm(",
     "library": "var_list.r",
     "varRefreshCmd": "cat(var_dic_list()) "
    }
   },
   "types_to_exclude": [
    "module",
    "function",
    "builtin_function_or_method",
    "instance",
    "_Feature"
   ],
   "window_display": false
  }
 },
 "nbformat": 4,
 "nbformat_minor": 2
}
